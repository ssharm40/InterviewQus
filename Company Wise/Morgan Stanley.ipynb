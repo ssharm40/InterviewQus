{
 "cells": [
  {
   "cell_type": "markdown",
   "id": "c7d22ea3",
   "metadata": {},
   "source": [
    "### SQL Query\n",
    "\n",
    "**Grade Table**\n",
    "Grades           Marks\n",
    "A+               90\n",
    "A                80\n",
    "B                70\n",
    "C                60 \n",
    "\n",
    "\n",
    "**Student**\n",
    "\n",
    "RollNo   Name    Marks\n",
    "1       Nitin     86\n",
    "2       Pranshu   78 \n",
    "3       Rohan     64 \n",
    "4       Vijay     68\n",
    "5       Divya     72\n",
    "5       Sonam     99\n",
    "\n",
    "\n"
   ]
  },
  {
   "cell_type": "code",
   "execution_count": null,
   "id": "d4782c41",
   "metadata": {},
   "outputs": [],
   "source": [
    "# Need to know the grade in respect to Marks Column\n",
    "# Output should be in these columns==>                  Name     Marks    Grades"
   ]
  },
  {
   "cell_type": "code",
   "execution_count": null,
   "id": "908384e2",
   "metadata": {},
   "outputs": [],
   "source": [
    "# Ans need to do"
   ]
  },
  {
   "cell_type": "code",
   "execution_count": null,
   "id": "00e419a3",
   "metadata": {},
   "outputs": [],
   "source": []
  },
  {
   "cell_type": "markdown",
   "id": "00f41148",
   "metadata": {},
   "source": [
    "### Next Qus\n",
    "\n",
    "**Std table**\n",
    "Stid     Active     Score     Class\n",
    "1         No         50         1\n",
    "2         Yes        60         1\n",
    "1         Yes        40         2\n",
    "2         Yes        30         2\n",
    "3         No         10         2\n",
    "4         Yes        20         2\n",
    "\n",
    "\n",
    "\n",
    "Output- \n",
    "Class    TotalScore\n",
    "1            60\n",
    "2            90\n",
    "\n",
    "\n"
   ]
  },
  {
   "cell_type": "code",
   "execution_count": 1,
   "id": "cbccd7f6",
   "metadata": {},
   "outputs": [],
   "source": [
    "# Let's first do this by pandas\n",
    "import pandas as pd\n",
    "\n",
    "d={'Stid':[1,2,1,2,3,4], 'Active':['No', 'Yes', 'Yes', 'Yes', 'No' ,'Yes'], 'Score':[50,60,40,30,10,20], 'Class':[1,1,2,2,2,2]}\n",
    "\n",
    "df=pd.DataFrame(d)\n",
    "\n"
   ]
  },
  {
   "cell_type": "code",
   "execution_count": 2,
   "id": "9cfdd61a",
   "metadata": {},
   "outputs": [
    {
     "data": {
      "text/html": [
       "<div>\n",
       "<style scoped>\n",
       "    .dataframe tbody tr th:only-of-type {\n",
       "        vertical-align: middle;\n",
       "    }\n",
       "\n",
       "    .dataframe tbody tr th {\n",
       "        vertical-align: top;\n",
       "    }\n",
       "\n",
       "    .dataframe thead th {\n",
       "        text-align: right;\n",
       "    }\n",
       "</style>\n",
       "<table border=\"1\" class=\"dataframe\">\n",
       "  <thead>\n",
       "    <tr style=\"text-align: right;\">\n",
       "      <th></th>\n",
       "      <th>Stid</th>\n",
       "      <th>Active</th>\n",
       "      <th>Score</th>\n",
       "      <th>Class</th>\n",
       "    </tr>\n",
       "  </thead>\n",
       "  <tbody>\n",
       "    <tr>\n",
       "      <th>0</th>\n",
       "      <td>1</td>\n",
       "      <td>No</td>\n",
       "      <td>50</td>\n",
       "      <td>1</td>\n",
       "    </tr>\n",
       "    <tr>\n",
       "      <th>1</th>\n",
       "      <td>2</td>\n",
       "      <td>Yes</td>\n",
       "      <td>60</td>\n",
       "      <td>1</td>\n",
       "    </tr>\n",
       "    <tr>\n",
       "      <th>2</th>\n",
       "      <td>1</td>\n",
       "      <td>Yes</td>\n",
       "      <td>40</td>\n",
       "      <td>2</td>\n",
       "    </tr>\n",
       "    <tr>\n",
       "      <th>3</th>\n",
       "      <td>2</td>\n",
       "      <td>Yes</td>\n",
       "      <td>30</td>\n",
       "      <td>2</td>\n",
       "    </tr>\n",
       "    <tr>\n",
       "      <th>4</th>\n",
       "      <td>3</td>\n",
       "      <td>No</td>\n",
       "      <td>10</td>\n",
       "      <td>2</td>\n",
       "    </tr>\n",
       "  </tbody>\n",
       "</table>\n",
       "</div>"
      ],
      "text/plain": [
       "   Stid Active  Score  Class\n",
       "0     1     No     50      1\n",
       "1     2    Yes     60      1\n",
       "2     1    Yes     40      2\n",
       "3     2    Yes     30      2\n",
       "4     3     No     10      2"
      ]
     },
     "execution_count": 2,
     "metadata": {},
     "output_type": "execute_result"
    }
   ],
   "source": [
    "df.head()"
   ]
  },
  {
   "cell_type": "code",
   "execution_count": 5,
   "id": "4068ca89",
   "metadata": {},
   "outputs": [
    {
     "data": {
      "text/plain": [
       "Class  Active\n",
       "1      Yes       60\n",
       "2      Yes       90\n",
       "Name: Score, dtype: int64"
      ]
     },
     "execution_count": 5,
     "metadata": {},
     "output_type": "execute_result"
    }
   ],
   "source": [
    "df[df.Active=='Yes'].groupby(['Class', 'Active'])['Score'].agg(sum)"
   ]
  },
  {
   "cell_type": "code",
   "execution_count": null,
   "id": "8da61233",
   "metadata": {},
   "outputs": [],
   "source": [
    "# By SQL\n",
    "\n"
   ]
  },
  {
   "cell_type": "code",
   "execution_count": null,
   "id": "67e639ca",
   "metadata": {},
   "outputs": [],
   "source": [
    "# Indexing in SQL:\n",
    "It's provides a quick look up of data \n",
    "Index can't be duplicate \n",
    "\n",
    "If there is no index on any column in the Where clause, then SQL need to go throgh the entire table and \n",
    "check each and every row tofind matches, which might result in slow operation for big data set\n"
   ]
  },
  {
   "cell_type": "code",
   "execution_count": null,
   "id": "1635db8b",
   "metadata": {},
   "outputs": [],
   "source": []
  },
  {
   "cell_type": "code",
   "execution_count": null,
   "id": "5841e6ea",
   "metadata": {},
   "outputs": [],
   "source": []
  }
 ],
 "metadata": {
  "kernelspec": {
   "display_name": "Python 3",
   "language": "python",
   "name": "python3"
  },
  "language_info": {
   "codemirror_mode": {
    "name": "ipython",
    "version": 3
   },
   "file_extension": ".py",
   "mimetype": "text/x-python",
   "name": "python",
   "nbconvert_exporter": "python",
   "pygments_lexer": "ipython3",
   "version": "3.7.3"
  }
 },
 "nbformat": 4,
 "nbformat_minor": 5
}
