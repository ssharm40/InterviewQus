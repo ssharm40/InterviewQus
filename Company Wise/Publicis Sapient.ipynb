{
 "cells": [
  {
   "cell_type": "code",
   "execution_count": 2,
   "id": "8dc478de",
   "metadata": {},
   "outputs": [
    {
     "data": {
      "text/plain": [
       "[1, 8, 27, 64, 125, 216, -1]"
      ]
     },
     "execution_count": 2,
     "metadata": {},
     "output_type": "execute_result"
    }
   ],
   "source": [
    "# Given list, and find their cube\n",
    "l=[1,2,3,4,5,6, -1]\n",
    "ans=[]\n",
    "for i in l:\n",
    "    ans.append(i**3)\n",
    "    \n",
    "ans    \n",
    "    \n",
    "\n"
   ]
  },
  {
   "cell_type": "code",
   "execution_count": 3,
   "id": "2abf018f",
   "metadata": {},
   "outputs": [
    {
     "name": "stdout",
     "output_type": "stream",
     "text": [
      "[-1, 1, 2, 3, 5, 6, 45, 78, 454]\n"
     ]
    }
   ],
   "source": [
    "# Sort a list without using sort function\n",
    "\n",
    "l=[1,45,2,3,454,78,5,6, -1]\n",
    "\n",
    "for i in range(1,len(l)):\n",
    "    for j in range(i-1, -1,-1):\n",
    "        if l[i]<l[j]:\n",
    "            l[i], l[j]= l[j], l[i]\n",
    "            i=i-1\n",
    "    \n",
    "print(l)"
   ]
  },
  {
   "cell_type": "code",
   "execution_count": null,
   "id": "da0adb0b",
   "metadata": {},
   "outputs": [],
   "source": []
  },
  {
   "cell_type": "markdown",
   "id": "22f3f0c3",
   "metadata": {},
   "source": [
    "## eval\n",
    "\n",
    "\n",
    "eval()====> allows you to evaluate python expression from a string based\n",
    "-> It will be usefull when you are trying to dynamically evaluate Python expression \n",
    "\n",
    "**Syntax**:\n",
    "eval(expression, globals, locals)\n",
    "\n",
    "\n",
    "**Parameter              Description**\n",
    "  expresion              A String, that will be evaluated as Python Code\n",
    "  globals                Optional. A dict that contain global parameter\n",
    "  locals                 Optional. A dict that contains local parameter\n",
    "  \n",
    "  "
   ]
  },
  {
   "cell_type": "code",
   "execution_count": 1,
   "id": "2c6163ae",
   "metadata": {},
   "outputs": [
    {
     "data": {
      "text/plain": [
       "6"
      ]
     },
     "execution_count": 1,
     "metadata": {},
     "output_type": "execute_result"
    }
   ],
   "source": [
    "eval(\"2 * 3\")"
   ]
  },
  {
   "cell_type": "code",
   "execution_count": 3,
   "id": "4853405b",
   "metadata": {},
   "outputs": [
    {
     "data": {
      "text/plain": [
       "8"
      ]
     },
     "execution_count": 3,
     "metadata": {},
     "output_type": "execute_result"
    }
   ],
   "source": [
    "eval(\"2 ** 3\")"
   ]
  },
  {
   "cell_type": "code",
   "execution_count": 4,
   "id": "3ae186f0",
   "metadata": {},
   "outputs": [
    {
     "data": {
      "text/plain": [
       "16"
      ]
     },
     "execution_count": 4,
     "metadata": {},
     "output_type": "execute_result"
    }
   ],
   "source": [
    "eval(\"2+3-1+6*2\")"
   ]
  },
  {
   "cell_type": "code",
   "execution_count": 6,
   "id": "ba0be831",
   "metadata": {},
   "outputs": [
    {
     "name": "stdout",
     "output_type": "stream",
     "text": [
      "7\n"
     ]
    }
   ],
   "source": [
    "## Define a function that take two no. as an argument and an operator as an argument. Evaluate the result accordingly\n",
    "\n",
    "def fun(x,y,o):\n",
    "    ans= eval(str(x)+str(o)+str(y))\n",
    "    return ans\n",
    "\n",
    "o1= fun(2,5,'+')\n",
    "print(o1)\n"
   ]
  },
  {
   "cell_type": "code",
   "execution_count": 11,
   "id": "ac082409",
   "metadata": {},
   "outputs": [],
   "source": [
    "## Copy line from hello.txt to hello2.txt containing 'nitin'\n",
    "\n",
    "with open(\"hello1.txt\", 'r') as f:\n",
    "    detail= f.readlines()\n",
    "\n",
    "\n",
    "with open(\"hello2.txt\", 'w') as f:\n",
    "    for i in detail:\n",
    "        if \"Shubham\" in i:\n",
    "            f.write(i)\n",
    "    \n",
    "    "
   ]
  },
  {
   "cell_type": "code",
   "execution_count": 14,
   "id": "76aa1899",
   "metadata": {},
   "outputs": [],
   "source": [
    "# one more way to do this\n",
    "with open('hello1.txt', 'r') as f1, open('hello3.txt', 'w') as f2:\n",
    "    details= f1.readlines()\n",
    "    for line in details:\n",
    "        if \"shubham\" in line:\n",
    "            f2.write(line)\n",
    "        \n"
   ]
  },
  {
   "cell_type": "code",
   "execution_count": null,
   "id": "56b0fc02",
   "metadata": {},
   "outputs": [],
   "source": [
    "# Multiple Inheritance\n",
    "# Where a class is drived from more than one class.\n",
    "# Drived class inherit all the properties of base class\n",
    "\n",
    "#  Base1                          Base2\n",
    "#           Drived(Base1, Base2)\n",
    "         \n",
    "         \n",
    "\n",
    "class A:\n",
    "    def abc(self):\n",
    "        print(\"This is A\")\n",
    "       \n",
    "class B(A):\n",
    "    def abc(self):\n",
    "        print(\"This is B\")\n",
    "       \n",
    "class C(A):\n",
    "    def abc(self):\n",
    "        print(\"This is C\")\n",
    "        super().abc()\n",
    "       \n",
    "class D(C,B):\n",
    "    pass\n",
    "\n",
    "obj=D()\n",
    "obj.abc()\n",
    "\n"
   ]
  },
  {
   "cell_type": "code",
   "execution_count": null,
   "id": "0bd81eac",
   "metadata": {},
   "outputs": [],
   "source": [
    "# Abstraction\n",
    "# is used to hide the data so that only relevant information is visible.\n",
    "# In abstract class you will create only method of body only then these will be defined in base class\n",
    "# Exp- You can give the example of TV remote- you have only the front end detail, you don't know\n",
    "# what is happening in back end\n",
    "\n",
    "\n",
    "\n",
    "from abc import ABC, abstractmethod\n",
    "\n",
    "class A(ABC):\n",
    "    @abstractmethod\n",
    "    def shape(self):\n",
    "        pass\n",
    "   \n",
    "class B(A):\n",
    "    def shape(self):\n",
    "        print(\"This is B\")\n",
    "       \n",
    "       \n",
    "class C(A):\n",
    "    def shape(self):\n",
    "        print(\"This is C\")\n",
    "       \n",
    "obj=B()\n",
    "obj.shape()\n",
    "\n",
    "obj1=C()\n",
    "obj1.shape()\n",
    "\n",
    "\n"
   ]
  },
  {
   "cell_type": "code",
   "execution_count": null,
   "id": "5427b539",
   "metadata": {},
   "outputs": [],
   "source": [
    "# Diff between class method an and static method\n",
    "'''\n",
    "Variable-----1) Instance Variable===> Variable that belongs to object\n",
    "             2) Static Varaible=====> Variable that belongs to class, so for each object value will be same.\n",
    "                                      You can call variabkle by method/obj. In both case output will be same\n",
    "                                   \n",
    "                                   \n",
    "Methods------1) Instance Method ====> Normal method that we create in class by passing self method\n",
    "             2) Class Method    ====> will be created by @classmethod decorator.\n",
    "                                      In Instance method we pass object( def fun(self) ). Whereas in class method we pass\n",
    "                                      the class name(   def fun(cls)   ).\n",
    "                                     \n",
    "             3) Static Method   ====>"
   ]
  },
  {
   "cell_type": "code",
   "execution_count": 1,
   "id": "843f40ea",
   "metadata": {},
   "outputs": [
    {
     "name": "stdout",
     "output_type": "stream",
     "text": [
      "Name is Shubham and class is MCA\n",
      "Name is Abhishek and class is MBA\n",
      "Name is Shikha and class is M.Com\n",
      "No of Objects: 3\n"
     ]
    }
   ],
   "source": [
    "# To check how many objecr are created for a class\n",
    "\n",
    "class Student:\n",
    "    no_of_obj=0# Class Variable\n",
    "    def __init__(self,nm,cl):\n",
    "        Student.no_of_obj += 1\n",
    "        self.nm= nm\n",
    "        self.cl= cl\n",
    "       \n",
    "    def show(self):\n",
    "        print(f\"Name is {self.nm} and class is {self.cl}\")\n",
    "       \n",
    "obj1= Student(\"Shubham\", \"MCA\")\n",
    "obj1.show()\n",
    "\n",
    "\n",
    "obj2= Student(\"Abhishek\", \"MBA\")\n",
    "obj2.show()\n",
    "\n",
    "\n",
    "obj3= Student(\"Shikha\", \"M.Com\")\n",
    "obj3.show()\n",
    "\n",
    "print(f\"No of Objects: {Student.no_of_obj}\")\n",
    "\n",
    "\n"
   ]
  },
  {
   "cell_type": "code",
   "execution_count": 2,
   "id": "2f827fbd",
   "metadata": {},
   "outputs": [
    {
     "name": "stdout",
     "output_type": "stream",
     "text": [
      "Name is : Shubham and Class is : MCA\n",
      "Name is : Abhishek and Class is : MBA\n",
      "Name is : Shikha and Class is : M.Com\n",
      "Total no of objects are: 3\n"
     ]
    }
   ],
   "source": [
    "# Or At the same time we can display it by class Method\n",
    "\n",
    "\n",
    "class Student:\n",
    "    no_of_obj=0\n",
    "    def __init__(self,nm,cl):\n",
    "        self.nm= nm\n",
    "        self.cl= cl\n",
    "        Student.no_of_obj+=1\n",
    "   \n",
    "    def show(self):\n",
    "        print(f\"Name is : {self.nm} and Class is : {self.cl}\")\n",
    "       \n",
    "    @classmethod\n",
    "    def count(cls):\n",
    "        print(f\"Total no of objects are: {cls.no_of_obj}\")\n",
    "       \n",
    "       \n",
    "obj1= Student(\"Shubham\", \"MCA\")\n",
    "obj1.show()\n",
    "\n",
    "\n",
    "obj2= Student(\"Abhishek\", \"MBA\")\n",
    "obj2.show()\n",
    "\n",
    "\n",
    "obj3= Student(\"Shikha\", \"M.Com\")\n",
    "obj3.show()\n",
    "\n",
    "\n",
    "Student.count()\n",
    "\n",
    "\n",
    "\n"
   ]
  },
  {
   "cell_type": "code",
   "execution_count": null,
   "id": "05aac981",
   "metadata": {},
   "outputs": [],
   "source": [
    "# Static Methods------\n",
    "# In instance Method first parameter was self\n",
    "# In class Method first parameter was class\n",
    "# In Static method- no parameter is nec\n",
    "\n",
    "\n",
    "class Student:\n",
    "    no_of_obj=0\n",
    "    def __init__(self,nm,cl):\n",
    "        self.nm= nm\n",
    "        self.cl= cl\n",
    "        Student.no_of_obj+=1\n",
    "   \n",
    "    def show(self):\n",
    "        print(f\"Name is : {self.nm} and Class is : {self.cl}\")\n",
    "       \n",
    "   \n",
    "    @staticmethod\n",
    "    def get_age(age):\n",
    "        if age<18:\n",
    "            print(\"Minor\")\n",
    "        else:\n",
    "            print(\"Not Minor\")\n",
    "       \n",
    "obj1= Student(\"Shubham\", \"MCA\")\n",
    "obj1.show()\n"
   ]
  },
  {
   "cell_type": "code",
   "execution_count": null,
   "id": "da31252c",
   "metadata": {},
   "outputs": [],
   "source": [
    "# What if we assign you to diff tech\n",
    "# If this is business requirement then I can do that for a short period of time.\n"
   ]
  },
  {
   "cell_type": "code",
   "execution_count": null,
   "id": "e4fbd1fa",
   "metadata": {},
   "outputs": [],
   "source": []
  },
  {
   "cell_type": "code",
   "execution_count": null,
   "id": "bc56038f",
   "metadata": {},
   "outputs": [],
   "source": []
  },
  {
   "cell_type": "code",
   "execution_count": null,
   "id": "3da0d6b5",
   "metadata": {},
   "outputs": [],
   "source": []
  },
  {
   "cell_type": "code",
   "execution_count": null,
   "id": "e4adb852",
   "metadata": {},
   "outputs": [],
   "source": []
  }
 ],
 "metadata": {
  "kernelspec": {
   "display_name": "Python 3",
   "language": "python",
   "name": "python3"
  },
  "language_info": {
   "codemirror_mode": {
    "name": "ipython",
    "version": 3
   },
   "file_extension": ".py",
   "mimetype": "text/x-python",
   "name": "python",
   "nbconvert_exporter": "python",
   "pygments_lexer": "ipython3",
   "version": "3.7.3"
  }
 },
 "nbformat": 4,
 "nbformat_minor": 5
}
