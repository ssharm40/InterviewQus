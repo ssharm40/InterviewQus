{
 "cells": [
  {
   "cell_type": "code",
   "execution_count": 14,
   "id": "3a50f1bf",
   "metadata": {},
   "outputs": [
    {
     "name": "stdout",
     "output_type": "stream",
     "text": [
      "[1, 2, 3, 5, 7, 11, 13]\n"
     ]
    }
   ],
   "source": [
    "# Check Prime number below that number\n",
    "\n",
    "n=13\n",
    "l=[1,2]\n",
    "for i in range(3, n+1,1):\n",
    "    f=0\n",
    "    for j in range(2,i//2 +1,1 ):\n",
    "        if i%j==0:\n",
    "            f=1\n",
    "    if f==0:\n",
    "        l.append(i)\n",
    "print(l)        \n"
   ]
  },
  {
   "cell_type": "code",
   "execution_count": 1,
   "id": "1a0f89b6",
   "metadata": {},
   "outputs": [
    {
     "name": "stdout",
     "output_type": "stream",
     "text": [
      "[1, 2, 3, 5, 7, 11, 13, 17, 19, 23, 29, 31, 37, 41, 43, 47, 53, 59, 61, 67, 71, 73, 79, 83, 89, 97]\n",
      "Taken Time is:  0.001001119613647461\n"
     ]
    }
   ],
   "source": [
    "# How much time it's taking- For this first we take the time at first and then \n",
    "# after processig and subtract that and you will get the time\n",
    "\n",
    "import time\n",
    "t1=time.time()\n",
    "\n",
    "n=100\n",
    "l=[1,2]\n",
    "for i in range(3, n+1,1):\n",
    "    f=0\n",
    "    for j in range(2,i//2 +1,1 ):\n",
    "        if i%j==0:\n",
    "            f=1\n",
    "    if f==0:\n",
    "        l.append(i)\n",
    "print(l)        \n",
    "print(\"Taken Time is: \", time.time()-t1)\n",
    "\n",
    "\n"
   ]
  },
  {
   "cell_type": "code",
   "execution_count": 17,
   "id": "864c7527",
   "metadata": {},
   "outputs": [
    {
     "name": "stderr",
     "output_type": "stream",
     "text": [
      "UsageError: %%time is a cell magic, but the cell body is empty. Did you mean the line magic %time (single %)?\n"
     ]
    }
   ],
   "source": [
    "If we give you 1 lakh record then how you will do this-----\n",
    "So we can use Multiprocessing concept, here we will diving the no in multiple steps and take the advantage of multiprocessing\n"
   ]
  },
  {
   "cell_type": "code",
   "execution_count": null,
   "id": "13623384",
   "metadata": {},
   "outputs": [],
   "source": [
    "# Abstract Class\n",
    "\n",
    "An abstract is like a blueprint to other class \n",
    "Here you will abstract method and that method must be use in child class\n",
    "Class which contain one or more abstract method known as abstract class"
   ]
  },
  {
   "cell_type": "code",
   "execution_count": 2,
   "id": "29effc7f",
   "metadata": {},
   "outputs": [
    {
     "name": "stdout",
     "output_type": "stream",
     "text": [
      "I have 3 sides\n",
      "I have 5 sides\n"
     ]
    }
   ],
   "source": [
    "from abc import ABC, abstractmethod\n",
    "\n",
    "\n",
    "class Polygon(ABC):\n",
    "    @abstractmethod\n",
    "    def no_of_sides(self):\n",
    "        pass\n",
    "    \n",
    "    \n",
    "class Triangle(Polygon):\n",
    "    # Overriding Abstract Method\n",
    "    def no_of_sides(self):\n",
    "        print(\"I have 3 sides\")\n",
    "        \n",
    "\n",
    "class Pentagon(Polygon):\n",
    "    # Overriding Abstract Method\n",
    "    def no_of_sides(self):\n",
    "        print(\"I have 5 sides\")\n",
    "    \n",
    "    \n",
    "T=Triangle()\n",
    "T.no_of_sides()\n",
    "\n",
    "P=Pentagon()\n",
    "P.no_of_sides()\n",
    "\n"
   ]
  },
  {
   "cell_type": "code",
   "execution_count": null,
   "id": "dd601443",
   "metadata": {},
   "outputs": [],
   "source": [
    "## Abstraction vs Encapsulation\n",
    "\n",
    "Abstraction is use to hide the unnecessary data and withdrawing only relevant data\n",
    "Abstraction will be done by Abstract class or interface\n",
    "Here we will create a abstrat class and define only method body and then define the method in the child class\n",
    "\n",
    "\n",
    "Encapsulation is the process of combining the data and code together in a class\n",
    "In encapsulation we can use private,public, protected method\n",
    "\n",
    "\n",
    "\n"
   ]
  },
  {
   "cell_type": "code",
   "execution_count": null,
   "id": "1d81f7dc",
   "metadata": {},
   "outputs": [],
   "source": [
    "\n",
    "Here data means json doc in postman\n",
    "\n",
    "# What are HTTP method?\n",
    "Get- Read\n",
    "Post- Create\n",
    "Put- Update\n",
    "Delete- delete\n",
    "\n",
    "\n",
    "\n",
    "Get: Get method is use to fetch the data from the server\n",
    "    \n",
    "Post- To Create he data\n",
    "\n",
    "Put- Updating the data\n",
    "\n",
    "Delete- deleting the data\n",
    "\n",
    "\n",
    "\n",
    "\n",
    "We can diving these method into two parts:\n",
    "    1) Safe Method:Means data is not change here\n",
    "        \n",
    "        a) Get- As it's use to read the data only so there will be no change in data. that's why it comes under safe method\n",
    "        \n",
    "        \n",
    "    \n",
    "    2) Unsafe Methods: When data change after processing\n",
    "        \n",
    "        a) Post- Create the data, means you are inserting new record\n",
    "        b) Put- Update the record\n",
    "        c) Delete- Delete the records\n",
    "        \n",
    "        \n",
    "## Put vs Patch :\n",
    "    Both are use for updating the resource\n",
    "    Put is and **Upsert** command means \n",
    "    if record exist:\n",
    "        Update the record\n",
    "    else:\n",
    "        Create the new record\n",
    "    \n",
    "    In Put- We have to send the whole body of the resource to be updated\n",
    "\n",
    "    \n",
    "    {\n",
    "        \n",
    "        \"Name\": \"Shubham\",\n",
    "        \"Last_name\" : \"Sharma\"\n",
    "        \"Age\": 21\n",
    "        \"City\": \"Delhi\"\n",
    "        \n",
    "               \n",
    "    }\n",
    "    \n",
    "    \n",
    "    \n",
    "    \n",
    "    Patch- Here we gives partial body request(Just change few attribute)\n",
    "    \n",
    "    {\n",
    "        \"Name\": \"Shubham\"\n",
    "        \"City\": \"Mumbai\"\n",
    "        \n",
    "        \n",
    "    }\n",
    "\n",
    "    \n",
    "    \n",
    "    \n",
    "Usecase:\n",
    "    We have a table of 100 columns so it will be typical to send all the columns for that table everytime so \n",
    "    in this case we can use patch\n",
    "\n"
   ]
  },
  {
   "cell_type": "code",
   "execution_count": null,
   "id": "61fc256c",
   "metadata": {},
   "outputs": [],
   "source": [
    "LLD and HLD\n",
    "\n",
    "\n"
   ]
  },
  {
   "cell_type": "code",
   "execution_count": null,
   "id": "948ba806",
   "metadata": {},
   "outputs": [],
   "source": [
    "Jira- All the task/bug that assign to us it'son Jeera"
   ]
  },
  {
   "cell_type": "code",
   "execution_count": null,
   "id": "b62525c8",
   "metadata": {},
   "outputs": [],
   "source": []
  },
  {
   "cell_type": "code",
   "execution_count": null,
   "id": "66a4bdb9",
   "metadata": {},
   "outputs": [],
   "source": []
  }
 ],
 "metadata": {
  "kernelspec": {
   "display_name": "Python 3",
   "language": "python",
   "name": "python3"
  },
  "language_info": {
   "codemirror_mode": {
    "name": "ipython",
    "version": 3
   },
   "file_extension": ".py",
   "mimetype": "text/x-python",
   "name": "python",
   "nbconvert_exporter": "python",
   "pygments_lexer": "ipython3",
   "version": "3.7.3"
  }
 },
 "nbformat": 4,
 "nbformat_minor": 5
}
