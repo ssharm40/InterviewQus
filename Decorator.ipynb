{
 "cells": [
  {
   "cell_type": "markdown",
   "id": "6ef413bd",
   "metadata": {},
   "source": [
    "First we understand this-\n",
    "\n",
    "### function copy\n",
    "\n",
    "### closures\n",
    "\n",
    "### decorators"
   ]
  },
  {
   "cell_type": "code",
   "execution_count": null,
   "id": "d766e9e6",
   "metadata": {},
   "outputs": [],
   "source": []
  },
  {
   "cell_type": "markdown",
   "id": "d8e26af5",
   "metadata": {},
   "source": [
    "## Function Copy"
   ]
  },
  {
   "cell_type": "code",
   "execution_count": null,
   "id": "41bc38df",
   "metadata": {},
   "outputs": [],
   "source": []
  },
  {
   "cell_type": "code",
   "execution_count": 9,
   "id": "9ea848c5",
   "metadata": {},
   "outputs": [],
   "source": [
    "def welcome():\n",
    "    return \"Welcome to Python\""
   ]
  },
  {
   "cell_type": "code",
   "execution_count": 10,
   "id": "5a4ed4bf",
   "metadata": {},
   "outputs": [],
   "source": [
    "wel= welcome()"
   ]
  },
  {
   "cell_type": "code",
   "execution_count": 11,
   "id": "ac70363d",
   "metadata": {},
   "outputs": [],
   "source": [
    "del welcome"
   ]
  },
  {
   "cell_type": "code",
   "execution_count": 12,
   "id": "c78d908e",
   "metadata": {},
   "outputs": [
    {
     "data": {
      "text/plain": [
       "'Welcome to Python'"
      ]
     },
     "execution_count": 12,
     "metadata": {},
     "output_type": "execute_result"
    }
   ],
   "source": [
    "wel"
   ]
  },
  {
   "cell_type": "code",
   "execution_count": 13,
   "id": "2d00443f",
   "metadata": {},
   "outputs": [
    {
     "ename": "NameError",
     "evalue": "name 'welcome' is not defined",
     "output_type": "error",
     "traceback": [
      "\u001b[1;31m---------------------------------------------------------------------------\u001b[0m",
      "\u001b[1;31mNameError\u001b[0m                                 Traceback (most recent call last)",
      "\u001b[1;32m<ipython-input-13-5122c6bf1282>\u001b[0m in \u001b[0;36m<module>\u001b[1;34m\u001b[0m\n\u001b[1;32m----> 1\u001b[1;33m \u001b[0mwel2\u001b[0m\u001b[1;33m=\u001b[0m \u001b[0mwelcome\u001b[0m\u001b[1;33m(\u001b[0m\u001b[1;33m)\u001b[0m\u001b[1;33m\u001b[0m\u001b[1;33m\u001b[0m\u001b[0m\n\u001b[0m",
      "\u001b[1;31mNameError\u001b[0m: name 'welcome' is not defined"
     ]
    }
   ],
   "source": [
    "wel2= welcome()"
   ]
  },
  {
   "cell_type": "code",
   "execution_count": null,
   "id": "13ce970b",
   "metadata": {},
   "outputs": [],
   "source": []
  },
  {
   "cell_type": "markdown",
   "id": "65c08773",
   "metadata": {},
   "source": [
    "## Closure\n",
    "Function inside a function\n"
   ]
  },
  {
   "cell_type": "code",
   "execution_count": 23,
   "id": "6c96c241",
   "metadata": {},
   "outputs": [],
   "source": [
    "def main_welcome(msg):\n",
    "    def sub_welcome():\n",
    "        print(\"Welcome to Sub_Welcome\")\n",
    "        print(msg)\n",
    "    return sub_welcome()"
   ]
  },
  {
   "cell_type": "code",
   "execution_count": 25,
   "id": "a0009e3e",
   "metadata": {},
   "outputs": [
    {
     "name": "stdout",
     "output_type": "stream",
     "text": [
      "Welcome to Sub_Welcome\n",
      "Hi Everyone\n"
     ]
    }
   ],
   "source": [
    "main_welcome(\"Hi Everyone\")"
   ]
  },
  {
   "cell_type": "code",
   "execution_count": null,
   "id": "548d4802",
   "metadata": {},
   "outputs": [],
   "source": []
  },
  {
   "cell_type": "code",
   "execution_count": null,
   "id": "02e9010b",
   "metadata": {},
   "outputs": [],
   "source": []
  },
  {
   "cell_type": "markdown",
   "id": "b40a9d0c",
   "metadata": {},
   "source": [
    "# Decorator\n",
    "\n",
    "we passparameter as a function"
   ]
  },
  {
   "cell_type": "code",
   "execution_count": null,
   "id": "e906c1b2",
   "metadata": {},
   "outputs": [],
   "source": []
  },
  {
   "cell_type": "code",
   "execution_count": 28,
   "id": "ab2fe431",
   "metadata": {},
   "outputs": [],
   "source": [
    "def main_welcome(func):\n",
    "    def sub_welcome():\n",
    "        print(\"Hi Bro\")\n",
    "        func(\"I am Here\")\n",
    "        print(\"Bye\")\n",
    "    return sub_welcome()\n"
   ]
  },
  {
   "cell_type": "code",
   "execution_count": 29,
   "id": "a6a29acc",
   "metadata": {},
   "outputs": [
    {
     "name": "stdout",
     "output_type": "stream",
     "text": [
      "Hi Bro\n",
      "I am Here\n",
      "Bye\n"
     ]
    }
   ],
   "source": [
    "main_welcome(print)"
   ]
  },
  {
   "cell_type": "code",
   "execution_count": null,
   "id": "eaa6fc92",
   "metadata": {},
   "outputs": [],
   "source": []
  },
  {
   "cell_type": "code",
   "execution_count": 30,
   "id": "71d2f0dc",
   "metadata": {},
   "outputs": [
    {
     "name": "stdout",
     "output_type": "stream",
     "text": [
      "HI\n",
      "7\n",
      "Bye\n"
     ]
    }
   ],
   "source": [
    "## Exp2- \n",
    "\n",
    "\n",
    "# For checking the len\n",
    "\n",
    "def main_function(func):\n",
    "    def sub_function():\n",
    "        print(\"HI\")\n",
    "        print(func([1,2,3,4,5,6,7]))\n",
    "        print(\"Bye\")\n",
    "        \n",
    "    return sub_function()\n",
    "\n",
    "main_function(len)\n",
    "        "
   ]
  },
  {
   "cell_type": "code",
   "execution_count": 31,
   "id": "55c24528",
   "metadata": {},
   "outputs": [],
   "source": [
    "# Exp3\n",
    "\n",
    "def main_function(func):\n",
    "    def sub_function():\n",
    "        print(\"Hi\")\n",
    "        func()        \n",
    "        print(\"Bye\")\n",
    "    return sub_function()\n",
    "\n",
    "def dec():\n",
    "    print(\"This is my decorator\")\n",
    "\n"
   ]
  },
  {
   "cell_type": "code",
   "execution_count": 32,
   "id": "abec1178",
   "metadata": {},
   "outputs": [
    {
     "name": "stdout",
     "output_type": "stream",
     "text": [
      "Hi\n",
      "This is my decorator\n",
      "Bye\n"
     ]
    }
   ],
   "source": [
    "main_function(dec)"
   ]
  },
  {
   "cell_type": "code",
   "execution_count": 34,
   "id": "b3d9f08e",
   "metadata": {},
   "outputs": [],
   "source": [
    "# Other way to call the decorator\n",
    "def main_function(func):\n",
    "    def sub_function():\n",
    "        print(\"Hi\")\n",
    "        func()        \n",
    "        print(\"Bye\")\n",
    "    return sub_function()\n",
    "\n"
   ]
  },
  {
   "cell_type": "code",
   "execution_count": 35,
   "id": "6d25df8b",
   "metadata": {},
   "outputs": [
    {
     "name": "stdout",
     "output_type": "stream",
     "text": [
      "Hi\n",
      "This is my decorator\n",
      "Bye\n"
     ]
    }
   ],
   "source": [
    "@main_function\n",
    "def dec():\n",
    "    print(\"This is my decorator\")\n"
   ]
  },
  {
   "cell_type": "code",
   "execution_count": null,
   "id": "92f935a3",
   "metadata": {},
   "outputs": [],
   "source": []
  },
  {
   "cell_type": "code",
   "execution_count": null,
   "id": "48871cb1",
   "metadata": {},
   "outputs": [],
   "source": []
  },
  {
   "cell_type": "code",
   "execution_count": null,
   "id": "6e604bd5",
   "metadata": {},
   "outputs": [],
   "source": [
    "Decorrator are very powerfull in python since it allows the prograammer to modify the behaviour of a function or a class.\n",
    "\n"
   ]
  },
  {
   "cell_type": "code",
   "execution_count": null,
   "id": "98c6f1b1",
   "metadata": {},
   "outputs": [],
   "source": [
    "1,2,3,4,5=> 1,4,9,---=? sum()"
   ]
  },
  {
   "cell_type": "code",
   "execution_count": 47,
   "id": "cf7e141d",
   "metadata": {},
   "outputs": [
    {
     "name": "stdout",
     "output_type": "stream",
     "text": [
      "List is       : [1, 2, 3, 4, 5]\n",
      "Sqaure List   : [1, 4, 9, 16, 25]\n",
      "Total is      :  55\n",
      "End\n"
     ]
    }
   ],
   "source": [
    "def main_function(func):\n",
    "    def inner_function():\n",
    "        l=[1,2,3,4,5]\n",
    "        print(\"List is       :\",l)\n",
    "        for i in range(0,len(l)):\n",
    "            l[i]=l[i]**2\n",
    "        print(\"Sqaure List   :\",l)\n",
    "        func(l)\n",
    "        print(\"End\")\n",
    "    return inner_function()    \n",
    "        \n",
    "@main_function        \n",
    "def total(l):\n",
    "    print(\"Total is      : \", sum(l))\n",
    "        \n",
    "            "
   ]
  },
  {
   "cell_type": "code",
   "execution_count": null,
   "id": "c414afad",
   "metadata": {},
   "outputs": [],
   "source": []
  },
  {
   "cell_type": "code",
   "execution_count": 50,
   "id": "47077c33",
   "metadata": {},
   "outputs": [
    {
     "data": {
      "text/plain": [
       "(12, 13)"
      ]
     },
     "execution_count": 50,
     "metadata": {},
     "output_type": "execute_result"
    }
   ],
   "source": [
    "# Add two object\n",
    "\n",
    "\n",
    "class test:\n",
    "    def __init__(self,a,b):\n",
    "        self.a=a\n",
    "        self.b=b\n",
    "        \n",
    "    def __add__(self,other):\n",
    "        return (self.a+ other.a, self.b+ other.b)\n",
    "        \n",
    "obj1= test(2,3)\n",
    "obj2= test(10,10)\n",
    "\n",
    "obj3= obj1+obj2\n",
    "obj3"
   ]
  },
  {
   "cell_type": "code",
   "execution_count": null,
   "id": "4dca7f1f",
   "metadata": {},
   "outputs": [],
   "source": [
    "class A:\n",
    "    def __init__(self,a,b):\n",
    "        self.a=a\n",
    "        self.b=b\n",
    "    \n",
    "    def __add__(self,other):\n",
    "        return (self.a+other.a, self.b+other.b)\n",
    "    \n",
    "obj1="
   ]
  },
  {
   "cell_type": "code",
   "execution_count": null,
   "id": "91a38977",
   "metadata": {},
   "outputs": [],
   "source": [
    "def __add__(self, other):\n",
    "    "
   ]
  },
  {
   "cell_type": "code",
   "execution_count": 55,
   "id": "25989288",
   "metadata": {},
   "outputs": [
    {
     "data": {
      "text/plain": [
       "'123dnbjdejddnjdejdhe_dddjd'"
      ]
     },
     "execution_count": 55,
     "metadata": {},
     "output_type": "execute_result"
    }
   ],
   "source": [
    "s1='123&%dnbjdejd dnj dejdhe_)dddjd'\n",
    "\n",
    "# Need to remove special character from the string\n",
    "\n",
    "import re\n",
    "\n",
    "ans= re.sub('\\W+','',s1)\n",
    "ans\n"
   ]
  },
  {
   "cell_type": "code",
   "execution_count": 62,
   "id": "bff2e77e",
   "metadata": {},
   "outputs": [
    {
     "ename": "TypeError",
     "evalue": "unhashable type: 'list'",
     "output_type": "error",
     "traceback": [
      "\u001b[1;31m---------------------------------------------------------------------------\u001b[0m",
      "\u001b[1;31mTypeError\u001b[0m                                 Traceback (most recent call last)",
      "\u001b[1;32m<ipython-input-62-ea6a3ea71064>\u001b[0m in \u001b[0;36m<module>\u001b[1;34m\u001b[0m\n\u001b[0;32m      5\u001b[0m \u001b[0ms\u001b[0m\u001b[1;33m=\u001b[0m\u001b[1;33m{\u001b[0m\u001b[1;36m1\u001b[0m\u001b[1;33m,\u001b[0m\u001b[1;36m2\u001b[0m\u001b[1;33m,\u001b[0m\u001b[1;36m3\u001b[0m\u001b[1;33m,\u001b[0m\u001b[1;33m(\u001b[0m\u001b[1;36m7\u001b[0m\u001b[1;33m,\u001b[0m\u001b[1;36m8\u001b[0m\u001b[1;33m,\u001b[0m\u001b[1;36m9\u001b[0m\u001b[1;33m)\u001b[0m\u001b[1;33m,\u001b[0m\u001b[1;36m55\u001b[0m\u001b[1;33m}\u001b[0m\u001b[1;31m#Working\u001b[0m\u001b[1;33m\u001b[0m\u001b[1;33m\u001b[0m\u001b[0m\n\u001b[0;32m      6\u001b[0m \u001b[1;33m\u001b[0m\u001b[0m\n\u001b[1;32m----> 7\u001b[1;33m \u001b[0ms\u001b[0m\u001b[1;33m=\u001b[0m\u001b[1;33m{\u001b[0m\u001b[1;36m1\u001b[0m\u001b[1;33m,\u001b[0m\u001b[1;36m2\u001b[0m\u001b[1;33m,\u001b[0m\u001b[1;36m3\u001b[0m\u001b[1;33m,\u001b[0m\u001b[1;36m4\u001b[0m\u001b[1;33m,\u001b[0m\u001b[1;33m[\u001b[0m\u001b[1;36m5\u001b[0m\u001b[1;33m,\u001b[0m\u001b[1;36m6\u001b[0m\u001b[1;33m,\u001b[0m\u001b[1;36m7\u001b[0m\u001b[1;33m]\u001b[0m\u001b[1;33m}\u001b[0m\u001b[1;33m\u001b[0m\u001b[1;33m\u001b[0m\u001b[0m\n\u001b[0m\u001b[0;32m      8\u001b[0m \u001b[1;33m\u001b[0m\u001b[0m\n\u001b[0;32m      9\u001b[0m \u001b[0ms\u001b[0m\u001b[1;33m\u001b[0m\u001b[1;33m\u001b[0m\u001b[0m\n",
      "\u001b[1;31mTypeError\u001b[0m: unhashable type: 'list'"
     ]
    }
   ],
   "source": [
    "#Set values\n",
    "s={1,2,3}#Working\n",
    "s={1,2,3,'a',6,'a'}#Working\n",
    "\n",
    "s={1,2,3,(7,8,9),55}#Working\n",
    "\n",
    "\n",
    "\n",
    "# It means we can't give list in set\n",
    "s={1,2,3,4,[5,6,7]}#Not Working\n",
    "\n",
    "\n",
    "\n",
    "s"
   ]
  },
  {
   "cell_type": "code",
   "execution_count": null,
   "id": "bfbabd49",
   "metadata": {},
   "outputs": [],
   "source": []
  },
  {
   "cell_type": "code",
   "execution_count": null,
   "id": "9cb72f66",
   "metadata": {},
   "outputs": [],
   "source": []
  }
 ],
 "metadata": {
  "kernelspec": {
   "display_name": "Python 3",
   "language": "python",
   "name": "python3"
  },
  "language_info": {
   "codemirror_mode": {
    "name": "ipython",
    "version": 3
   },
   "file_extension": ".py",
   "mimetype": "text/x-python",
   "name": "python",
   "nbconvert_exporter": "python",
   "pygments_lexer": "ipython3",
   "version": "3.7.3"
  }
 },
 "nbformat": 4,
 "nbformat_minor": 5
}
