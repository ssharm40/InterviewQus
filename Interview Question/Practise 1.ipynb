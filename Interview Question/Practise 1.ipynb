{
 "cells": [
  {
   "cell_type": "markdown",
   "id": "19b53a08",
   "metadata": {},
   "source": [
    "# Practise\n",
    "\n",
    "### Link- https://www.youtube.com/watch?v=uuhi830wOzs&t=7086s\n"
   ]
  },
  {
   "cell_type": "markdown",
   "id": "1a162ece",
   "metadata": {},
   "source": [
    "**1- Key features of Python**\n",
    "\n",
    "Easy Syntax that's why it's easy to read as well\n",
    "Open Source\n",
    "Freely available\n",
    "Powerful library\n",
    "\n",
    "\n",
    "\n",
    "**2- Keywords**- Reserd words\n",
    "\n",
    "\n",
    "**3- Literals in Python**\n",
    "String\n",
    "Numeric\n",
    "Boolean\n",
    "\n",
    "\n",
    "**Functions in Python**\n",
    "When you want to reuse the code, instead of writing it again and again, you can create a function and use that.\n",
    "\n",
    "\n",
    "\n",
    "**Pandas**- \n",
    "Library in Python\n",
    "provide 2 type of Data Structure- 1) Series                    2)DataFrame\n",
    "\n",
    "\n",
    "\n",
    "\n",
    "\n",
    "\n",
    "\n",
    "\n",
    "\n",
    "\n",
    "\n",
    "\n",
    "\n",
    "\n"
   ]
  },
  {
   "cell_type": "code",
   "execution_count": 3,
   "id": "ec60921a",
   "metadata": {},
   "outputs": [
    {
     "data": {
      "text/plain": [
       "(1, 2, 3, 4, 5, 6, 7, 8)"
      ]
     },
     "execution_count": 3,
     "metadata": {},
     "output_type": "execute_result"
    }
   ],
   "source": [
    "#4- How you concatenate 2 tupes\n",
    "#First concat operation is not possible in existing tuple but you create new tuple by adding the 2 tuple\n",
    "\n",
    "t1=(1,2,3,4)\n",
    "t2=(5,6,7,8)\n",
    "\n",
    "ans= t1+t2\n",
    "ans\n"
   ]
  },
  {
   "cell_type": "code",
   "execution_count": 1,
   "id": "436b5ad6",
   "metadata": {},
   "outputs": [
    {
     "data": {
      "text/plain": [
       "array([[0., 0., 0., 0., 0.],\n",
       "       [0., 0., 0., 0., 0.],\n",
       "       [0., 0., 0., 0., 0.],\n",
       "       [0., 0., 0., 0., 0.],\n",
       "       [0., 0., 0., 0., 0.]])"
      ]
     },
     "execution_count": 1,
     "metadata": {},
     "output_type": "execute_result"
    }
   ],
   "source": [
    "#Initialize a 5*5 numpy array\n",
    "\n",
    "\n",
    "import numpy as np\n",
    "\n",
    "arr=np.zeros((5,5))\n",
    "\n",
    "#arr= np.zeros((5,5), dtype=int)\n",
    "arr"
   ]
  },
  {
   "cell_type": "code",
   "execution_count": 2,
   "id": "d87c0cd9",
   "metadata": {},
   "outputs": [
    {
     "name": "stdout",
     "output_type": "stream",
     "text": [
      "<class 'pandas.core.series.Series'> 0      Data\n",
      "1        is\n",
      "2        No\n",
      "3         1\n",
      "4        in\n",
      "5    Python\n",
      "dtype: object\n"
     ]
    }
   ],
   "source": [
    "# Create a Series\n",
    "\n",
    "import pandas as pd\n",
    "\n",
    "\n",
    "s1= pd.Series([\"Data\", \"is\", \"No\", 1, \"in\", \"Python\"])\n",
    "print(type(s1), s1)"
   ]
  },
  {
   "cell_type": "code",
   "execution_count": 4,
   "id": "00540d64",
   "metadata": {},
   "outputs": [
    {
     "data": {
      "text/html": [
       "<div>\n",
       "<style scoped>\n",
       "    .dataframe tbody tr th:only-of-type {\n",
       "        vertical-align: middle;\n",
       "    }\n",
       "\n",
       "    .dataframe tbody tr th {\n",
       "        vertical-align: top;\n",
       "    }\n",
       "\n",
       "    .dataframe thead th {\n",
       "        text-align: right;\n",
       "    }\n",
       "</style>\n",
       "<table border=\"1\" class=\"dataframe\">\n",
       "  <thead>\n",
       "    <tr style=\"text-align: right;\">\n",
       "      <th></th>\n",
       "      <th>Account</th>\n",
       "      <th>Name</th>\n",
       "      <th>Rep</th>\n",
       "      <th>Manager</th>\n",
       "      <th>Product</th>\n",
       "      <th>Quantity</th>\n",
       "      <th>Price</th>\n",
       "      <th>Status</th>\n",
       "    </tr>\n",
       "  </thead>\n",
       "  <tbody>\n",
       "    <tr>\n",
       "      <th>0</th>\n",
       "      <td>714466</td>\n",
       "      <td>Trantow-Barrows</td>\n",
       "      <td>Craig Booker</td>\n",
       "      <td>Debra Henley</td>\n",
       "      <td>CPU</td>\n",
       "      <td>1</td>\n",
       "      <td>30000</td>\n",
       "      <td>presented</td>\n",
       "    </tr>\n",
       "    <tr>\n",
       "      <th>1</th>\n",
       "      <td>714466</td>\n",
       "      <td>Trantow-Barrows</td>\n",
       "      <td>Craig Booker</td>\n",
       "      <td>Debra Henley</td>\n",
       "      <td>Software</td>\n",
       "      <td>1</td>\n",
       "      <td>10000</td>\n",
       "      <td>presented</td>\n",
       "    </tr>\n",
       "    <tr>\n",
       "      <th>2</th>\n",
       "      <td>714466</td>\n",
       "      <td>Trantow-Barrows</td>\n",
       "      <td>Craig Booker</td>\n",
       "      <td>Debra Henley</td>\n",
       "      <td>Maintenance</td>\n",
       "      <td>2</td>\n",
       "      <td>5000</td>\n",
       "      <td>pending</td>\n",
       "    </tr>\n",
       "    <tr>\n",
       "      <th>3</th>\n",
       "      <td>737550</td>\n",
       "      <td>Fritsch, Russel and Anderson</td>\n",
       "      <td>Craig Booker</td>\n",
       "      <td>Debra Henley</td>\n",
       "      <td>CPU</td>\n",
       "      <td>1</td>\n",
       "      <td>35000</td>\n",
       "      <td>declined</td>\n",
       "    </tr>\n",
       "    <tr>\n",
       "      <th>4</th>\n",
       "      <td>146832</td>\n",
       "      <td>Kiehn-Spinka</td>\n",
       "      <td>Daniel Hilton</td>\n",
       "      <td>Debra Henley</td>\n",
       "      <td>CPU</td>\n",
       "      <td>2</td>\n",
       "      <td>65000</td>\n",
       "      <td>won</td>\n",
       "    </tr>\n",
       "  </tbody>\n",
       "</table>\n",
       "</div>"
      ],
      "text/plain": [
       "   Account                          Name            Rep       Manager  \\\n",
       "0   714466               Trantow-Barrows   Craig Booker  Debra Henley   \n",
       "1   714466               Trantow-Barrows   Craig Booker  Debra Henley   \n",
       "2   714466               Trantow-Barrows   Craig Booker  Debra Henley   \n",
       "3   737550  Fritsch, Russel and Anderson   Craig Booker  Debra Henley   \n",
       "4   146832                  Kiehn-Spinka  Daniel Hilton  Debra Henley   \n",
       "\n",
       "       Product  Quantity  Price     Status  \n",
       "0          CPU         1  30000  presented  \n",
       "1     Software         1  10000  presented  \n",
       "2  Maintenance         2   5000    pending  \n",
       "3          CPU         1  35000   declined  \n",
       "4          CPU         2  65000        won  "
      ]
     },
     "execution_count": 4,
     "metadata": {},
     "output_type": "execute_result"
    }
   ],
   "source": [
    "# Pandas Groupby------- It's used to group by the data based on some entities\n",
    "\n",
    "df= pd.read_excel(\"salesfunnel.xlsx\")\n",
    "df.head()"
   ]
  },
  {
   "cell_type": "code",
   "execution_count": 5,
   "id": "ff04804e",
   "metadata": {},
   "outputs": [
    {
     "data": {
      "text/plain": [
       "Manager        Product    \n",
       "Debra Henley   CPU            205000\n",
       "               Maintenance     10000\n",
       "               Software        20000\n",
       "Fred Anderson  CPU            260000\n",
       "               Maintenance     12000\n",
       "               Monitor          5000\n",
       "               Software        10000\n",
       "Name: Price, dtype: int64"
      ]
     },
     "execution_count": 5,
     "metadata": {},
     "output_type": "execute_result"
    }
   ],
   "source": [
    "\n",
    "df.groupby(['Manager', 'Product'])['Price'].agg(np.sum)"
   ]
  },
  {
   "cell_type": "code",
   "execution_count": null,
   "id": "2693c991",
   "metadata": {},
   "outputs": [],
   "source": []
  },
  {
   "cell_type": "code",
   "execution_count": 6,
   "id": "8d1f0c03",
   "metadata": {},
   "outputs": [
    {
     "data": {
      "text/html": [
       "<div>\n",
       "<style scoped>\n",
       "    .dataframe tbody tr th:only-of-type {\n",
       "        vertical-align: middle;\n",
       "    }\n",
       "\n",
       "    .dataframe tbody tr th {\n",
       "        vertical-align: top;\n",
       "    }\n",
       "\n",
       "    .dataframe thead th {\n",
       "        text-align: right;\n",
       "    }\n",
       "</style>\n",
       "<table border=\"1\" class=\"dataframe\">\n",
       "  <thead>\n",
       "    <tr style=\"text-align: right;\">\n",
       "      <th></th>\n",
       "      <th>Column1</th>\n",
       "      <th>Column2</th>\n",
       "    </tr>\n",
       "  </thead>\n",
       "  <tbody>\n",
       "    <tr>\n",
       "      <th>0</th>\n",
       "      <td>1</td>\n",
       "      <td>6</td>\n",
       "    </tr>\n",
       "    <tr>\n",
       "      <th>1</th>\n",
       "      <td>2</td>\n",
       "      <td>7</td>\n",
       "    </tr>\n",
       "    <tr>\n",
       "      <th>2</th>\n",
       "      <td>3</td>\n",
       "      <td>8</td>\n",
       "    </tr>\n",
       "    <tr>\n",
       "      <th>3</th>\n",
       "      <td>4</td>\n",
       "      <td>9</td>\n",
       "    </tr>\n",
       "    <tr>\n",
       "      <th>4</th>\n",
       "      <td>5</td>\n",
       "      <td>10</td>\n",
       "    </tr>\n",
       "  </tbody>\n",
       "</table>\n",
       "</div>"
      ],
      "text/plain": [
       "   Column1  Column2\n",
       "0        1        6\n",
       "1        2        7\n",
       "2        3        8\n",
       "3        4        9\n",
       "4        5       10"
      ]
     },
     "execution_count": 6,
     "metadata": {},
     "output_type": "execute_result"
    }
   ],
   "source": [
    "# Create DataFrame from List\n",
    "\n",
    "l1=[1,2,3,4,5]\n",
    "l2=[6,7,8,9,10]\n",
    "\n",
    "df=pd.DataFrame()\n",
    "\n",
    "df[\"Column1\"]=l1\n",
    "df[\"Column2\"]=l2\n",
    "df.head()"
   ]
  },
  {
   "cell_type": "code",
   "execution_count": 7,
   "id": "71a6ca3b",
   "metadata": {},
   "outputs": [
    {
     "data": {
      "text/html": [
       "<div>\n",
       "<style scoped>\n",
       "    .dataframe tbody tr th:only-of-type {\n",
       "        vertical-align: middle;\n",
       "    }\n",
       "\n",
       "    .dataframe tbody tr th {\n",
       "        vertical-align: top;\n",
       "    }\n",
       "\n",
       "    .dataframe thead th {\n",
       "        text-align: right;\n",
       "    }\n",
       "</style>\n",
       "<table border=\"1\" class=\"dataframe\">\n",
       "  <thead>\n",
       "    <tr style=\"text-align: right;\">\n",
       "      <th></th>\n",
       "      <th>A</th>\n",
       "      <th>B</th>\n",
       "    </tr>\n",
       "  </thead>\n",
       "  <tbody>\n",
       "    <tr>\n",
       "      <th>0</th>\n",
       "      <td>1</td>\n",
       "      <td>5</td>\n",
       "    </tr>\n",
       "    <tr>\n",
       "      <th>1</th>\n",
       "      <td>2</td>\n",
       "      <td>6</td>\n",
       "    </tr>\n",
       "    <tr>\n",
       "      <th>2</th>\n",
       "      <td>3</td>\n",
       "      <td>7</td>\n",
       "    </tr>\n",
       "    <tr>\n",
       "      <th>3</th>\n",
       "      <td>4</td>\n",
       "      <td>8</td>\n",
       "    </tr>\n",
       "  </tbody>\n",
       "</table>\n",
       "</div>"
      ],
      "text/plain": [
       "   A  B\n",
       "0  1  5\n",
       "1  2  6\n",
       "2  3  7\n",
       "3  4  8"
      ]
     },
     "execution_count": 7,
     "metadata": {},
     "output_type": "execute_result"
    }
   ],
   "source": [
    "# Create DataFrame from dictionary\n",
    "\n",
    "d={\"A\":[1,2,3,4], \"B\":[5,6,7,8]}\n",
    "df=pd.DataFrame(d)\n",
    "df\n"
   ]
  },
  {
   "cell_type": "markdown",
   "id": "2f60ccac",
   "metadata": {},
   "source": [
    "### How to combine DataFrame using Join Function\n",
    "\n",
    "'''\n",
    "join:- When we combine the data from 2 dataframe\n",
    "Join will be done in horizontal manner\n",
    "inner, left, right, full are supported\n",
    "\n",
    "\n",
    "\n",
    "When Data have the same columns then we will use Vertical Scaling-----**Concat** will be use in this case\n",
    "\n",
    "'''\n",
    "\n"
   ]
  },
  {
   "cell_type": "code",
   "execution_count": 9,
   "id": "1936a776",
   "metadata": {},
   "outputs": [
    {
     "name": "stdout",
     "output_type": "stream",
     "text": [
      "    A   B   C\n",
      "0  10  20  30\n",
      "1  11  21  31\n",
      "2  12  22  32\n",
      "3  13  23  33 \n",
      "---------------\n",
      "     A   B   C\n",
      "0  14  18  22\n",
      "1  15  19  23\n",
      "2  16  20  24\n",
      "3  17  21  25\n"
     ]
    }
   ],
   "source": [
    "#Concat-------- Vertical \n",
    "\n",
    "\n",
    "df1= pd.DataFrame({'A':[10,11,12,13], 'B':[20,21,22,23], 'C':[30,31,32,33]})\n",
    "\n",
    "df2= pd.DataFrame({'A':[14,15,16,17], 'B':[18,19,20,21], 'C':[22,23,24,25]})\n",
    "\n",
    "print(df1,'\\n---------------\\n',df2 )"
   ]
  },
  {
   "cell_type": "code",
   "execution_count": 10,
   "id": "adf69662",
   "metadata": {},
   "outputs": [
    {
     "data": {
      "text/html": [
       "<div>\n",
       "<style scoped>\n",
       "    .dataframe tbody tr th:only-of-type {\n",
       "        vertical-align: middle;\n",
       "    }\n",
       "\n",
       "    .dataframe tbody tr th {\n",
       "        vertical-align: top;\n",
       "    }\n",
       "\n",
       "    .dataframe thead th {\n",
       "        text-align: right;\n",
       "    }\n",
       "</style>\n",
       "<table border=\"1\" class=\"dataframe\">\n",
       "  <thead>\n",
       "    <tr style=\"text-align: right;\">\n",
       "      <th></th>\n",
       "      <th>A</th>\n",
       "      <th>B</th>\n",
       "      <th>C</th>\n",
       "    </tr>\n",
       "  </thead>\n",
       "  <tbody>\n",
       "    <tr>\n",
       "      <th>0</th>\n",
       "      <td>10</td>\n",
       "      <td>20</td>\n",
       "      <td>30</td>\n",
       "    </tr>\n",
       "    <tr>\n",
       "      <th>1</th>\n",
       "      <td>11</td>\n",
       "      <td>21</td>\n",
       "      <td>31</td>\n",
       "    </tr>\n",
       "    <tr>\n",
       "      <th>2</th>\n",
       "      <td>12</td>\n",
       "      <td>22</td>\n",
       "      <td>32</td>\n",
       "    </tr>\n",
       "    <tr>\n",
       "      <th>3</th>\n",
       "      <td>13</td>\n",
       "      <td>23</td>\n",
       "      <td>33</td>\n",
       "    </tr>\n",
       "    <tr>\n",
       "      <th>0</th>\n",
       "      <td>14</td>\n",
       "      <td>18</td>\n",
       "      <td>22</td>\n",
       "    </tr>\n",
       "    <tr>\n",
       "      <th>1</th>\n",
       "      <td>15</td>\n",
       "      <td>19</td>\n",
       "      <td>23</td>\n",
       "    </tr>\n",
       "    <tr>\n",
       "      <th>2</th>\n",
       "      <td>16</td>\n",
       "      <td>20</td>\n",
       "      <td>24</td>\n",
       "    </tr>\n",
       "    <tr>\n",
       "      <th>3</th>\n",
       "      <td>17</td>\n",
       "      <td>21</td>\n",
       "      <td>25</td>\n",
       "    </tr>\n",
       "  </tbody>\n",
       "</table>\n",
       "</div>"
      ],
      "text/plain": [
       "    A   B   C\n",
       "0  10  20  30\n",
       "1  11  21  31\n",
       "2  12  22  32\n",
       "3  13  23  33\n",
       "0  14  18  22\n",
       "1  15  19  23\n",
       "2  16  20  24\n",
       "3  17  21  25"
      ]
     },
     "execution_count": 10,
     "metadata": {},
     "output_type": "execute_result"
    }
   ],
   "source": [
    "df= pd.concat([df1,df2])\n",
    "df\n",
    "\n"
   ]
  },
  {
   "cell_type": "code",
   "execution_count": 11,
   "id": "71b9a51f",
   "metadata": {},
   "outputs": [],
   "source": [
    "# Now Let's try to join\n",
    "\n",
    "df1= pd.DataFrame({'A':[10,11,12,13], 'B':[20,21,22,23], 'C':[30,31,32,33]})\n",
    "\n",
    "df2= pd.DataFrame({'D':[14,15,16,17], 'E':[18,19,20,21], 'F':[22,23,24,25]})"
   ]
  },
  {
   "cell_type": "code",
   "execution_count": 12,
   "id": "955e6948",
   "metadata": {},
   "outputs": [
    {
     "data": {
      "text/html": [
       "<div>\n",
       "<style scoped>\n",
       "    .dataframe tbody tr th:only-of-type {\n",
       "        vertical-align: middle;\n",
       "    }\n",
       "\n",
       "    .dataframe tbody tr th {\n",
       "        vertical-align: top;\n",
       "    }\n",
       "\n",
       "    .dataframe thead th {\n",
       "        text-align: right;\n",
       "    }\n",
       "</style>\n",
       "<table border=\"1\" class=\"dataframe\">\n",
       "  <thead>\n",
       "    <tr style=\"text-align: right;\">\n",
       "      <th></th>\n",
       "      <th>A</th>\n",
       "      <th>B</th>\n",
       "      <th>C</th>\n",
       "      <th>D</th>\n",
       "      <th>E</th>\n",
       "      <th>F</th>\n",
       "    </tr>\n",
       "  </thead>\n",
       "  <tbody>\n",
       "    <tr>\n",
       "      <th>0</th>\n",
       "      <td>10</td>\n",
       "      <td>20</td>\n",
       "      <td>30</td>\n",
       "      <td>14</td>\n",
       "      <td>18</td>\n",
       "      <td>22</td>\n",
       "    </tr>\n",
       "    <tr>\n",
       "      <th>1</th>\n",
       "      <td>11</td>\n",
       "      <td>21</td>\n",
       "      <td>31</td>\n",
       "      <td>15</td>\n",
       "      <td>19</td>\n",
       "      <td>23</td>\n",
       "    </tr>\n",
       "    <tr>\n",
       "      <th>2</th>\n",
       "      <td>12</td>\n",
       "      <td>22</td>\n",
       "      <td>32</td>\n",
       "      <td>16</td>\n",
       "      <td>20</td>\n",
       "      <td>24</td>\n",
       "    </tr>\n",
       "    <tr>\n",
       "      <th>3</th>\n",
       "      <td>13</td>\n",
       "      <td>23</td>\n",
       "      <td>33</td>\n",
       "      <td>17</td>\n",
       "      <td>21</td>\n",
       "      <td>25</td>\n",
       "    </tr>\n",
       "  </tbody>\n",
       "</table>\n",
       "</div>"
      ],
      "text/plain": [
       "    A   B   C   D   E   F\n",
       "0  10  20  30  14  18  22\n",
       "1  11  21  31  15  19  23\n",
       "2  12  22  32  16  20  24\n",
       "3  13  23  33  17  21  25"
      ]
     },
     "execution_count": 12,
     "metadata": {},
     "output_type": "execute_result"
    }
   ],
   "source": [
    "df= df1.join(df2)\n",
    "df\n",
    "\n"
   ]
  },
  {
   "cell_type": "code",
   "execution_count": null,
   "id": "71743487",
   "metadata": {},
   "outputs": [],
   "source": []
  },
  {
   "cell_type": "markdown",
   "id": "0f8cbaad",
   "metadata": {},
   "source": [
    "**Drop all rows having nan- **\n",
    "We can use dropna()\n",
    "\n",
    "df.dropna()\n",
    "\n",
    "\n",
    "\n",
    "\n",
    "### Single & Multi Line comments-\n",
    "1) #,\n",
    "\n",
    "2)\n",
    "'''\n",
    "-\n",
    "-\n",
    "'''\n",
    "\n",
    "\n",
    "###  Memory efficient way to add a elemnt in Tuple-\n",
    "No, we can't add any element in tuple as it's immutable\n",
    "\n",
    "\n",
    "\n",
    "### Use of Classifier-\n",
    "\n",
    "Classifier is used to predict the data\n",
    "\n",
    "\n",
    "\n",
    "\n",
    "### bytes()-\n",
    "byte function simpaly return byte object.\n",
    "\n",
    "\n",
    "\n",
    "### with statement:\n",
    "1) It's use for opening a file so that don't need to close it(here you open file with indentation &once you come out from indentation then file is close)\n",
    "\n",
    "2) with statement also used in Exception Handling\n",
    "\n",
    "\n",
    "\n",
    "\n",
    "###  __init__ method in Python?\n",
    "The flow of code is start from the init method\n",
    "It's also known as constructor in the world of oops\n",
    "\n",
    "\n",
    "### Tools to perform statics analysis?\n",
    "Means tools that are helpful to find out the **bugs** in python\n",
    "1) **pychecker**- detects bug from the source code and warn about it style and complexity.\n",
    "\n",
    "2) **pylint**- check whether the module matches up to a set of Coding standard or not.\n",
    "\n",
    "\n",
    "\n",
    "### Use of pass in python?\n",
    "for creating the body of function or loop.\n",
    "\n",
    "\n",
    "### Module and Packages in python-\n",
    "Module is .py file.\n",
    "while when we collection multiple .py files(modules) in a single folder then that folder is known as Package.\n",
    "\n",
    "\n",
    "### Numpy vs Scipy\n",
    "Numpy- Numerical Python----- For defining array and simple mathematic problems\n",
    "\n",
    "Scipy- Scientific Python---- For complex problem like integration or optimiation\n",
    "\n",
    "\n",
    "### Encpasulation in Python-\n",
    "Encapsulation means binding the code and data together\n",
    "Fundamental of OOPS\n",
    "exp- A Python Class\n",
    "\n",
    "\n",
    "\n",
    "\n",
    "### Docstring in Python- \n",
    "a='''  frjifre\n",
    "grtgrk\n",
    "gfkgfrj'''\n",
    "\n",
    "\n",
    "\n",
    "\n",
    "### Delete column by pandas\n",
    "df.drop(['col_name1', 'col_name2'], axis=1)\n",
    "\n",
    "\n",
    "\n",
    "\n",
    "### Remove Space from a String- \n",
    "use **strip()** function\n",
    "s1.replace(' ','')\n",
    "\n",
    "\n",
    "### mode for fileoperation-\n",
    "read only\n",
    "write only\n",
    "read- write\n",
    "append\n",
    "\n",
    "\n",
    "\n",
    "\n",
    "### pickling and unpickling\n",
    "\n",
    "**pickling** is the process of converting a object into byte and vice versa for **unpickling**\n",
    "\n",
    "\n",
    "\n",
    "### how is memory managed in python?\n",
    "memory is manage by private heap and we do not have the authority to check that or make any change. Here all things are automatic.\n",
    "To free up the memory space there is an automatic Garbage Collector\n",
    "\n",
    "\n",
    "\n",
    "### unittest in python\n",
    "it's a unit testing framework in python.\n",
    "\n",
    "\n",
    "\n",
    "\n",
    "### early binding means\n",
    "when you use hard code(not give run time input)\n",
    "\n",
    "\n",
    "\n",
    "### inheritance that not support in Java but support in python?\n",
    "Multiple nheritance\n",
    "\n"
   ]
  },
  {
   "cell_type": "code",
   "execution_count": 13,
   "id": "ce5c744a",
   "metadata": {},
   "outputs": [
    {
     "data": {
      "text/html": [
       "<div>\n",
       "<style scoped>\n",
       "    .dataframe tbody tr th:only-of-type {\n",
       "        vertical-align: middle;\n",
       "    }\n",
       "\n",
       "    .dataframe tbody tr th {\n",
       "        vertical-align: top;\n",
       "    }\n",
       "\n",
       "    .dataframe thead th {\n",
       "        text-align: right;\n",
       "    }\n",
       "</style>\n",
       "<table border=\"1\" class=\"dataframe\">\n",
       "  <thead>\n",
       "    <tr style=\"text-align: right;\">\n",
       "      <th></th>\n",
       "      <th>Bikes</th>\n",
       "      <th>Cars</th>\n",
       "    </tr>\n",
       "  </thead>\n",
       "  <tbody>\n",
       "    <tr>\n",
       "      <th>0</th>\n",
       "      <td>R15</td>\n",
       "      <td>Magnite</td>\n",
       "    </tr>\n",
       "    <tr>\n",
       "      <th>1</th>\n",
       "      <td>KTM</td>\n",
       "      <td>Venue</td>\n",
       "    </tr>\n",
       "    <tr>\n",
       "      <th>2</th>\n",
       "      <td>Pulsar</td>\n",
       "      <td>Creta</td>\n",
       "    </tr>\n",
       "    <tr>\n",
       "      <th>3</th>\n",
       "      <td>Bullet</td>\n",
       "      <td>XUV300</td>\n",
       "    </tr>\n",
       "    <tr>\n",
       "      <th>4</th>\n",
       "      <td>Apache</td>\n",
       "      <td>Nexon</td>\n",
       "    </tr>\n",
       "  </tbody>\n",
       "</table>\n",
       "</div>"
      ],
      "text/plain": [
       "    Bikes     Cars\n",
       "0     R15  Magnite\n",
       "1     KTM    Venue\n",
       "2  Pulsar    Creta\n",
       "3  Bullet   XUV300\n",
       "4  Apache    Nexon"
      ]
     },
     "execution_count": 13,
     "metadata": {},
     "output_type": "execute_result"
    }
   ],
   "source": [
    "#Access Data from a DataFrame using a Value as index-------- For this we can use loc\n",
    "\n",
    "#loc means- index name only\n",
    "\n",
    "df=pd.DataFrame({'Bikes':['R15', 'KTM', 'Pulsar', 'Bullet', 'Apache'], 'Cars':['Magnite', 'Venue', 'Creta', 'XUV300', 'Nexon']})\n",
    "df\n"
   ]
  },
  {
   "cell_type": "code",
   "execution_count": 14,
   "id": "464860ea",
   "metadata": {},
   "outputs": [
    {
     "data": {
      "text/html": [
       "<div>\n",
       "<style scoped>\n",
       "    .dataframe tbody tr th:only-of-type {\n",
       "        vertical-align: middle;\n",
       "    }\n",
       "\n",
       "    .dataframe tbody tr th {\n",
       "        vertical-align: top;\n",
       "    }\n",
       "\n",
       "    .dataframe thead th {\n",
       "        text-align: right;\n",
       "    }\n",
       "</style>\n",
       "<table border=\"1\" class=\"dataframe\">\n",
       "  <thead>\n",
       "    <tr style=\"text-align: right;\">\n",
       "      <th></th>\n",
       "      <th>Bikes</th>\n",
       "      <th>Cars</th>\n",
       "    </tr>\n",
       "  </thead>\n",
       "  <tbody>\n",
       "    <tr>\n",
       "      <th>10</th>\n",
       "      <td>R15</td>\n",
       "      <td>Magnite</td>\n",
       "    </tr>\n",
       "    <tr>\n",
       "      <th>20</th>\n",
       "      <td>KTM</td>\n",
       "      <td>Venue</td>\n",
       "    </tr>\n",
       "    <tr>\n",
       "      <th>30</th>\n",
       "      <td>Pulsar</td>\n",
       "      <td>Creta</td>\n",
       "    </tr>\n",
       "    <tr>\n",
       "      <th>40</th>\n",
       "      <td>Bullet</td>\n",
       "      <td>XUV300</td>\n",
       "    </tr>\n",
       "    <tr>\n",
       "      <th>50</th>\n",
       "      <td>Apache</td>\n",
       "      <td>Nexon</td>\n",
       "    </tr>\n",
       "  </tbody>\n",
       "</table>\n",
       "</div>"
      ],
      "text/plain": [
       "     Bikes     Cars\n",
       "10     R15  Magnite\n",
       "20     KTM    Venue\n",
       "30  Pulsar    Creta\n",
       "40  Bullet   XUV300\n",
       "50  Apache    Nexon"
      ]
     },
     "execution_count": 14,
     "metadata": {},
     "output_type": "execute_result"
    }
   ],
   "source": [
    "#Let's give the index name\n",
    "\n",
    "\n",
    "df.index=[10,20,30,40,50]\n",
    "df.head()"
   ]
  },
  {
   "cell_type": "code",
   "execution_count": 15,
   "id": "d0321ece",
   "metadata": {},
   "outputs": [
    {
     "data": {
      "text/plain": [
       "Bikes        R15\n",
       "Cars     Magnite\n",
       "Name: 10, dtype: object"
      ]
     },
     "execution_count": 15,
     "metadata": {},
     "output_type": "execute_result"
    }
   ],
   "source": [
    "\n",
    "df.loc[10]"
   ]
  },
  {
   "cell_type": "code",
   "execution_count": 16,
   "id": "db23bfb0",
   "metadata": {},
   "outputs": [
    {
     "data": {
      "text/plain": [
       "array([  1,   5,   3, 100,   4,  48])"
      ]
     },
     "execution_count": 16,
     "metadata": {},
     "output_type": "execute_result"
    }
   ],
   "source": [
    "#Find Measure of Central Tendency of numpy array\n",
    "arr= np.array([1,5,3,100,4,48])\n",
    "\n",
    "arr\n"
   ]
  },
  {
   "cell_type": "code",
   "execution_count": 17,
   "id": "8977492e",
   "metadata": {},
   "outputs": [
    {
     "data": {
      "text/plain": [
       "36.59424666377065"
      ]
     },
     "execution_count": 17,
     "metadata": {},
     "output_type": "execute_result"
    }
   ],
   "source": [
    "#np.mean(arr)\n",
    "np.std(arr)"
   ]
  },
  {
   "cell_type": "code",
   "execution_count": 18,
   "id": "38b55551",
   "metadata": {},
   "outputs": [
    {
     "name": "stdout",
     "output_type": "stream",
     "text": [
      "shubham\n"
     ]
    }
   ],
   "source": [
    "# Convert a string into lowercase in python\n",
    "s='ShuBHAM'\n",
    "#s.lower()\n",
    "\n",
    "#And Without function\n",
    "ans=''\n",
    "for i in s:\n",
    "    if ord(i)<97:\n",
    "        temp= chr(ord(i)+32)\n",
    "        ans=ans+temp\n",
    "    else:\n",
    "        ans=ans+i\n",
    "print(ans)        \n",
    "\n"
   ]
  },
  {
   "cell_type": "code",
   "execution_count": 19,
   "id": "8df9a854",
   "metadata": {},
   "outputs": [
    {
     "data": {
      "text/plain": [
       "dict_values([1, 2, 3])"
      ]
     },
     "execution_count": 19,
     "metadata": {},
     "output_type": "execute_result"
    }
   ],
   "source": [
    "# Get all the keys of dictionary\n",
    "d={'A':1, 'B':2, 'C':3}\n",
    "#d.keys()\n",
    "#d.items()\n",
    "d.values()"
   ]
  },
  {
   "cell_type": "code",
   "execution_count": 20,
   "id": "e3cd5022",
   "metadata": {},
   "outputs": [
    {
     "data": {
      "text/plain": [
       "[1, 2, 9, 3, 4, 5, 6, 7]"
      ]
     },
     "execution_count": 20,
     "metadata": {},
     "output_type": "execute_result"
    }
   ],
   "source": [
    "#Insert element at a given index\n",
    "l=[1,2,3,4,5,6,7]\n",
    "l.insert(2, 9)#insert 9 at 2 index\n",
    "l\n",
    "\n"
   ]
  },
  {
   "cell_type": "code",
   "execution_count": 1,
   "id": "3ee4d9b5",
   "metadata": {},
   "outputs": [
    {
     "data": {
      "text/plain": [
       "120"
      ]
     },
     "execution_count": 1,
     "metadata": {},
     "output_type": "execute_result"
    }
   ],
   "source": [
    "#Rec program to print factorial\n",
    "\n",
    "def fac(n):\n",
    "    if n==0:\n",
    "        return 1\n",
    "    else:\n",
    "        return n*fac(n-1)\n",
    "\n",
    "\n",
    "n=5\n",
    "fac(n)\n",
    "\n",
    "\n",
    "\n",
    "\n"
   ]
  },
  {
   "cell_type": "code",
   "execution_count": 5,
   "id": "f9ab04ec",
   "metadata": {},
   "outputs": [
    {
     "name": "stdout",
     "output_type": "stream",
     "text": [
      "12 3 4 6 6 7 65 3 1\n"
     ]
    },
    {
     "data": {
      "text/plain": [
       "[12, 3, 4, 6, 6, 7, 65, 3, 1]"
      ]
     },
     "execution_count": 5,
     "metadata": {},
     "output_type": "execute_result"
    }
   ],
   "source": [
    "### Split()-\n",
    "a=input()\n",
    "\n",
    "\n",
    "l= list(map(int, a.split()))\n",
    "l"
   ]
  },
  {
   "cell_type": "code",
   "execution_count": null,
   "id": "08009ca1",
   "metadata": {},
   "outputs": [],
   "source": [
    "# Create a New Column in Pandas by using value from other column"
   ]
  },
  {
   "cell_type": "code",
   "execution_count": 19,
   "id": "17b9d641",
   "metadata": {},
   "outputs": [
    {
     "data": {
      "text/html": [
       "<div>\n",
       "<style scoped>\n",
       "    .dataframe tbody tr th:only-of-type {\n",
       "        vertical-align: middle;\n",
       "    }\n",
       "\n",
       "    .dataframe tbody tr th {\n",
       "        vertical-align: top;\n",
       "    }\n",
       "\n",
       "    .dataframe thead th {\n",
       "        text-align: right;\n",
       "    }\n",
       "</style>\n",
       "<table border=\"1\" class=\"dataframe\">\n",
       "  <thead>\n",
       "    <tr style=\"text-align: right;\">\n",
       "      <th></th>\n",
       "      <th>Name</th>\n",
       "      <th>Age</th>\n",
       "    </tr>\n",
       "  </thead>\n",
       "  <tbody>\n",
       "    <tr>\n",
       "      <th>0</th>\n",
       "      <td>Shubham</td>\n",
       "      <td>24</td>\n",
       "    </tr>\n",
       "    <tr>\n",
       "      <th>1</th>\n",
       "      <td>Apoorva</td>\n",
       "      <td>26</td>\n",
       "    </tr>\n",
       "    <tr>\n",
       "      <th>2</th>\n",
       "      <td>Shikha</td>\n",
       "      <td>28</td>\n",
       "    </tr>\n",
       "    <tr>\n",
       "      <th>3</th>\n",
       "      <td>Pop</td>\n",
       "      <td>50</td>\n",
       "    </tr>\n",
       "  </tbody>\n",
       "</table>\n",
       "</div>"
      ],
      "text/plain": [
       "      Name  Age\n",
       "0  Shubham   24\n",
       "1  Apoorva   26\n",
       "2   Shikha   28\n",
       "3      Pop   50"
      ]
     },
     "execution_count": 19,
     "metadata": {},
     "output_type": "execute_result"
    }
   ],
   "source": [
    "import pandas as pd\n",
    "\n",
    "df=pd.DataFrame({'Name':[\"Shubham\",\"Apoorva\", \"Shikha\", \"Pop\"], \"Age\": [24,26,28,50]})\n",
    "df\n"
   ]
  },
  {
   "cell_type": "code",
   "execution_count": 20,
   "id": "c3b889a8",
   "metadata": {},
   "outputs": [
    {
     "data": {
      "text/html": [
       "<div>\n",
       "<style scoped>\n",
       "    .dataframe tbody tr th:only-of-type {\n",
       "        vertical-align: middle;\n",
       "    }\n",
       "\n",
       "    .dataframe tbody tr th {\n",
       "        vertical-align: top;\n",
       "    }\n",
       "\n",
       "    .dataframe thead th {\n",
       "        text-align: right;\n",
       "    }\n",
       "</style>\n",
       "<table border=\"1\" class=\"dataframe\">\n",
       "  <thead>\n",
       "    <tr style=\"text-align: right;\">\n",
       "      <th></th>\n",
       "      <th>Name</th>\n",
       "      <th>Age</th>\n",
       "      <th>Age After 5 Years</th>\n",
       "    </tr>\n",
       "  </thead>\n",
       "  <tbody>\n",
       "    <tr>\n",
       "      <th>0</th>\n",
       "      <td>Shubham</td>\n",
       "      <td>24</td>\n",
       "      <td>29</td>\n",
       "    </tr>\n",
       "    <tr>\n",
       "      <th>1</th>\n",
       "      <td>Apoorva</td>\n",
       "      <td>26</td>\n",
       "      <td>31</td>\n",
       "    </tr>\n",
       "    <tr>\n",
       "      <th>2</th>\n",
       "      <td>Shikha</td>\n",
       "      <td>28</td>\n",
       "      <td>33</td>\n",
       "    </tr>\n",
       "    <tr>\n",
       "      <th>3</th>\n",
       "      <td>Pop</td>\n",
       "      <td>50</td>\n",
       "      <td>55</td>\n",
       "    </tr>\n",
       "  </tbody>\n",
       "</table>\n",
       "</div>"
      ],
      "text/plain": [
       "      Name  Age  Age After 5 Years\n",
       "0  Shubham   24                 29\n",
       "1  Apoorva   26                 31\n",
       "2   Shikha   28                 33\n",
       "3      Pop   50                 55"
      ]
     },
     "execution_count": 20,
     "metadata": {},
     "output_type": "execute_result"
    }
   ],
   "source": [
    "df['Age After 5 Years']= df['Age']+5\n",
    "df"
   ]
  },
  {
   "cell_type": "code",
   "execution_count": null,
   "id": "37b62e41",
   "metadata": {},
   "outputs": [],
   "source": [
    "# How to select multiple columns in Pandas and add them to a new DataFrame?\n",
    "# What if there are 2 olumns with the same name"
   ]
  },
  {
   "cell_type": "code",
   "execution_count": 9,
   "id": "24830dfa",
   "metadata": {},
   "outputs": [
    {
     "data": {
      "text/plain": [
       "array([[1, 2, 3, 4],\n",
       "       [5, 6, 7, 8]])"
      ]
     },
     "execution_count": 9,
     "metadata": {},
     "output_type": "execute_result"
    }
   ],
   "source": [
    "# Numpy vstack\n",
    "\n",
    "#Used to align rows vertically, all rows must have same number of elements\n",
    "\n",
    "arr1= np.array([1,2,3,4])\n",
    "arr2= np.array([5,6,7,8])\n",
    "\n",
    "ans= np.vstack((arr1, arr2))\n",
    "ans\n",
    "\n"
   ]
  },
  {
   "cell_type": "code",
   "execution_count": 13,
   "id": "855ddb40",
   "metadata": {},
   "outputs": [
    {
     "name": "stdout",
     "output_type": "stream",
     "text": [
      "Hi\n",
      "I am Outside\n",
      "Bye\n"
     ]
    }
   ],
   "source": [
    "# Python Decorator\n",
    "\n",
    "# Decorator are the functions that take another function as an argument to modify its behavior \n",
    "# without changing the function itself\n",
    "\n",
    "\n",
    "def fun(new_fun):\n",
    "    def execute():\n",
    "        print(\"Hi\")\n",
    "        new_fun()\n",
    "        print(\"Bye\")\n",
    "    return execute\n",
    "def outside():\n",
    "    print(\"I am Outside\")\n",
    "    \n",
    "obj1= fun(outside)\n",
    "obj1()\n",
    "\n",
    "\n",
    "\n",
    "        \n",
    "    "
   ]
  },
  {
   "cell_type": "code",
   "execution_count": 2,
   "id": "4674f07c",
   "metadata": {},
   "outputs": [
    {
     "name": "stdout",
     "output_type": "stream",
     "text": [
      "Hi\n",
      "I am call me\n",
      "Bye\n"
     ]
    }
   ],
   "source": [
    "def main_fun(fun):\n",
    "    def inner_fun():\n",
    "        print(\"Hi\")\n",
    "        fun()\n",
    "        print(\"Bye\")\n",
    "    return inner_fun()    \n",
    "        \n",
    "@main_fun\n",
    "def callme():\n",
    "    print(\"I am call me\")\n",
    "\n"
   ]
  },
  {
   "cell_type": "markdown",
   "id": "56d80847",
   "metadata": {},
   "source": [
    "## Tricky Qus\n",
    "\n"
   ]
  },
  {
   "cell_type": "code",
   "execution_count": 5,
   "id": "362eba6b",
   "metadata": {},
   "outputs": [
    {
     "data": {
      "text/plain": [
       "Text(0, 0.5, 'y-axis')"
      ]
     },
     "execution_count": 5,
     "metadata": {},
     "output_type": "execute_result"
    },
    {
     "data": {
      "image/png": "[encoded data removed]",
      "text/plain": [
       "<Figure size 432x288 with 1 Axes>"
      ]
     },
     "metadata": {
      "needs_background": "light"
     },
     "output_type": "display_data"
    }
   ],
   "source": [
    "# Implement a plot\n",
    "\n",
    "from matplotlib import pyplot as plt\n",
    "%matplotlib inline\n",
    "\n",
    "x=np.array([1,2,3,4,5,6,7,8,10])\n",
    "y=np.array([1,2,3,4,5,6,7,8,10])\n",
    "\n",
    "plt.plot(x,y)\n",
    "plt.xlabel(\"x-axis\")\n",
    "plt.ylabel(\"y-axis\")\n",
    "\n"
   ]
  },
  {
   "cell_type": "code",
   "execution_count": 7,
   "id": "a7f0200b",
   "metadata": {},
   "outputs": [
    {
     "data": {
      "image/png": "[encoded data removed]",
      "text/plain": [
       "<Figure size 432x288 with 1 Axes>"
      ]
     },
     "metadata": {
      "needs_background": "light"
     },
     "output_type": "display_data"
    }
   ],
   "source": [
    "# Implement a probablity plot\n",
    "\n",
    "import pylab\n",
    "import scipy.stats as stats\n",
    "\n",
    "n1=np.random.normal(loc=0, scale=1, size=1000)\n",
    "np.percentile(n1,100)\n",
    "\n",
    "stats.probplot(n1, dist='norm', plot=pylab)\n",
    "plt.show()\n"
   ]
  },
  {
   "cell_type": "code",
   "execution_count": 12,
   "id": "8fd706c5",
   "metadata": {},
   "outputs": [
    {
     "name": "stdout",
     "output_type": "stream",
     "text": [
      "No is Palindrome\n"
     ]
    }
   ],
   "source": [
    "## Palindrome check\n",
    "\n",
    "n=1221\n",
    "temp=n\n",
    "rev=0\n",
    "while n>0:\n",
    "    dig=n%10\n",
    "    rev= rev* 10+dig\n",
    "    n=n//10\n",
    "\n",
    "if temp==rev:\n",
    "    print(\"No is Palindrome\")\n",
    "else:\n",
    "    print(\"No is not palindrome\")\n",
    "    \n",
    "    "
   ]
  },
  {
   "cell_type": "code",
   "execution_count": 17,
   "id": "358654b4",
   "metadata": {},
   "outputs": [
    {
     "name": "stdout",
     "output_type": "stream",
     "text": [
      "1 \n",
      "2 2 \n",
      "3 3 3 \n",
      "4 4 4 4 \n",
      "5 5 5 5 5 \n"
     ]
    }
   ],
   "source": [
    "#Print Pattern\n",
    "\n",
    "# 1\n",
    "# 2 2\n",
    "# 3 3 3\n",
    "# 4 4 4 4\n",
    "# 5 5 5 5 5\n",
    "\n",
    "n=5\n",
    "for i in range(1, n+1,1):\n",
    "    for j in range(1, i+1,1):\n",
    "        print(i, end=' ')\n",
    "    print()    \n",
    "    \n",
    "\n"
   ]
  },
  {
   "cell_type": "code",
   "execution_count": null,
   "id": "69221b90",
   "metadata": {},
   "outputs": [],
   "source": [
    "A\n",
    "B C\n",
    "D E F\n",
    "G H I J\n",
    "K L M N O\n",
    "P Q R S T U"
   ]
  },
  {
   "cell_type": "code",
   "execution_count": 21,
   "id": "f00cbc61",
   "metadata": {},
   "outputs": [
    {
     "name": "stdout",
     "output_type": "stream",
     "text": [
      "5\n",
      "------------------------------------------------------------------------------\n",
      "\n",
      "A \n",
      "B C \n",
      "D E F \n",
      "G H I J \n"
     ]
    }
   ],
   "source": [
    "n=int(input())\n",
    "print(\"------------------------------------------------------------------------------\")\n",
    "if n>6:\n",
    "    print(\"Invalid Number\")\n",
    "else:\n",
    "    f=65\n",
    "    for i in range(n):\n",
    "        for j in range(1,i+1,1):\n",
    "            print(chr(f), end=' ')\n",
    "            f=f+1\n",
    "        print()    \n",
    "              "
   ]
  },
  {
   "cell_type": "code",
   "execution_count": 22,
   "id": "0500e80a",
   "metadata": {},
   "outputs": [
    {
     "data": {
      "text/plain": [
       "0.14369486623528405"
      ]
     },
     "execution_count": 22,
     "metadata": {},
     "output_type": "execute_result"
    }
   ],
   "source": [
    "# Print Random number\n",
    "\n",
    "import random\n",
    "\n",
    "random.random()"
   ]
  },
  {
   "cell_type": "code",
   "execution_count": 30,
   "id": "a93eaa50",
   "metadata": {},
   "outputs": [
    {
     "data": {
      "text/plain": [
       "6"
      ]
     },
     "execution_count": 30,
     "metadata": {},
     "output_type": "execute_result"
    }
   ],
   "source": [
    "random.randint(1,10)"
   ]
  },
  {
   "cell_type": "code",
   "execution_count": 31,
   "id": "b7f16b0a",
   "metadata": {},
   "outputs": [
    {
     "name": "stdout",
     "output_type": "stream",
     "text": [
      "Args is   :  (1, 2, 3, 'Shubham', 5)\n",
      "Kwargs is :  {'a': '567', 'b': 'Shubham', 'c': 101}\n"
     ]
    }
   ],
   "source": [
    "# *args & **kwargs in python-- when you don't know how many parameter you will got furing function call\n",
    "\n",
    "# *args- without name parameter\n",
    "\n",
    "# ** kwargs- with name parameter\n",
    "\n",
    "#You can use ar or kr or anything else-mainly depend on *, **\n",
    "\n",
    "def fun1(*args,**kwargs):\n",
    "    print(\"Args is   : \", args)\n",
    "    print(\"Kwargs is : \", kwargs)\n",
    "    \n",
    "fun1(1,2,3,'Shubham',5, a='567', b='Shubham', c=101)    \n",
    "\n",
    "\n",
    "\n"
   ]
  },
  {
   "cell_type": "code",
   "execution_count": 4,
   "id": "79b761a2",
   "metadata": {},
   "outputs": [
    {
     "name": "stdout",
     "output_type": "stream",
     "text": [
      "(1, 2, 3)\n",
      "{'name': 'Shubham', 'last_name': 'Sharma'}\n"
     ]
    }
   ],
   "source": []
  },
  {
   "cell_type": "code",
   "execution_count": null,
   "id": "727c8dde",
   "metadata": {},
   "outputs": [],
   "source": []
  },
  {
   "cell_type": "code",
   "execution_count": 32,
   "id": "b5ec7aca",
   "metadata": {},
   "outputs": [
    {
     "data": {
      "text/plain": [
       "[9, 8, 7]"
      ]
     },
     "execution_count": 32,
     "metadata": {},
     "output_type": "execute_result"
    }
   ],
   "source": [
    "# Output\n",
    "\n",
    "a=[1,2,3,4,5,6,7,8,9]\n",
    "a[-1:-4:-1]\n",
    "\n"
   ]
  },
  {
   "cell_type": "code",
   "execution_count": 33,
   "id": "b21ffefb",
   "metadata": {},
   "outputs": [
    {
     "data": {
      "text/plain": [
       "[1, 2, 3, 4, 5, 1, 2, 3, 4, 5]"
      ]
     },
     "execution_count": 33,
     "metadata": {},
     "output_type": "execute_result"
    }
   ],
   "source": [
    "l=[1,2,3,4,5]\n",
    "l*2"
   ]
  },
  {
   "cell_type": "code",
   "execution_count": 36,
   "id": "b137c6f6",
   "metadata": {},
   "outputs": [
    {
     "name": "stdout",
     "output_type": "stream",
     "text": [
      "1531 no is not armstrong\n"
     ]
    }
   ],
   "source": [
    "# Check Armstrong\n",
    "\n",
    "n=1531\n",
    "\n",
    "temp=n\n",
    "sum=0\n",
    "while n>0:\n",
    "    dig=n%10\n",
    "    sum=sum+ dig**3\n",
    "    n=n//10\n",
    "    \n",
    "if temp==sum:\n",
    "    print(f\"{temp} is armstrong no\")\n",
    "else:\n",
    "    print(f\"{temp} no is not armstrong\")"
   ]
  },
  {
   "cell_type": "code",
   "execution_count": null,
   "id": "e923f8aa",
   "metadata": {},
   "outputs": [],
   "source": []
  },
  {
   "cell_type": "code",
   "execution_count": null,
   "id": "63736538",
   "metadata": {},
   "outputs": [],
   "source": []
  },
  {
   "cell_type": "code",
   "execution_count": null,
   "id": "f6917f6e",
   "metadata": {},
   "outputs": [],
   "source": []
  },
  {
   "cell_type": "code",
   "execution_count": null,
   "id": "dd78f345",
   "metadata": {},
   "outputs": [],
   "source": []
  },
  {
   "cell_type": "markdown",
   "id": "8b6654d4",
   "metadata": {},
   "source": [
    "## List Comprehension"
   ]
  },
  {
   "cell_type": "code",
   "execution_count": 29,
   "id": "269c9956",
   "metadata": {},
   "outputs": [
    {
     "data": {
      "text/plain": [
       "[10, 20, 30, 40, 50, 60, 70, 80, 90, 100]"
      ]
     },
     "execution_count": 29,
     "metadata": {},
     "output_type": "execute_result"
    }
   ],
   "source": [
    "#Python list comprehension\n",
    "\n",
    "l= [i*10 for i in range(1,11,1)]\n",
    "l\n"
   ]
  },
  {
   "cell_type": "code",
   "execution_count": 32,
   "id": "72fd21a8",
   "metadata": {},
   "outputs": [
    {
     "data": {
      "text/plain": [
       "[4, 20, 6, 40, 8, 60, 10, 80, 12, 100]"
      ]
     },
     "execution_count": 32,
     "metadata": {},
     "output_type": "execute_result"
    }
   ],
   "source": [
    "l= [i*10 if i%2==0 else i+3 for i in range(1,11,1)]\n",
    "\n",
    "l\n",
    "\n",
    "\n",
    "\n",
    "#l= [print(\"Even\")  if i%2==0 else print(\"ODD\")  for i in range(1,11,1)]\n",
    "\n"
   ]
  },
  {
   "cell_type": "code",
   "execution_count": 6,
   "id": "fa766785",
   "metadata": {},
   "outputs": [
    {
     "data": {
      "text/plain": [
       "[2, 4, 6, 8, 10]"
      ]
     },
     "execution_count": 6,
     "metadata": {},
     "output_type": "execute_result"
    }
   ],
   "source": [
    "#Check even odd by Comprehension\n",
    "[i for i in range(1,11) if i%2==0]\n",
    "\n",
    "\n"
   ]
  },
  {
   "cell_type": "code",
   "execution_count": null,
   "id": "930bb382",
   "metadata": {},
   "outputs": [],
   "source": []
  },
  {
   "cell_type": "markdown",
   "id": "568667ec",
   "metadata": {},
   "source": [
    "## Map Function"
   ]
  },
  {
   "cell_type": "code",
   "execution_count": 9,
   "id": "23f45c29",
   "metadata": {},
   "outputs": [
    {
     "data": {
      "text/plain": [
       "'\\nmap function is used for appling a function on all elements of a specific iterable\\n\\nsyntax-\\nmap(function, iterable)\\n\\n'"
      ]
     },
     "execution_count": 9,
     "metadata": {},
     "output_type": "execute_result"
    }
   ],
   "source": [
    "# map function in python\n",
    "\n",
    "'''\n",
    "map function is used for appling a function on all elements of a specific iterable\n",
    "\n",
    "syntax-\n",
    "map(function, iterable)\n",
    "\n",
    "'''\n",
    "\n",
    "\n"
   ]
  },
  {
   "cell_type": "code",
   "execution_count": 8,
   "id": "9f148b4e",
   "metadata": {},
   "outputs": [
    {
     "data": {
      "text/plain": [
       "[3, 6, 9, 12, 15]"
      ]
     },
     "execution_count": 8,
     "metadata": {},
     "output_type": "execute_result"
    }
   ],
   "source": [
    "def mul(n):\n",
    "    return n*3\n",
    "\n",
    "l=[1,2,3,4,5]\n",
    "\n",
    "ans=list(map(mul, l))\n",
    "ans"
   ]
  },
  {
   "cell_type": "code",
   "execution_count": 43,
   "id": "ecb385e5",
   "metadata": {},
   "outputs": [
    {
     "data": {
      "text/plain": [
       "[6, 7, 8, 9, 10]"
      ]
     },
     "execution_count": 43,
     "metadata": {},
     "output_type": "execute_result"
    }
   ],
   "source": [
    "#Write a map function that adds plus 5 to each item in the list.\n",
    "\n",
    "# def add(n):\n",
    "#     return n+5\n",
    "\n",
    "# l=list(map(add, [1,2,3,4,5]))\n",
    "# print(l)\n",
    "\n",
    "\n",
    "#Let's try this by map&Lambda \n",
    "\n",
    "l=list(map(lambda x: x+5, [1,2,3,4,5]))\n",
    "\n",
    "l\n"
   ]
  },
  {
   "cell_type": "code",
   "execution_count": 44,
   "id": "85fe7b8a",
   "metadata": {},
   "outputs": [
    {
     "data": {
      "text/plain": [
       "[1, 4, 9, 16, 25]"
      ]
     },
     "execution_count": 44,
     "metadata": {},
     "output_type": "execute_result"
    }
   ],
   "source": [
    "#Write a map function that returns the squares of the items in the list.\n",
    "\n",
    "l= list(map(lambda x: x**2, [1,2,3,4,5]))\n",
    "l\n",
    "\n",
    "\n"
   ]
  },
  {
   "cell_type": "code",
   "execution_count": 46,
   "id": "e15ff894",
   "metadata": {},
   "outputs": [
    {
     "data": {
      "text/plain": [
       "['Hello Jane', 'Hello Lee', 'Hello Will', 'Hello Brie']"
      ]
     },
     "execution_count": 46,
     "metadata": {},
     "output_type": "execute_result"
    }
   ],
   "source": [
    "#Write a map function that adds \"Hello, \" in front of each item in the list.\n",
    "\n",
    "l1=[\"Jane\", \"Lee\", \"Will\", \"Brie\"]\n",
    "\n",
    "ans=list(map(lambda x: \"Hello\"+ \" \"+x, l1))\n",
    "ans"
   ]
  },
  {
   "cell_type": "code",
   "execution_count": 47,
   "id": "72c0452a",
   "metadata": {},
   "outputs": [
    {
     "data": {
      "text/plain": [
       "[6, 9, 6, 9, 6]"
      ]
     },
     "execution_count": 47,
     "metadata": {},
     "output_type": "execute_result"
    }
   ],
   "source": [
    "#Using map() function and len() function create a list that's consisted of lengths of each element in the first list.\n",
    "\n",
    "\n",
    "lst1=[\"Alpine\", \"Avalanche\", \"Powder\", \"Snowflake\", \"Summit\"]\n",
    "\n",
    "ans= list(map(lambda x:len(x), lst1))\n",
    "ans\n"
   ]
  },
  {
   "cell_type": "code",
   "execution_count": 7,
   "id": "a77b34ce",
   "metadata": {},
   "outputs": [
    {
     "data": {
      "text/plain": [
       "[3, 4, 2, 3, 1, 2, 2]"
      ]
     },
     "execution_count": 7,
     "metadata": {},
     "output_type": "execute_result"
    }
   ],
   "source": [
    "#Using map() function and lambda and count() function create a list which consists of the number of occurence of letter: a.\n",
    "\n",
    "l1=[\"Alaska\", \"Alabama\", \"Arizona\", \"Arkansas\", \"Colorado\", \"Montana\", \"Nevada\"]\n",
    "\n",
    "l=list(map(lambda x:x.lower().count(\"a\"), l1 ))\n",
    "l"
   ]
  },
  {
   "cell_type": "code",
   "execution_count": 12,
   "id": "cf6deb0b",
   "metadata": {},
   "outputs": [
    {
     "name": "stdout",
     "output_type": "stream",
     "text": [
      "117.6043\n"
     ]
    }
   ],
   "source": [
    "#Using map() function, first return a new list with absolute values of existing list. \n",
    "#Then for ans_1, find the total sum of the new list's elements.\n",
    "\n",
    "\n",
    "\n",
    "lst=[99.3890,-3.5, 5, -0.7123, -9, -0.003]\n",
    "#new_lst=list(map(lambda x:abs(x), lst ))\n",
    "\n",
    "new_lst= list(map(abs, lst))\n",
    "\n",
    "ans_1= sum(new_lst)\n",
    "\n",
    "print(ans_1)\n"
   ]
  },
  {
   "cell_type": "code",
   "execution_count": 9,
   "id": "d291b387",
   "metadata": {},
   "outputs": [
    {
     "data": {
      "text/plain": [
       "99.389"
      ]
     },
     "execution_count": 9,
     "metadata": {},
     "output_type": "execute_result"
    }
   ],
   "source": []
  },
  {
   "cell_type": "markdown",
   "id": "2da8dd89",
   "metadata": {},
   "source": [
    "## Lambda Function\n",
    "\n",
    "One line function\n",
    "does not have any name\n",
    "no return \n",
    "\n"
   ]
  },
  {
   "cell_type": "code",
   "execution_count": 7,
   "id": "1abe0ff9",
   "metadata": {},
   "outputs": [
    {
     "name": "stdout",
     "output_type": "stream",
     "text": [
      "6\n"
     ]
    }
   ],
   "source": [
    "## Write a lambda function that takes x as parameter and returns x+2. Then assign it to a variable named L.\n",
    "\n",
    "l= lambda x: x+2\n",
    "\n",
    "print(l(4))\n"
   ]
  },
  {
   "cell_type": "code",
   "execution_count": 8,
   "id": "7e5570e2",
   "metadata": {},
   "outputs": [
    {
     "name": "stdout",
     "output_type": "stream",
     "text": [
      "15\n"
     ]
    }
   ],
   "source": [
    "triple= lambda x: x*3\n",
    "\n",
    "print(triple(5))"
   ]
  },
  {
   "cell_type": "code",
   "execution_count": 9,
   "id": "6626bd02",
   "metadata": {},
   "outputs": [
    {
     "name": "stdout",
     "output_type": "stream",
     "text": [
      "6\n"
     ]
    }
   ],
   "source": [
    "#Write a function which takes two arguments: a and b and returns the multiplication of them: a*b. \n",
    "#Assign it to a variable named: f.\n",
    "\n",
    "ans= lambda x,y: x*y\n",
    "print(ans(2,3))\n"
   ]
  },
  {
   "cell_type": "code",
   "execution_count": 8,
   "id": "79ae23db",
   "metadata": {},
   "outputs": [
    {
     "data": {
      "text/plain": [
       "20"
      ]
     },
     "execution_count": 8,
     "metadata": {},
     "output_type": "execute_result"
    }
   ],
   "source": [
    "# Lambda function to print sum of list\n",
    "\n",
    "l=[2,3,4,5,6]\n",
    "\n",
    "from functools import reduce\n",
    "\n",
    "sum= reduce(lambda x,y : x+y, l )\n",
    "sum\n"
   ]
  },
  {
   "cell_type": "code",
   "execution_count": null,
   "id": "0bbfcf44",
   "metadata": {},
   "outputs": [],
   "source": []
  },
  {
   "cell_type": "code",
   "execution_count": null,
   "id": "7b614f1e",
   "metadata": {},
   "outputs": [],
   "source": []
  },
  {
   "cell_type": "code",
   "execution_count": 16,
   "id": "93dab595",
   "metadata": {},
   "outputs": [
    {
     "name": "stdout",
     "output_type": "stream",
     "text": [
      "720\n"
     ]
    }
   ],
   "source": [
    "#Factorial of a number using recursion\n",
    "\n",
    "def fac(n):\n",
    "    if n==0 or n==1:\n",
    "        return 1\n",
    "    else:\n",
    "        return n*fac(n-1)\n",
    "\n",
    "n=6\n",
    "ans=fac(6)\n",
    "print(ans)"
   ]
  },
  {
   "cell_type": "code",
   "execution_count": 3,
   "id": "c393045b",
   "metadata": {},
   "outputs": [
    {
     "data": {
      "text/html": [
       "<div>\n",
       "<style scoped>\n",
       "    .dataframe tbody tr th:only-of-type {\n",
       "        vertical-align: middle;\n",
       "    }\n",
       "\n",
       "    .dataframe tbody tr th {\n",
       "        vertical-align: top;\n",
       "    }\n",
       "\n",
       "    .dataframe thead th {\n",
       "        text-align: right;\n",
       "    }\n",
       "</style>\n",
       "<table border=\"1\" class=\"dataframe\">\n",
       "  <thead>\n",
       "    <tr style=\"text-align: right;\">\n",
       "      <th></th>\n",
       "      <th>col1</th>\n",
       "      <th>col2</th>\n",
       "    </tr>\n",
       "  </thead>\n",
       "  <tbody>\n",
       "    <tr>\n",
       "      <th>0</th>\n",
       "      <td>1</td>\n",
       "      <td>A</td>\n",
       "    </tr>\n",
       "    <tr>\n",
       "      <th>1</th>\n",
       "      <td>2</td>\n",
       "      <td>B</td>\n",
       "    </tr>\n",
       "    <tr>\n",
       "      <th>2</th>\n",
       "      <td>3</td>\n",
       "      <td>C</td>\n",
       "    </tr>\n",
       "  </tbody>\n",
       "</table>\n",
       "</div>"
      ],
      "text/plain": [
       "   col1 col2\n",
       "0     1    A\n",
       "1     2    B\n",
       "2     3    C"
      ]
     },
     "execution_count": 3,
     "metadata": {},
     "output_type": "execute_result"
    }
   ],
   "source": [
    "# Drop row having column value as A\n",
    "\n",
    "df=pd.DataFrame({'col1':[1,2,3], 'col2':['A','B','C']})\n",
    "df\n"
   ]
  },
  {
   "cell_type": "code",
   "execution_count": 4,
   "id": "a062be0e",
   "metadata": {},
   "outputs": [
    {
     "data": {
      "text/html": [
       "<div>\n",
       "<style scoped>\n",
       "    .dataframe tbody tr th:only-of-type {\n",
       "        vertical-align: middle;\n",
       "    }\n",
       "\n",
       "    .dataframe tbody tr th {\n",
       "        vertical-align: top;\n",
       "    }\n",
       "\n",
       "    .dataframe thead th {\n",
       "        text-align: right;\n",
       "    }\n",
       "</style>\n",
       "<table border=\"1\" class=\"dataframe\">\n",
       "  <thead>\n",
       "    <tr style=\"text-align: right;\">\n",
       "      <th></th>\n",
       "      <th>col1</th>\n",
       "      <th>col2</th>\n",
       "    </tr>\n",
       "  </thead>\n",
       "  <tbody>\n",
       "    <tr>\n",
       "      <th>1</th>\n",
       "      <td>2</td>\n",
       "      <td>B</td>\n",
       "    </tr>\n",
       "    <tr>\n",
       "      <th>2</th>\n",
       "      <td>3</td>\n",
       "      <td>C</td>\n",
       "    </tr>\n",
       "  </tbody>\n",
       "</table>\n",
       "</div>"
      ],
      "text/plain": [
       "   col1 col2\n",
       "1     2    B\n",
       "2     3    C"
      ]
     },
     "execution_count": 4,
     "metadata": {},
     "output_type": "execute_result"
    }
   ],
   "source": [
    "df= df[df.col2!='A']\n",
    "df"
   ]
  },
  {
   "cell_type": "code",
   "execution_count": null,
   "id": "7fcaa834",
   "metadata": {},
   "outputs": [],
   "source": [
    "# Highest paid player in each college in each team\n",
    "\n",
    "df.groupby(['college', 'team'])['salary'].max()"
   ]
  },
  {
   "cell_type": "code",
   "execution_count": 5,
   "id": "86ebef3c",
   "metadata": {},
   "outputs": [
    {
     "data": {
      "text/html": [
       "<div>\n",
       "<style scoped>\n",
       "    .dataframe tbody tr th:only-of-type {\n",
       "        vertical-align: middle;\n",
       "    }\n",
       "\n",
       "    .dataframe tbody tr th {\n",
       "        vertical-align: top;\n",
       "    }\n",
       "\n",
       "    .dataframe thead th {\n",
       "        text-align: right;\n",
       "    }\n",
       "</style>\n",
       "<table border=\"1\" class=\"dataframe\">\n",
       "  <thead>\n",
       "    <tr style=\"text-align: right;\">\n",
       "      <th></th>\n",
       "      <th>col1</th>\n",
       "      <th>col2</th>\n",
       "    </tr>\n",
       "  </thead>\n",
       "  <tbody>\n",
       "    <tr>\n",
       "      <th>1</th>\n",
       "      <td>2</td>\n",
       "      <td>B</td>\n",
       "    </tr>\n",
       "    <tr>\n",
       "      <th>2</th>\n",
       "      <td>3</td>\n",
       "      <td>C</td>\n",
       "    </tr>\n",
       "  </tbody>\n",
       "</table>\n",
       "</div>"
      ],
      "text/plain": [
       "   col1 col2\n",
       "1     2    B\n",
       "2     3    C"
      ]
     },
     "execution_count": 5,
     "metadata": {},
     "output_type": "execute_result"
    }
   ],
   "source": [
    "# what is reindexing in pandas-   Reassigning the index to a pandas dataframe\n",
    "\n",
    "df\n"
   ]
  },
  {
   "cell_type": "code",
   "execution_count": 6,
   "id": "e4f548c7",
   "metadata": {},
   "outputs": [
    {
     "data": {
      "text/html": [
       "<div>\n",
       "<style scoped>\n",
       "    .dataframe tbody tr th:only-of-type {\n",
       "        vertical-align: middle;\n",
       "    }\n",
       "\n",
       "    .dataframe tbody tr th {\n",
       "        vertical-align: top;\n",
       "    }\n",
       "\n",
       "    .dataframe thead th {\n",
       "        text-align: right;\n",
       "    }\n",
       "</style>\n",
       "<table border=\"1\" class=\"dataframe\">\n",
       "  <thead>\n",
       "    <tr style=\"text-align: right;\">\n",
       "      <th></th>\n",
       "      <th>col1</th>\n",
       "      <th>col2</th>\n",
       "    </tr>\n",
       "  </thead>\n",
       "  <tbody>\n",
       "    <tr>\n",
       "      <th>Row1</th>\n",
       "      <td>2</td>\n",
       "      <td>B</td>\n",
       "    </tr>\n",
       "    <tr>\n",
       "      <th>Row2</th>\n",
       "      <td>3</td>\n",
       "      <td>C</td>\n",
       "    </tr>\n",
       "  </tbody>\n",
       "</table>\n",
       "</div>"
      ],
      "text/plain": [
       "      col1 col2\n",
       "Row1     2    B\n",
       "Row2     3    C"
      ]
     },
     "execution_count": 6,
     "metadata": {},
     "output_type": "execute_result"
    }
   ],
   "source": [
    "df.index=[\"Row1\",\"Row2\"]\n",
    "df"
   ]
  },
  {
   "cell_type": "code",
   "execution_count": null,
   "id": "e36f710e",
   "metadata": {},
   "outputs": [],
   "source": []
  },
  {
   "cell_type": "code",
   "execution_count": null,
   "id": "e13632a8",
   "metadata": {},
   "outputs": [],
   "source": [
    "### How python code is interpreted?\n",
    "Source Code  ====> Intermediate Code ====> Machine Lang"
   ]
  },
  {
   "cell_type": "code",
   "execution_count": 5,
   "id": "fc7f0b14",
   "metadata": {},
   "outputs": [
    {
     "name": "stdout",
     "output_type": "stream",
     "text": [
      "67\n",
      "Given No 67 is a Prime Number\n"
     ]
    }
   ],
   "source": [
    "# For else:\n",
    "\n",
    "# for loop also have an else clause\n",
    "# else block will be executed only when for loop is completed sucessfully(without any break or like this).\n",
    "\n",
    "\n",
    "\n",
    "n=int(input())\n",
    "\n",
    "for i in range(2, n//2 +1,1):\n",
    "    if n%i==0:\n",
    "        print(f\"Given Number {n} is Not a prime number\")\n",
    "        break\n",
    "else:\n",
    "    print(f\"Given No {n} is a Prime Number\")\n",
    "\n"
   ]
  },
  {
   "cell_type": "code",
   "execution_count": null,
   "id": "6a76e171",
   "metadata": {},
   "outputs": [],
   "source": []
  },
  {
   "cell_type": "markdown",
   "id": "88020bdb",
   "metadata": {},
   "source": [
    "## Modify String Format"
   ]
  },
  {
   "cell_type": "code",
   "execution_count": 8,
   "id": "935887b7",
   "metadata": {},
   "outputs": [
    {
     "data": {
      "text/plain": [
       "['This', 'Is', 'A', 'Good', 'Morning']"
      ]
     },
     "execution_count": 8,
     "metadata": {},
     "output_type": "execute_result"
    }
   ],
   "source": [
    "s1= \"This_Is_A_Good_Morning\" # Output=> tHIS.iS.a.gOOD.mORNING\n",
    "\n",
    "l1= s1.split(\"_\")\n",
    "\n",
    "ans=[]\n",
    "l1\n"
   ]
  },
  {
   "cell_type": "code",
   "execution_count": 13,
   "id": "9ab5497c",
   "metadata": {},
   "outputs": [
    {
     "data": {
      "text/plain": [
       "['tHIS', 'iS', 'a', 'gOOD', 'mORNING']"
      ]
     },
     "execution_count": 13,
     "metadata": {},
     "output_type": "execute_result"
    }
   ],
   "source": [
    "for i in l1:\n",
    "    ans.append(i[0].lower()+i[1:].upper())\n",
    "ans\n",
    "    "
   ]
  },
  {
   "cell_type": "code",
   "execution_count": 16,
   "id": "0100c4ba",
   "metadata": {},
   "outputs": [
    {
     "data": {
      "text/plain": [
       "'tHIS.iS.a.gOOD.mORNING'"
      ]
     },
     "execution_count": 16,
     "metadata": {},
     "output_type": "execute_result"
    }
   ],
   "source": [
    "final_ans= \".\".join(ans)\n",
    "final_ans"
   ]
  },
  {
   "cell_type": "markdown",
   "id": "194e8ea4",
   "metadata": {},
   "source": [
    "## second largest no using list\n"
   ]
  },
  {
   "cell_type": "code",
   "execution_count": 21,
   "id": "7f66fe83",
   "metadata": {},
   "outputs": [
    {
     "data": {
      "text/plain": [
       "[1, 3, 4, 4, 5, 6, 6, 7, 7, 98]"
      ]
     },
     "execution_count": 21,
     "metadata": {},
     "output_type": "execute_result"
    }
   ],
   "source": [
    "# sort\n",
    "l=[1,4,6,7,98,3,4,5,6,7]\n",
    "l.sort()\n",
    "l"
   ]
  },
  {
   "cell_type": "code",
   "execution_count": 23,
   "id": "107d1df4",
   "metadata": {},
   "outputs": [
    {
     "data": {
      "text/plain": [
       "7"
      ]
     },
     "execution_count": 23,
     "metadata": {},
     "output_type": "execute_result"
    }
   ],
   "source": [
    "l[-3]"
   ]
  },
  {
   "cell_type": "code",
   "execution_count": 29,
   "id": "e25a6168",
   "metadata": {},
   "outputs": [
    {
     "name": "stdout",
     "output_type": "stream",
     "text": [
      "7\n"
     ]
    }
   ],
   "source": [
    "# Using set and max\n",
    "\n",
    "l=[1,4,6,7,98,3,4,5,6,7]\n",
    "\n",
    "s1= set(l)\n",
    "s1.remove(max(l))\n",
    "print(max(s1))\n",
    "\n"
   ]
  },
  {
   "cell_type": "code",
   "execution_count": null,
   "id": "54a47f00",
   "metadata": {},
   "outputs": [],
   "source": []
  },
  {
   "cell_type": "markdown",
   "id": "b8e16bbf",
   "metadata": {},
   "source": [
    "## Check Armstrong no\n",
    "\n",
    "153=>     1*1*1       +      5*5*5        +        3*3*3\n",
    "   =>       1         +       125         +         27\n",
    "   =>                        153\n",
    "\n",
    "\n",
    "\n"
   ]
  },
  {
   "cell_type": "code",
   "execution_count": 31,
   "id": "fcbff3ca",
   "metadata": {},
   "outputs": [
    {
     "name": "stdout",
     "output_type": "stream",
     "text": [
      "153\n",
      "Given no 153 is Armstrong\n"
     ]
    }
   ],
   "source": [
    "n= int(input())\n",
    "temp=n\n",
    "arm=0\n",
    "\n",
    "while n!=0:\n",
    "    d=n%10\n",
    "    arm=arm+ d**3\n",
    "    n=n//10\n",
    "    \n",
    "if arm==temp:\n",
    "    print(f\"Given no {temp} is Armstrong\")\n",
    "else:\n",
    "    print(f\"Given no {temp} is NOT Armstrong\")\n",
    "    \n",
    "\n",
    "\n"
   ]
  },
  {
   "cell_type": "code",
   "execution_count": null,
   "id": "8aab6db0",
   "metadata": {},
   "outputs": [],
   "source": []
  },
  {
   "cell_type": "markdown",
   "id": "d1ddb8e1",
   "metadata": {},
   "source": [
    "### Can we use a list/tuple as a Key in dictionary\n",
    "\n",
    "Tuple we can use but not list\n",
    "bcoz Key can only be mutable.\n"
   ]
  },
  {
   "cell_type": "code",
   "execution_count": 2,
   "id": "cd36e309",
   "metadata": {},
   "outputs": [
    {
     "data": {
      "text/plain": [
       "[1, 2, 3, 4, 5]"
      ]
     },
     "execution_count": 2,
     "metadata": {},
     "output_type": "execute_result"
    }
   ],
   "source": [
    "# Append vs Extend\n",
    "\n",
    "l1=[1,2,3,4]\n",
    "\n",
    "# So if you want to add a single item then go for append\n",
    "l1.append(5)\n",
    "l1"
   ]
  },
  {
   "cell_type": "code",
   "execution_count": 3,
   "id": "2acaab88",
   "metadata": {},
   "outputs": [
    {
     "data": {
      "text/plain": [
       "[1, 2, 3, 4, 5, 6, 7, 8]"
      ]
     },
     "execution_count": 3,
     "metadata": {},
     "output_type": "execute_result"
    }
   ],
   "source": [
    "#But if want to add a list so we should go for extend\n",
    "\n",
    "l2=[6,7,8]\n",
    "\n",
    "l1.extend(l2)\n",
    "l1\n",
    "\n",
    "\n",
    "# Si in extend we have to pass the iterable"
   ]
  },
  {
   "cell_type": "code",
   "execution_count": null,
   "id": "32bf7996",
   "metadata": {},
   "outputs": [],
   "source": []
  },
  {
   "cell_type": "markdown",
   "id": "e47aa90f",
   "metadata": {},
   "source": [
    "### Why python is known as Dynamically type language/ Duck Typing\n",
    "\n",
    "In python we don't need to give the type of variable that's why it's known as Dynamic Typed lang.\n",
    "\n",
    "And if we create a variable with string datatype so after that same name variable can be created with another type value.\n",
    "\n"
   ]
  },
  {
   "cell_type": "code",
   "execution_count": null,
   "id": "bdc352d4",
   "metadata": {},
   "outputs": [],
   "source": [
    "# Add two number by using decorator"
   ]
  },
  {
   "cell_type": "code",
   "execution_count": null,
   "id": "8d479402",
   "metadata": {},
   "outputs": [],
   "source": [
    "## what python support call by value/call by reference\n",
    "\n",
    "Python support call by Object References.\n",
    "\n"
   ]
  },
  {
   "cell_type": "code",
   "execution_count": null,
   "id": "8c2abea2",
   "metadata": {},
   "outputs": [],
   "source": [
    "# what is MRO"
   ]
  },
  {
   "cell_type": "code",
   "execution_count": 4,
   "id": "32d97f9f",
   "metadata": {},
   "outputs": [
    {
     "data": {
      "text/plain": [
       "{1: 'A', 2: 'B', 3: 'C', 4: 'D'}"
      ]
     },
     "execution_count": 4,
     "metadata": {},
     "output_type": "execute_result"
    }
   ],
   "source": [
    "# We have twotuple so can we use one tuple as a key and second one as a value?\n",
    "\n",
    "t1=(1,2,3,4)\n",
    "t2=('A','B','C','D')\n",
    "ans={}\n",
    "for i,j in zip(t1,t2):\n",
    "    ans[i]=j\n",
    "ans"
   ]
  },
  {
   "cell_type": "code",
   "execution_count": 11,
   "id": "e3acbe65",
   "metadata": {},
   "outputs": [
    {
     "name": "stdout",
     "output_type": "stream",
     "text": [
      "2097947050995076769\n"
     ]
    }
   ],
   "source": [
    "#hash function in python\n",
    "\n",
    "# hash function is use to get the hash value of an object.   Hash value are just integers\n",
    "\n",
    "text=\"Python Programming\"\n",
    "\n",
    "hash_value= hash(text)\n",
    "\n",
    "print(hash_value)\n"
   ]
  },
  {
   "cell_type": "markdown",
   "id": "1aa2fae1",
   "metadata": {},
   "source": [
    "***id function in python***\n",
    "\n",
    "\n",
    "id function return a unique id for the specific object.\n",
    "All object in python has a unique id.\n",
    "The id is assign to object when it is created.\n",
    "\n"
   ]
  },
  {
   "cell_type": "code",
   "execution_count": 14,
   "id": "3a6ca98d",
   "metadata": {},
   "outputs": [
    {
     "name": "stdout",
     "output_type": "stream",
     "text": [
      "1638955626288\n"
     ]
    }
   ],
   "source": [
    "a='fnskfsejfnis'\n",
    "print(id(a))\n"
   ]
  },
  {
   "cell_type": "markdown",
   "id": "b335f9fc",
   "metadata": {},
   "source": [
    "### join function\n",
    "\n",
    "it's used to join the data"
   ]
  },
  {
   "cell_type": "code",
   "execution_count": 16,
   "id": "882c932a",
   "metadata": {},
   "outputs": [
    {
     "data": {
      "text/plain": [
       "'A^B^c'"
      ]
     },
     "execution_count": 16,
     "metadata": {},
     "output_type": "execute_result"
    }
   ],
   "source": [
    "l=[\"A\",\"B\",\"c\"]\n",
    "\n",
    "ans='^'.join(l)\n",
    "ans"
   ]
  },
  {
   "cell_type": "markdown",
   "id": "0b0725bd",
   "metadata": {},
   "source": [
    "### __new__ function i function"
   ]
  },
  {
   "cell_type": "code",
   "execution_count": null,
   "id": "e5964061",
   "metadata": {},
   "outputs": [],
   "source": []
  },
  {
   "cell_type": "markdown",
   "id": "7792c130",
   "metadata": {},
   "source": [
    "### how to display top 5 and bottom 5 records in pandas"
   ]
  },
  {
   "cell_type": "code",
   "execution_count": null,
   "id": "787c3b7a",
   "metadata": {},
   "outputs": [],
   "source": []
  },
  {
   "cell_type": "code",
   "execution_count": null,
   "id": "83420b70",
   "metadata": {},
   "outputs": [],
   "source": [
    "### set vs frozenset\n",
    "\n",
    "set are mutable whereas frozenset are immutable\n"
   ]
  },
  {
   "cell_type": "code",
   "execution_count": null,
   "id": "4f7f5737",
   "metadata": {},
   "outputs": [],
   "source": []
  }
 ],
 "metadata": {
  "kernelspec": {
   "display_name": "Python 3",
   "language": "python",
   "name": "python3"
  },
  "language_info": {
   "codemirror_mode": {
    "name": "ipython",
    "version": 3
   },
   "file_extension": ".py",
   "mimetype": "text/x-python",
   "name": "python",
   "nbconvert_exporter": "python",
   "pygments_lexer": "ipython3",
   "version": "3.7.3"
  }
 },
 "nbformat": 4,
 "nbformat_minor": 5
}
