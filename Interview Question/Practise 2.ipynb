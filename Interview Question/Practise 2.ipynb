{
 "cells": [
  {
   "cell_type": "markdown",
   "id": "ccad20c2",
   "metadata": {},
   "source": [
    "# Video Link : https://www.youtube.com/watch?v=YeupGcOW-3k&t=4522s"
   ]
  },
  {
   "cell_type": "code",
   "execution_count": null,
   "id": "d7b900a5",
   "metadata": {},
   "outputs": [],
   "source": [
    "# Diff between Tuple(immutable) and List(mutable)-\n",
    "\n",
    "\n",
    "#Memory Manage\n"
   ]
  },
  {
   "cell_type": "code",
   "execution_count": 2,
   "id": "222fe7c5",
   "metadata": {},
   "outputs": [
    {
     "name": "stdout",
     "output_type": "stream",
     "text": [
      "Hi\n",
      "I am Call me\n",
      "Bye\n"
     ]
    }
   ],
   "source": [
    "# Decorator\n",
    "# decorator are function that take another function as an argument.\n",
    "# It change the behavior of a function\n",
    "\n",
    "\n",
    "def fun(newfun):\n",
    "    def execute():\n",
    "        print(\"Hi\")\n",
    "        newfun()\n",
    "        print(\"Bye\")\n",
    "    return execute\n",
    "\n",
    "def callMe():\n",
    "    print(\"I am Call me\")\n",
    "    \n",
    "obj1= fun(callMe)\n",
    "obj1()\n",
    "\n",
    "\n",
    "\n"
   ]
  },
  {
   "cell_type": "code",
   "execution_count": 1,
   "id": "c777709c",
   "metadata": {},
   "outputs": [
    {
     "data": {
      "text/plain": [
       "[1, 4, 9, 16, 25, 36, 49, 64, 81]"
      ]
     },
     "execution_count": 1,
     "metadata": {},
     "output_type": "execute_result"
    }
   ],
   "source": [
    "# Diff between List_comprehension and Dict_comprehension\n",
    "\n",
    "#List Comp\n",
    "\n",
    "sqr= [i**2 for i in range(1,10,1)]\n",
    "sqr"
   ]
  },
  {
   "cell_type": "code",
   "execution_count": 2,
   "id": "8e77985d",
   "metadata": {},
   "outputs": [
    {
     "data": {
      "text/plain": [
       "{1: 1, 2: 4, 3: 9, 4: 16, 5: 25, 6: 36, 7: 49, 8: 64, 9: 81}"
      ]
     },
     "execution_count": 2,
     "metadata": {},
     "output_type": "execute_result"
    }
   ],
   "source": [
    "sqr= {i:i**2 for i in range(1,10,1)}\n",
    "sqr"
   ]
  },
  {
   "cell_type": "markdown",
   "id": "dbbd35bb",
   "metadata": {},
   "source": [
    "### Generator vs Iterator\n",
    "\n",
    "All Iterator are generator but all generator are not iterator\n",
    "\n",
    "\n",
    "\n",
    "**Generator**\n",
    "Generator are iterators which can execute only once\n",
    "generator use **yield** keyword for dislaying the elements one by one\n",
    "Every generator is an iterator\n"
   ]
  },
  {
   "cell_type": "code",
   "execution_count": 9,
   "id": "d045bbf5",
   "metadata": {},
   "outputs": [
    {
     "name": "stdout",
     "output_type": "stream",
     "text": [
      "<generator object sqr at 0x000002213A13D930>\n",
      "0\n",
      "1\n",
      "4\n"
     ]
    }
   ],
   "source": [
    "def sqr(n):\n",
    "    for i in range(n):\n",
    "        yield i*i\n",
    "\n",
    "ans= sqr(4)\n",
    "print(ans)\n",
    "print(next(ans))\n",
    "print(next(ans))\n",
    "print(next(ans))\n",
    "\n",
    "\n"
   ]
  },
  {
   "cell_type": "markdown",
   "id": "6e82562a",
   "metadata": {},
   "source": [
    "**Iterator**\n",
    "\n",
    "It's used to iterate over object like tuple, list\n",
    "Iterator use iter and next method\n",
    "\n",
    "\n"
   ]
  },
  {
   "cell_type": "code",
   "execution_count": 12,
   "id": "0b0ec838",
   "metadata": {},
   "outputs": [
    {
     "name": "stdout",
     "output_type": "stream",
     "text": [
      "1\n",
      "2\n",
      "3\n"
     ]
    }
   ],
   "source": [
    "iter_list=iter([1,2,3,4,5,6,7])\n",
    "print(next(iter_list))\n",
    "print(next(iter_list))\n",
    "print(next(iter_list))\n",
    "      \n",
    "    "
   ]
  },
  {
   "cell_type": "markdown",
   "id": "86d42f1d",
   "metadata": {},
   "source": [
    "## init in python-\n",
    "\n",
    "__init__.py file  => \n",
    "\n",
    "\n",
    "__init__() =>constrcror in python\n",
    "\n",
    "\n",
    "\n",
    "## Module vs Package\n",
    "\n",
    "\n",
    "\n",
    "\n",
    "\n",
    "## If the value can be change- Mutable\n",
    "## If value can't change then it becomes immutable\n",
    "\n",
    "\n",
    "\n",
    "\n",
    "### local & global Variable\n",
    "\n",
    "\n",
    "### pass, continue, break\n",
    "\n",
    "\n",
    "\n",
    "### self- it use in class to refer which object are you using at this moment\n",
    "\n",
    "\n",
    "\n",
    "### Exception Handling in python\n",
    "try:\n",
    "    \n",
    "execpt:\n",
    "    \n",
    "else:\n",
    "\n",
    "finally:    \n",
    "\n",
    "\n",
    "\n",
    "\n"
   ]
  },
  {
   "cell_type": "markdown",
   "id": "45808145",
   "metadata": {},
   "source": [
    "## Commonly Asked Question"
   ]
  },
  {
   "cell_type": "code",
   "execution_count": 8,
   "id": "b0a666ee",
   "metadata": {},
   "outputs": [
    {
     "data": {
      "text/plain": [
       "[2, 4, 6, 8, 10]"
      ]
     },
     "execution_count": 8,
     "metadata": {},
     "output_type": "execute_result"
    }
   ],
   "source": [
    "### Ternary Operator\n",
    "\n",
    "# It's like if else in a single line\n",
    "# Syntax- (Pass statement)   if <expression> else (fail statement)\n",
    "\n",
    "\n",
    "\n",
    "ans= [i for i in range(1,11,1) if i%2==0]\n",
    "ans\n"
   ]
  },
  {
   "cell_type": "code",
   "execution_count": 17,
   "id": "530f2573",
   "metadata": {},
   "outputs": [
    {
     "data": {
      "text/plain": [
       "['1 Odd NO',\n",
       " '2 Even No',\n",
       " '3 Odd NO',\n",
       " '4 Even No',\n",
       " '5 Odd NO',\n",
       " '6 Even No',\n",
       " '7 Odd NO',\n",
       " '8 Even No',\n",
       " '9 Odd NO',\n",
       " '10 Even No']"
      ]
     },
     "execution_count": 17,
     "metadata": {},
     "output_type": "execute_result"
    }
   ],
   "source": [
    "ans= [str(i)+\" Even No\" if i%2==0 else str(i)+\" Odd NO\" for i in range(1,11,1)]\n",
    "ans"
   ]
  },
  {
   "cell_type": "code",
   "execution_count": null,
   "id": "a91a2791",
   "metadata": {},
   "outputs": [],
   "source": []
  },
  {
   "cell_type": "code",
   "execution_count": 15,
   "id": "f23b81dc",
   "metadata": {},
   "outputs": [
    {
     "name": "stdout",
     "output_type": "stream",
     "text": [
      "['mango', 'orange', 'orange', 'mango', 'orange', 'orange', 'mango', 'orange', 'orange', 'mango']\n"
     ]
    }
   ],
   "source": [
    "fruits = [\"mango\" if i%3==0 else \"orange\" for i in range(10)]\n",
    "print(fruits)"
   ]
  },
  {
   "cell_type": "code",
   "execution_count": 20,
   "id": "68dc28fc",
   "metadata": {},
   "outputs": [
    {
     "data": {
      "text/plain": [
       "'mature'"
      ]
     },
     "execution_count": 20,
     "metadata": {},
     "output_type": "execute_result"
    }
   ],
   "source": [
    "age=18\n",
    "\"immature\" if age<18 else \"mature\" "
   ]
  },
  {
   "cell_type": "code",
   "execution_count": 22,
   "id": "613b8f0c",
   "metadata": {},
   "outputs": [
    {
     "name": "stdout",
     "output_type": "stream",
     "text": [
      "a is:  3\n",
      "b is:  4\n"
     ]
    }
   ],
   "source": [
    "class first:\n",
    "    def __init__(self,a,b):\n",
    "        self.a=a\n",
    "        self.b=b\n",
    "    def show(self):\n",
    "        print(\"a is: \",self.a)\n",
    "        print(\"b is: \",self.b)\n",
    "        \n",
    "obj=first(3,4)\n",
    "obj.show()\n",
    "   \n",
    "    "
   ]
  },
  {
   "cell_type": "code",
   "execution_count": 26,
   "id": "89f2ab4b",
   "metadata": {},
   "outputs": [
    {
     "name": "stdout",
     "output_type": "stream",
     "text": [
      "Constructor from first class\n",
      "Constructor from Second Class\n"
     ]
    }
   ],
   "source": [
    "# Now example for inherit\n",
    "\n",
    "class first:\n",
    "    def __init__(self):\n",
    "        print(\"Constructor from first class\")\n",
    "        \n",
    "class second(first):\n",
    "    def __init__(self):\n",
    "        super().__init__()\n",
    "        print(\"Constructor from Second Class\")\n",
    "        \n",
    "obj=second()\n",
    "\n",
    "        "
   ]
  },
  {
   "cell_type": "code",
   "execution_count": 28,
   "id": "1e0450aa",
   "metadata": {},
   "outputs": [
    {
     "name": "stdout",
     "output_type": "stream",
     "text": [
      "Constructor from first class\n",
      "Constructor from Second Class\n",
      "Constructor from Third Class\n"
     ]
    }
   ],
   "source": [
    "#Multilevel\n",
    "\n",
    "class first:\n",
    "    def __init__(self):\n",
    "        print(\"Constructor from first class\")\n",
    "        \n",
    "class second(first):\n",
    "    def __init__(self):\n",
    "        super().__init__()\n",
    "        print(\"Constructor from Second Class\")\n",
    "       \n",
    "    \n",
    "class third(second):\n",
    "    def __init__(self):\n",
    "        super().__init__()\n",
    "        print(\"Constructor from Third Class\")    \n",
    "    \n",
    "obj=third()"
   ]
  },
  {
   "cell_type": "code",
   "execution_count": 29,
   "id": "76c77ab4",
   "metadata": {},
   "outputs": [
    {
     "name": "stdout",
     "output_type": "stream",
     "text": [
      "Constructor from first class\n",
      "Constructor from Third Class\n"
     ]
    }
   ],
   "source": [
    "# Multiple\n",
    "\n",
    "class first:\n",
    "    def __init__(self):\n",
    "        print(\"Constructor from first class\")\n",
    "        \n",
    "class second:\n",
    "    def __init__(self):\n",
    "        print(\"Constructor from Second Class\")\n",
    "       \n",
    "    \n",
    "class third(first,second):\n",
    "    def __init__(self):\n",
    "        super().__init__()\n",
    "        print(\"Constructor from Third Class\")    \n",
    "    \n",
    "obj=third()"
   ]
  },
  {
   "cell_type": "code",
   "execution_count": 31,
   "id": "4fb80438",
   "metadata": {},
   "outputs": [
    {
     "name": "stdout",
     "output_type": "stream",
     "text": [
      "This is done\n"
     ]
    }
   ],
   "source": [
    "# Python Code\n",
    "\n",
    "def show():\n",
    "    print(\"This is done\")\n",
    "    \n",
    "if __name__==\"__main__\":\n",
    "    show()"
   ]
  },
  {
   "cell_type": "code",
   "execution_count": null,
   "id": "e4c2dc78",
   "metadata": {},
   "outputs": [],
   "source": [
    "## Tricky Questions\n",
    "\n",
    "\n"
   ]
  },
  {
   "cell_type": "code",
   "execution_count": 37,
   "id": "cae0edde",
   "metadata": {},
   "outputs": [
    {
     "data": {
      "text/plain": [
       "{'x': 1, 'z': 3}"
      ]
     },
     "execution_count": 37,
     "metadata": {},
     "output_type": "execute_result"
    }
   ],
   "source": [
    "#Delete key of dic\n",
    "\n",
    "d={'x':1, 'y':2, 'z':3}\n",
    "\n",
    "#d.clear()--- To clear the screen\n",
    "\n",
    "#del(d)---- To delete the dictionary\n",
    "\n",
    "d.pop('y')\n",
    "d\n",
    "\n"
   ]
  },
  {
   "cell_type": "code",
   "execution_count": null,
   "id": "f64cefca",
   "metadata": {},
   "outputs": [],
   "source": [
    "## Multithreading \n",
    "\n",
    "Multithreading and Multiprocessing both are used to achieve multitasking\n",
    "\n",
    "\n",
    "\n",
    "\n",
    "## Multiprocessing\n",
    "\n",
    "\n",
    "\n",
    "\n",
    "\n",
    "# dunder method"
   ]
  },
  {
   "cell_type": "code",
   "execution_count": 11,
   "id": "d63fe2d7",
   "metadata": {},
   "outputs": [],
   "source": [
    "# dunder method(Magic Method in Python)\n",
    "\n",
    "\n",
    "class Car:\n",
    "    def __init__(self, window, doors, enginetype):\n",
    "        self.window=window\n",
    "        self.doors= doors\n",
    "        self.enginetype= enginetype\n",
    "    def show(self):\n",
    "        print(\"This is show\")\n",
    "        "
   ]
  },
  {
   "cell_type": "code",
   "execution_count": 13,
   "id": "229bc23b",
   "metadata": {},
   "outputs": [
    {
     "data": {
      "text/plain": [
       "['__class__',\n",
       " '__delattr__',\n",
       " '__dict__',\n",
       " '__dir__',\n",
       " '__doc__',\n",
       " '__eq__',\n",
       " '__format__',\n",
       " '__ge__',\n",
       " '__getattribute__',\n",
       " '__gt__',\n",
       " '__hash__',\n",
       " '__init__',\n",
       " '__init_subclass__',\n",
       " '__le__',\n",
       " '__lt__',\n",
       " '__module__',\n",
       " '__ne__',\n",
       " '__new__',\n",
       " '__reduce__',\n",
       " '__reduce_ex__',\n",
       " '__repr__',\n",
       " '__setattr__',\n",
       " '__sizeof__',\n",
       " '__str__',\n",
       " '__subclasshook__',\n",
       " '__weakref__',\n",
       " 'doors',\n",
       " 'enginetype',\n",
       " 'show',\n",
       " 'window']"
      ]
     },
     "execution_count": 13,
     "metadata": {},
     "output_type": "execute_result"
    }
   ],
   "source": [
    "c=Car(4,5,'Diesel')\n",
    "\n",
    "dir(c)# These all are dunder/magic method"
   ]
  },
  {
   "cell_type": "code",
   "execution_count": 22,
   "id": "e68467e9",
   "metadata": {},
   "outputs": [],
   "source": [
    "# we can override magic method as well.\n",
    "\n",
    "class Car:\n",
    "    def __init__(self, window, doors, enginetype):\n",
    "        self.window=window\n",
    "        self.doors= doors\n",
    "        self.enginetype= enginetype\n",
    "    \n",
    "    def __str__(self):\n",
    "        return \"Object has been initialised\"\n",
    "        \n",
    "    def show(self):\n",
    "        print(\"This is show\")\n",
    "        "
   ]
  },
  {
   "cell_type": "code",
   "execution_count": 23,
   "id": "4ace6975",
   "metadata": {},
   "outputs": [
    {
     "name": "stdout",
     "output_type": "stream",
     "text": [
      "Object has been initialised\n"
     ]
    }
   ],
   "source": [
    "c=Car(4,5,'Diesel')\n",
    "print(c)"
   ]
  },
  {
   "cell_type": "code",
   "execution_count": 26,
   "id": "2f042ff4",
   "metadata": {},
   "outputs": [
    {
     "name": "stdout",
     "output_type": "stream",
     "text": [
      "Getting the data from Database\n",
      "Getting the data from Database\n"
     ]
    }
   ],
   "source": [
    "# Monkey patching in python\n",
    "\n",
    "# Dynamic replacement of attribute runtime.\n",
    "\n",
    "# When we create class then there are multiple function, variable(these known as attribute) to change these dynamically is known \n",
    "# as monkey patching\n",
    "\n",
    "#Normal class\n",
    "\n",
    "class test:\n",
    "    def __init__(self,x):\n",
    "        self.x=x\n",
    "    \n",
    "    def get_data(self):\n",
    "        print(\"Getting the data from Database\")\n",
    "        \n",
    "    def f1(self):\n",
    "        self.get_data()\n",
    "        \n",
    "    def f2(self):\n",
    "        self.get_data()\n",
    "        \n",
    "t1=test(2)\n",
    "t1.f1()\n",
    "t1.f2()\n"
   ]
  },
  {
   "cell_type": "code",
   "execution_count": 27,
   "id": "eb6b76b9",
   "metadata": {},
   "outputs": [
    {
     "name": "stdout",
     "output_type": "stream",
     "text": [
      "This is from new_get_data\n"
     ]
    }
   ],
   "source": [
    "# Now Monket patching\n",
    "\n",
    "def new_get_data(self):\n",
    "    print(\"This is from new_get_data\")\n",
    "    \n",
    "test.get_data= new_get_data\n",
    "\n",
    "t1.f1()\n",
    "    \n"
   ]
  },
  {
   "cell_type": "code",
   "execution_count": null,
   "id": "5a916d91",
   "metadata": {},
   "outputs": [],
   "source": []
  },
  {
   "cell_type": "code",
   "execution_count": null,
   "id": "e35753aa",
   "metadata": {},
   "outputs": [],
   "source": []
  },
  {
   "cell_type": "code",
   "execution_count": null,
   "id": "e92d9880",
   "metadata": {},
   "outputs": [],
   "source": [
    "# Generator\n",
    "\n",
    "Generator is like a normal function, but it use Yield keywork instead of return\n",
    "\n",
    "if the body of a def contain yield, the function will automatically becomes generator.\n",
    "\n"
   ]
  },
  {
   "cell_type": "code",
   "execution_count": 2,
   "id": "17e93207",
   "metadata": {},
   "outputs": [
    {
     "name": "stdout",
     "output_type": "stream",
     "text": [
      "0\n",
      "1\n",
      "1\n",
      "2\n",
      "3\n",
      "5\n"
     ]
    }
   ],
   "source": [
    "def fib():\n",
    "    a,b= 0,1\n",
    "    \n",
    "    while True:\n",
    "        yield a\n",
    "        a,b= b, a+b\n",
    "        \n",
    "for i in fib():\n",
    "    if i>5:\n",
    "        break\n",
    "    print(i)"
   ]
  },
  {
   "cell_type": "code",
   "execution_count": null,
   "id": "e19287c0",
   "metadata": {},
   "outputs": [],
   "source": []
  },
  {
   "cell_type": "code",
   "execution_count": null,
   "id": "11e2bc98",
   "metadata": {},
   "outputs": [],
   "source": []
  }
 ],
 "metadata": {
  "kernelspec": {
   "display_name": "Python 3",
   "language": "python",
   "name": "python3"
  },
  "language_info": {
   "codemirror_mode": {
    "name": "ipython",
    "version": 3
   },
   "file_extension": ".py",
   "mimetype": "text/x-python",
   "name": "python",
   "nbconvert_exporter": "python",
   "pygments_lexer": "ipython3",
   "version": "3.7.3"
  }
 },
 "nbformat": 4,
 "nbformat_minor": 5
}
