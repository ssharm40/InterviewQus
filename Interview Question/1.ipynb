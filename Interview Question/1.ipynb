{
 "cells": [
  {
   "cell_type": "markdown",
   "id": "9e847cc0",
   "metadata": {},
   "source": [
    "# Link\n",
    "https://www.youtube.com/watch?v=uuhi830wOzs&t=8413s"
   ]
  },
  {
   "cell_type": "code",
   "execution_count": 1,
   "id": "1dc6766b",
   "metadata": {},
   "outputs": [
    {
     "data": {
      "text/plain": [
       "(1, 2, 3, 5, 6, 7)"
      ]
     },
     "execution_count": 1,
     "metadata": {},
     "output_type": "execute_result"
    }
   ],
   "source": [
    "# Concatenate two tuple\n",
    "\n",
    "# Tuples are unchangable\n",
    "\n",
    "t1=(1,2,3)\n",
    "t2=(5,6,7)\n",
    "\n",
    "t3=t1+t2\n",
    "t3\n",
    "\n"
   ]
  },
  {
   "cell_type": "code",
   "execution_count": 4,
   "id": "5148c651",
   "metadata": {},
   "outputs": [
    {
     "data": {
      "text/plain": [
       "array([[0, 0, 0, 0, 0],\n",
       "       [0, 0, 0, 0, 0],\n",
       "       [0, 0, 0, 0, 0],\n",
       "       [0, 0, 0, 0, 0],\n",
       "       [0, 0, 0, 0, 0]])"
      ]
     },
     "execution_count": 4,
     "metadata": {},
     "output_type": "execute_result"
    }
   ],
   "source": [
    "# Initiaqlize a 5*5 numpy array with zero\n",
    "\n",
    "\n",
    "import numpy as np\n",
    "\n",
    "arr= np.zeros((5,5), dtype=int)\n",
    "arr"
   ]
  },
  {
   "cell_type": "code",
   "execution_count": 5,
   "id": "8dea2da1",
   "metadata": {},
   "outputs": [
    {
     "data": {
      "text/html": [
       "<div>\n",
       "<style scoped>\n",
       "    .dataframe tbody tr th:only-of-type {\n",
       "        vertical-align: middle;\n",
       "    }\n",
       "\n",
       "    .dataframe tbody tr th {\n",
       "        vertical-align: top;\n",
       "    }\n",
       "\n",
       "    .dataframe thead th {\n",
       "        text-align: right;\n",
       "    }\n",
       "</style>\n",
       "<table border=\"1\" class=\"dataframe\">\n",
       "  <thead>\n",
       "    <tr style=\"text-align: right;\">\n",
       "      <th></th>\n",
       "      <th>Bikes</th>\n",
       "      <th>Car</th>\n",
       "    </tr>\n",
       "  </thead>\n",
       "  <tbody>\n",
       "    <tr>\n",
       "      <th>0</th>\n",
       "      <td>KTM</td>\n",
       "      <td>Sonet</td>\n",
       "    </tr>\n",
       "    <tr>\n",
       "      <th>1</th>\n",
       "      <td>Apache</td>\n",
       "      <td>XUV</td>\n",
       "    </tr>\n",
       "    <tr>\n",
       "      <th>2</th>\n",
       "      <td>R15</td>\n",
       "      <td>Breeza</td>\n",
       "    </tr>\n",
       "    <tr>\n",
       "      <th>3</th>\n",
       "      <td>Duke</td>\n",
       "      <td>Verna</td>\n",
       "    </tr>\n",
       "    <tr>\n",
       "      <th>4</th>\n",
       "      <td>bullet</td>\n",
       "      <td>City</td>\n",
       "    </tr>\n",
       "  </tbody>\n",
       "</table>\n",
       "</div>"
      ],
      "text/plain": [
       "    Bikes     Car\n",
       "0     KTM   Sonet\n",
       "1  Apache     XUV\n",
       "2     R15  Breeza\n",
       "3    Duke   Verna\n",
       "4  bullet    City"
      ]
     },
     "execution_count": 5,
     "metadata": {},
     "output_type": "execute_result"
    }
   ],
   "source": [
    "# How to create a Dataframe from list\n",
    "\n",
    "\n",
    "import pandas as pd\n",
    "\n",
    "bikes=['KTM', 'Apache', 'R15', 'Duke', 'bullet']\n",
    "car=['Sonet', 'XUV', 'Breeza', 'Verna', 'City']\n",
    "\n",
    "df=pd.DataFrame()\n",
    "\n",
    "df['Bikes']=bikes\n",
    "df['Car']=car\n",
    "\n",
    "df.head()\n"
   ]
  },
  {
   "cell_type": "code",
   "execution_count": 6,
   "id": "01defd52",
   "metadata": {},
   "outputs": [
    {
     "data": {
      "text/html": [
       "<div>\n",
       "<style scoped>\n",
       "    .dataframe tbody tr th:only-of-type {\n",
       "        vertical-align: middle;\n",
       "    }\n",
       "\n",
       "    .dataframe tbody tr th {\n",
       "        vertical-align: top;\n",
       "    }\n",
       "\n",
       "    .dataframe thead th {\n",
       "        text-align: right;\n",
       "    }\n",
       "</style>\n",
       "<table border=\"1\" class=\"dataframe\">\n",
       "  <thead>\n",
       "    <tr style=\"text-align: right;\">\n",
       "      <th></th>\n",
       "      <th>bikes</th>\n",
       "      <th>cars</th>\n",
       "    </tr>\n",
       "  </thead>\n",
       "  <tbody>\n",
       "    <tr>\n",
       "      <th>0</th>\n",
       "      <td>KTM</td>\n",
       "      <td>Honda City</td>\n",
       "    </tr>\n",
       "    <tr>\n",
       "      <th>1</th>\n",
       "      <td>Bullet</td>\n",
       "      <td>Verna</td>\n",
       "    </tr>\n",
       "    <tr>\n",
       "      <th>2</th>\n",
       "      <td>Apache</td>\n",
       "      <td>Creta</td>\n",
       "    </tr>\n",
       "    <tr>\n",
       "      <th>3</th>\n",
       "      <td>Pulsar</td>\n",
       "      <td>XUV</td>\n",
       "    </tr>\n",
       "    <tr>\n",
       "      <th>4</th>\n",
       "      <td>Platina</td>\n",
       "      <td>Harrier</td>\n",
       "    </tr>\n",
       "  </tbody>\n",
       "</table>\n",
       "</div>"
      ],
      "text/plain": [
       "     bikes        cars\n",
       "0      KTM  Honda City\n",
       "1   Bullet       Verna\n",
       "2   Apache       Creta\n",
       "3   Pulsar         XUV\n",
       "4  Platina     Harrier"
      ]
     },
     "execution_count": 6,
     "metadata": {},
     "output_type": "execute_result"
    }
   ],
   "source": [
    "# How to create Dataframe from a Dictionary?\n",
    "\n",
    "d1={'bikes': [\"KTM\",\"Bullet\",\"Apache\",\"Pulsar\",\"Platina\"], 'cars': [\"Honda City\", \"Verna\", \"Creta\", \"XUV\", \"Harrier\"]}\n",
    "\n",
    "df=pd.DataFrame(d1)\n",
    "\n",
    "df.head()\n"
   ]
  },
  {
   "cell_type": "markdown",
   "id": "9c326f0b",
   "metadata": {},
   "source": [
    "# How to combine dataframe using join()\n",
    "\n",
    "Join:\n",
    "    When we extract the data from two diff dataframe.\n",
    "    stacking will be done in horizontal manner\n",
    "    pandas support inner join, left join, right join, full join.\n",
    "    \n",
    "\n",
    "\n",
    "Then what is use for vertical scaling?\n",
    "\n",
    "Concat is used when the dataframe have the same columns and can be used for concatenation of data having similar fields.\n",
    "\n",
    "It's used for Vertical Scaling.\n",
    "    \n",
    "    \n",
    "    "
   ]
  },
  {
   "cell_type": "code",
   "execution_count": 5,
   "id": "fa66d403",
   "metadata": {},
   "outputs": [],
   "source": [
    "# How to merge data frame in pandas\n",
    "\n",
    "\n"
   ]
  },
  {
   "cell_type": "code",
   "execution_count": 7,
   "id": "73731830",
   "metadata": {},
   "outputs": [
    {
     "name": "stdout",
     "output_type": "stream",
     "text": [
      "120\n"
     ]
    }
   ],
   "source": [
    "#Factorial of a no\n",
    "\n",
    "#5------ 5*4*3*2*1\n",
    "\n",
    "n=5\n",
    "\n",
    "res=1\n",
    "\n",
    "for i in range(5,0,-1):\n",
    "    res*=i\n",
    "print(res)    "
   ]
  },
  {
   "cell_type": "code",
   "execution_count": 8,
   "id": "76d2008a",
   "metadata": {},
   "outputs": [
    {
     "name": "stdout",
     "output_type": "stream",
     "text": [
      "120\n"
     ]
    }
   ],
   "source": [
    "# Now do this by Recursion\n",
    "\n",
    "\n",
    "def fac(n):\n",
    "    if n==0:\n",
    "        return 1\n",
    "    else:\n",
    "        return (n* fac(n-1))\n",
    "\n",
    "\n",
    "n=5\n",
    "res=fac(5)\n",
    "print(res)"
   ]
  },
  {
   "cell_type": "code",
   "execution_count": 9,
   "id": "1c83983b",
   "metadata": {},
   "outputs": [
    {
     "name": "stdout",
     "output_type": "stream",
     "text": [
      "193\n"
     ]
    }
   ],
   "source": [
    "# A Lambda function to print the sum of all the elements in the list[5,8,10,20,50,100]\n",
    "\n",
    "\n",
    "l=[5,8,10,20,50,100]\n",
    "\n",
    "from functools import reduce\n",
    "\n",
    "ans= reduce(lambda x,y: x+y, l)\n",
    "print(ans)\n",
    "\n",
    "\n",
    "\n",
    "\n"
   ]
  },
  {
   "cell_type": "code",
   "execution_count": null,
   "id": "a9118087",
   "metadata": {},
   "outputs": [],
   "source": []
  },
  {
   "cell_type": "code",
   "execution_count": 11,
   "id": "15236224",
   "metadata": {},
   "outputs": [
    {
     "data": {
      "text/plain": [
       "'dcsdcdjddxjddsjkx'"
      ]
     },
     "execution_count": 11,
     "metadata": {},
     "output_type": "execute_result"
    }
   ],
   "source": [
    "s=\"d csdc djd dxjd dsjkx\"\n",
    "\n",
    "s=s.replace(\" \", '')\n",
    "s"
   ]
  },
  {
   "cell_type": "code",
   "execution_count": null,
   "id": "d95d3a5b",
   "metadata": {},
   "outputs": [],
   "source": []
  },
  {
   "cell_type": "markdown",
   "id": "8fd9d9b8",
   "metadata": {},
   "source": [
    "## Decorator\n",
    "\n",
    "=> Decorator are the functions that take another function as an argument to modify its behavior without changing the function itself\n",
    "\n",
    "=> These are usefull when we want to dynamically increase the functionality of a function without changing it.\n",
    "\n"
   ]
  },
  {
   "cell_type": "code",
   "execution_count": 13,
   "id": "f8c93961",
   "metadata": {},
   "outputs": [
    {
     "name": "stdout",
     "output_type": "stream",
     "text": [
      "Start\n",
      "Inside Decorator\n",
      "End\n"
     ]
    }
   ],
   "source": [
    "   \n",
    "def dec1(fun1):\n",
    "    def nowexe():\n",
    "        print(\"Start\")\n",
    "        fun1()\n",
    "        print(\"End\")\n",
    "    return nowexe\n",
    "\n",
    "def fun2():\n",
    "    print(\"Inside Decorator\")\n",
    "    \n",
    "    \n",
    "obj1= dec1(fun2)\n",
    "obj1()\n",
    "    \n",
    "    \n",
    "    \n",
    "    "
   ]
  },
  {
   "cell_type": "code",
   "execution_count": 45,
   "id": "476027d7",
   "metadata": {},
   "outputs": [
    {
     "name": "stdout",
     "output_type": "stream",
     "text": [
      "1,2,3............Start\n",
      "Hello World Program\n",
      "End\n"
     ]
    }
   ],
   "source": [
    "#Exp 2\n",
    "\n",
    "def dec2(myFun1):\n",
    "    def now_execute():\n",
    "        print(\"1,2,3............Start\")\n",
    "        myFun1()\n",
    "        print(\"End\")\n",
    "        \n",
    "    return now_execute\n",
    "        \n",
    "def hello_world():\n",
    "    print(\"Hello World Program\")\n",
    "    \n",
    "obj1= dec2(hello_world)    \n",
    "obj1()"
   ]
  },
  {
   "cell_type": "code",
   "execution_count": 5,
   "id": "7d7fba04",
   "metadata": {},
   "outputs": [
    {
     "name": "stdout",
     "output_type": "stream",
     "text": [
      "1,2,3............Start\n",
      "1,2,3............Start\n",
      "Hello World Program\n",
      "End\n",
      "End\n"
     ]
    }
   ],
   "source": [
    "# And you can also create it by @\n",
    "\n",
    "def dec2(myFun1):\n",
    "    def now_execute():\n",
    "        print(\"1,2,3............Start\")\n",
    "        myFun1()\n",
    "        print(\"End\")\n",
    "        \n",
    "    return now_execute\n",
    " \n",
    "@dec2    \n",
    "def hello_world():\n",
    "    print(\"Hello World Program\")\n",
    "    \n",
    " \n",
    "obj1=dec2(hello_world)\n",
    "obj1()"
   ]
  },
  {
   "cell_type": "code",
   "execution_count": 12,
   "id": "35666f14",
   "metadata": {},
   "outputs": [
    {
     "name": "stdout",
     "output_type": "stream",
     "text": [
      "Hi\n",
      "I am inside\n",
      "Bye\n"
     ]
    }
   ],
   "source": [
    "def dec2(fun1):\n",
    "    def now_execute():\n",
    "        print(\"Hi\")\n",
    "        fun1()\n",
    "        print(\"Bye\")\n",
    "    return now_execute        \n",
    "       \n",
    "def myFun():\n",
    "    print(\"I am inside\")\n",
    "    \n",
    "    \n",
    "obj1=dec2(myFun)\n",
    "obj1()"
   ]
  },
  {
   "cell_type": "code",
   "execution_count": 62,
   "id": "96617945",
   "metadata": {},
   "outputs": [
    {
     "name": "stdout",
     "output_type": "stream",
     "text": [
      "Dividing 4  by 7\n",
      "0.5714285714285714\n"
     ]
    }
   ],
   "source": [
    "# Example:\n",
    "\n",
    "\n",
    "def smart_divide(myFunc):\n",
    "    def inner(a,b):\n",
    "        print(\"Dividing\", a,\" by\", b)\n",
    "        if b==0:\n",
    "            print(\"Denominator can't be zero\")\n",
    "            return      \n",
    "        else:\n",
    "            myFunc(a,b)\n",
    "    return inner\n",
    "\n",
    "\n",
    "@smart_divide\n",
    "def divide(a,b):\n",
    "    print(a/b)\n",
    "    \n",
    "    \n",
    "divide(4,7)"
   ]
  },
  {
   "cell_type": "code",
   "execution_count": null,
   "id": "e660becc",
   "metadata": {},
   "outputs": [],
   "source": []
  },
  {
   "cell_type": "code",
   "execution_count": null,
   "id": "afec5369",
   "metadata": {},
   "outputs": [],
   "source": [
    "# What does early binding means?\n",
    "\n"
   ]
  },
  {
   "cell_type": "markdown",
   "id": "2a0e6c49",
   "metadata": {},
   "source": [
    "# Some tricky questions\n"
   ]
  },
  {
   "cell_type": "code",
   "execution_count": 12,
   "id": "448542e5",
   "metadata": {},
   "outputs": [],
   "source": [
    "# How do you implement a probablity plot using numpy and matplotlib\n",
    "\n",
    "\n",
    "import numpy as np\n",
    "import pandas as pd\n",
    "import matplotlib as plt\n",
    "%matplotlib inline\n",
    "\n",
    "import pylab\n",
    "import scipy.stats as stats\n",
    "\n",
    "\n"
   ]
  },
  {
   "cell_type": "code",
   "execution_count": 16,
   "id": "5c768546",
   "metadata": {},
   "outputs": [],
   "source": [
    "n1= np.random.normal(loc=0, scale=1, size=1000)\n",
    "np.percentile(n1,100)\n",
    "\n",
    "n1= np.random.normal(loc=20, scale=3, size=100)\n"
   ]
  },
  {
   "cell_type": "code",
   "execution_count": 18,
   "id": "d32fb940",
   "metadata": {},
   "outputs": [
    {
     "ename": "AttributeError",
     "evalue": "module 'matplotlib' has no attribute 'show'",
     "output_type": "error",
     "traceback": [
      "\u001b[1;31m---------------------------------------------------------------------------\u001b[0m",
      "\u001b[1;31mAttributeError\u001b[0m                            Traceback (most recent call last)",
      "\u001b[1;32m<ipython-input-18-44992230681e>\u001b[0m in \u001b[0;36m<module>\u001b[1;34m\u001b[0m\n\u001b[0;32m      1\u001b[0m \u001b[0mstats\u001b[0m\u001b[1;33m.\u001b[0m\u001b[0mprobplot\u001b[0m\u001b[1;33m(\u001b[0m\u001b[0mn1\u001b[0m\u001b[1;33m,\u001b[0m \u001b[0mdist\u001b[0m\u001b[1;33m=\u001b[0m\u001b[1;34m'norm'\u001b[0m\u001b[1;33m,\u001b[0m \u001b[0mplot\u001b[0m\u001b[1;33m=\u001b[0m\u001b[0mpylab\u001b[0m\u001b[1;33m)\u001b[0m\u001b[1;33m\u001b[0m\u001b[1;33m\u001b[0m\u001b[0m\n\u001b[1;32m----> 2\u001b[1;33m \u001b[0mplt\u001b[0m\u001b[1;33m.\u001b[0m\u001b[0mshow\u001b[0m\u001b[1;33m(\u001b[0m\u001b[1;33m)\u001b[0m\u001b[1;33m\u001b[0m\u001b[1;33m\u001b[0m\u001b[0m\n\u001b[0m",
      "\u001b[1;31mAttributeError\u001b[0m: module 'matplotlib' has no attribute 'show'"
     ]
    },
    {
     "data": {
      "image/png": "[encoded data removed]",
      "text/plain": [
       "<Figure size 432x288 with 1 Axes>"
      ]
     },
     "metadata": {
      "needs_background": "light"
     },
     "output_type": "display_data"
    }
   ],
   "source": [
    "stats.probplot(n1, dist='norm', plot=pylab)\n",
    "plt.show()"
   ]
  },
  {
   "cell_type": "code",
   "execution_count": 14,
   "id": "8aa83529",
   "metadata": {},
   "outputs": [
    {
     "name": "stdout",
     "output_type": "stream",
     "text": [
      "Palindrome\n"
     ]
    }
   ],
   "source": [
    "# Check palindrome\n",
    "\n",
    "n=124421\n",
    "\n",
    "\n",
    "if str(n)==str(n)[::-1]:\n",
    "    print(\"Palindrome\")\n",
    "else:\n",
    "    print(\"NO\")"
   ]
  },
  {
   "cell_type": "code",
   "execution_count": 31,
   "id": "d389c19a",
   "metadata": {},
   "outputs": [
    {
     "name": "stdout",
     "output_type": "stream",
     "text": [
      "Enter No: 1221\n",
      "1\n",
      "2\n",
      "2\n",
      "1\n",
      "reverse is :  1221\n"
     ]
    }
   ],
   "source": [
    "# Let's apply by code\n",
    "\n",
    "n=int(input(\"Enter No: \"))\n",
    "\n",
    "temp=n\n",
    "rev=0\n",
    "while n>0:\n",
    "    dig=n%10\n",
    "    rev= rev*10 + dig\n",
    "    print(dig)\n",
    "    n=n//10\n",
    "print(\"reverse is : \", rev)  \n"
   ]
  },
  {
   "cell_type": "code",
   "execution_count": 16,
   "id": "eeee3599",
   "metadata": {},
   "outputs": [
    {
     "name": "stdout",
     "output_type": "stream",
     "text": [
      "5\n",
      "-----------------------------------------Your Output Is-----------------------------------------\n",
      "1 \n",
      "2 2 \n",
      "3 3 3 \n",
      "4 4 4 4 \n",
      "5 5 5 5 5 \n"
     ]
    }
   ],
   "source": [
    "'''\n",
    "print the pattern\n",
    "\n",
    "1\n",
    "2 2\n",
    "3 3 3\n",
    "4 4 4 4\n",
    "5 5 5 5 5\n",
    "\n",
    "'''\n",
    "\n",
    "\n",
    "\n",
    "n=int(input())\n",
    "print(\"-----------------------------------------Your Output Is-----------------------------------------\")\n",
    "for i in range(1,n+1,1):\n",
    "    for j in range(1, i+1,1):\n",
    "        print(i, end=' ')\n",
    "    print(\"\")\n",
    "\n",
    "\n",
    "\n"
   ]
  },
  {
   "cell_type": "code",
   "execution_count": 38,
   "id": "36c341aa",
   "metadata": {},
   "outputs": [
    {
     "name": "stdout",
     "output_type": "stream",
     "text": [
      "# \n",
      "# # \n",
      "# # # \n",
      "# # # # \n",
      "# # # # # \n"
     ]
    }
   ],
   "source": [
    "'''\n",
    "#\n",
    "##\n",
    "###\n",
    "####\n",
    "#####\n",
    "'''\n",
    "\n",
    "n=5\n",
    "\n",
    "for i in range(1,n+1,1):\n",
    "    for j in range(1,i+1,1):\n",
    "        print('#',end=' ')\n",
    "    print(\"\")    \n"
   ]
  },
  {
   "cell_type": "code",
   "execution_count": 41,
   "id": "8b86829f",
   "metadata": {},
   "outputs": [
    {
     "name": "stdout",
     "output_type": "stream",
     "text": [
      "\n",
      "0 \n",
      "0 1 \n",
      "0 1 2 \n",
      "0 1 2 3 \n",
      "0 1 2 3 4 \n"
     ]
    }
   ],
   "source": [
    "'''\n",
    "0\n",
    "0 1\n",
    "0 1 2\n",
    "0 1 2 3\n",
    "0 1 2 3 4\n",
    "\n",
    "'''\n",
    "\n",
    "n=5\n",
    "\n",
    "for i in range(0,n+1,1):\n",
    "    for j in range(0,i,1):\n",
    "        print(j, end=' ')\n",
    "    print(\"\")\n",
    "\n"
   ]
  },
  {
   "cell_type": "code",
   "execution_count": 46,
   "id": "b7470010",
   "metadata": {},
   "outputs": [
    {
     "name": "stdout",
     "output_type": "stream",
     "text": [
      "0C0 \n",
      "1C0 1C1 \n",
      "2C0 2C1 2C2 \n",
      "3C0 3C1 3C2 3C3 \n"
     ]
    }
   ],
   "source": [
    "'''\n",
    "print the Pascal's triangle pattern\n",
    "\n",
    "0C0\n",
    "1C0 1C1\n",
    "2C0 2C1 2C2\n",
    "3C0 3C1 3C2 3C3\n",
    "'''\n",
    "\n",
    "\n",
    "n=4\n",
    "\n",
    "for i in range(0,n,1):\n",
    "    for j in range(0, i+1,1):\n",
    "        print(str(i)+'C'+str(j), end=' ')\n",
    "    print(\"\")    \n",
    "        \n",
    "\n"
   ]
  },
  {
   "cell_type": "code",
   "execution_count": null,
   "id": "06f4a291",
   "metadata": {},
   "outputs": [],
   "source": [
    "'''\n",
    "print the Pascal's triangle pattern\n",
    "\n",
    "0C0\n",
    "1C0 1C1\n",
    "2C0 2C1 2C2\n",
    "3C0 3C1 3C2 3C3\n",
    "\n",
    "\n",
    "Output\n",
    "\n",
    "    1\n",
    "   1 1\n",
    "  1 2 1\n",
    " 1 3 3 1\n",
    "1 4 6 4 1\n",
    "\n",
    "'''"
   ]
  },
  {
   "cell_type": "code",
   "execution_count": 50,
   "id": "5fbfa179",
   "metadata": {},
   "outputs": [
    {
     "name": "stdout",
     "output_type": "stream",
     "text": [
      "    1 \n",
      "   1 2 \n",
      "  1 2 3 \n",
      " 1 2 3 4 \n",
      "1 2 3 4 5 \n"
     ]
    }
   ],
   "source": [
    "\n",
    "n=5\n",
    "\n",
    "for i in range(1, n+1,1):\n",
    "    print(\" \"*(n-i),end='')\n",
    "    for j in range(1, i+1,1):\n",
    "        print(j, end=' ')\n",
    "        \n",
    "    print(\"\")    \n"
   ]
  },
  {
   "cell_type": "code",
   "execution_count": 52,
   "id": "eeb0885c",
   "metadata": {},
   "outputs": [
    {
     "data": {
      "text/plain": [
       "120"
      ]
     },
     "execution_count": 52,
     "metadata": {},
     "output_type": "execute_result"
    }
   ],
   "source": [
    "# 0c0\n",
    "# 1c0 1c1\n",
    "# 2c0 2c1 2c2\n",
    "\n",
    "import math\n",
    "a=5\n",
    "math.factorial(a)\n",
    "\n"
   ]
  },
  {
   "cell_type": "code",
   "execution_count": 55,
   "id": "99b7c372",
   "metadata": {},
   "outputs": [
    {
     "name": "stdout",
     "output_type": "stream",
     "text": [
      "      1 \n",
      "     1 1 \n",
      "    1 2 1 \n",
      "   1 3 3 1 \n",
      "  1 4 6 4 1 \n",
      " 1 5 10 10 5 1 \n"
     ]
    }
   ],
   "source": [
    "n=6\n",
    "\n",
    "for i in range(0, n,1):\n",
    "    print(\" \"*(n-i),end='')\n",
    "    for j in range(0, i+1,1):\n",
    "        val= (math.factorial(i))/(math.factorial(j) * math.factorial(i-j))\n",
    "        print(int(val), end=' ')\n",
    "        \n",
    "    print(\"\")    \n"
   ]
  },
  {
   "cell_type": "code",
   "execution_count": 63,
   "id": "cd989e4f",
   "metadata": {},
   "outputs": [
    {
     "name": "stdout",
     "output_type": "stream",
     "text": [
      "A\n",
      "BB\n",
      "CCC\n",
      "DDDD\n",
      "EEEEE\n"
     ]
    }
   ],
   "source": [
    "''' Print the pattern\n",
    "\n",
    "\n",
    "A\n",
    "BB\n",
    "CCC\n",
    "DDDD\n",
    "\n",
    "'''\n",
    "\n",
    "n=5\n",
    "\n",
    "for i in range(0, n,1):\n",
    "    for j in range(0, i+1,1):\n",
    "        print(chr(65+i), end='')\n",
    "        \n",
    "    print(\"\")\n"
   ]
  },
  {
   "cell_type": "code",
   "execution_count": 69,
   "id": "73d51bca",
   "metadata": {},
   "outputs": [
    {
     "data": {
      "text/plain": [
       "90"
      ]
     },
     "execution_count": 69,
     "metadata": {},
     "output_type": "execute_result"
    }
   ],
   "source": [
    "ord('Z')\n",
    "\n",
    "# i=0\n",
    "# chr(65+i)\n"
   ]
  },
  {
   "cell_type": "code",
   "execution_count": 71,
   "id": "e8e8e860",
   "metadata": {},
   "outputs": [
    {
     "name": "stdout",
     "output_type": "stream",
     "text": [
      "A\n",
      "BC\n",
      "DEF\n",
      "GHIJ\n",
      "KLMNO\n",
      "PQRSTU\n",
      "VWXYZ\n",
      "\n",
      "\n",
      "\n"
     ]
    }
   ],
   "source": [
    "'''\n",
    "A\n",
    "BC\n",
    "DEF\n",
    "GHIJ\n",
    "'''\n",
    "\n",
    "n=10\n",
    "\n",
    "f=65\n",
    "\n",
    "for i in range(1,n+1,1):\n",
    "    for j in range(1,i+1,1):\n",
    "        if f>90:\n",
    "            break\n",
    "        print(chr(f),end='')\n",
    "        f+=1\n",
    "    print(\"\")\n",
    "    \n",
    "    \n"
   ]
  },
  {
   "cell_type": "code",
   "execution_count": 6,
   "id": "2fc47d48",
   "metadata": {},
   "outputs": [
    {
     "name": "stdout",
     "output_type": "stream",
     "text": [
      "{'k1': 11, 'k2': 21, 'k3': 31}\n"
     ]
    }
   ],
   "source": [
    "'''\n",
    "d={'k1':10, 'k2':20, 'k3':30}\n",
    "\n",
    "how to increase the values of keys\n",
    "'''\n",
    "d={'k1':10, 'k2':20, 'k3':30}\n",
    "\n",
    "l=list(d.keys())\n",
    "\n",
    "for i in l:\n",
    "    d[i]= d[i]+1\n",
    "    \n",
    "print(d)    \n",
    "\n"
   ]
  },
  {
   "cell_type": "code",
   "execution_count": 101,
   "id": "088bc62b",
   "metadata": {},
   "outputs": [
    {
     "data": {
      "text/plain": [
       "0.6097353687525567"
      ]
     },
     "execution_count": 101,
     "metadata": {},
     "output_type": "execute_result"
    }
   ],
   "source": [
    "# Print random number using random library\n",
    "\n",
    "import random\n",
    "\n",
    "# within range\n",
    "# #random.randint(1,10)\n",
    "\n",
    "\n",
    "#Any no\n",
    "random.random()"
   ]
  },
  {
   "cell_type": "code",
   "execution_count": 27,
   "id": "a2ad0494",
   "metadata": {},
   "outputs": [
    {
     "ename": "TypeError",
     "evalue": "'set' object is not an iterator",
     "output_type": "error",
     "traceback": [
      "\u001b[1;31m---------------------------------------------------------------------------\u001b[0m",
      "\u001b[1;31mTypeError\u001b[0m                                 Traceback (most recent call last)",
      "\u001b[1;32m<ipython-input-27-32df7016c35c>\u001b[0m in \u001b[0;36m<module>\u001b[1;34m\u001b[0m\n\u001b[0;32m      1\u001b[0m \u001b[0ms1\u001b[0m\u001b[1;33m=\u001b[0m\u001b[1;33m{\u001b[0m\u001b[1;36m1\u001b[0m\u001b[1;33m,\u001b[0m\u001b[1;36m2\u001b[0m\u001b[1;33m,\u001b[0m\u001b[1;36m3\u001b[0m\u001b[1;33m,\u001b[0m\u001b[1;36m4\u001b[0m\u001b[1;33m,\u001b[0m\u001b[1;36m5\u001b[0m\u001b[1;33m,\u001b[0m\u001b[1;36m6\u001b[0m\u001b[1;33m,\u001b[0m\u001b[1;36m7\u001b[0m\u001b[1;33m,\u001b[0m\u001b[1;36m8\u001b[0m\u001b[1;33m,\u001b[0m\u001b[1;36m9\u001b[0m\u001b[1;33m}\u001b[0m\u001b[1;33m\u001b[0m\u001b[1;33m\u001b[0m\u001b[0m\n\u001b[1;32m----> 2\u001b[1;33m \u001b[0mprint\u001b[0m\u001b[1;33m(\u001b[0m\u001b[0mnext\u001b[0m\u001b[1;33m(\u001b[0m\u001b[0ms1\u001b[0m\u001b[1;33m)\u001b[0m\u001b[1;33m)\u001b[0m\u001b[1;33m\u001b[0m\u001b[1;33m\u001b[0m\u001b[0m\n\u001b[0m",
      "\u001b[1;31mTypeError\u001b[0m: 'set' object is not an iterator"
     ]
    }
   ],
   "source": [
    "s1={1,2,3,4,5,6,7,8,9}\n",
    "print(next(s1))"
   ]
  },
  {
   "cell_type": "code",
   "execution_count": 18,
   "id": "c7899264",
   "metadata": {},
   "outputs": [
    {
     "name": "stdout",
     "output_type": "stream",
     "text": [
      "My name is Shubham and my role is Python Dev\n",
      "Hlw, my name is Shubham and roleis Python Dev\n"
     ]
    }
   ],
   "source": [
    "name='Shubham'\n",
    "role='Python Dev'\n",
    "\n",
    "\n",
    "#By F-String\n",
    "print(f\"My name is {name} and my role is {role}\")\n",
    "\n",
    "\n",
    "#By Format\n",
    "print((\"Hlw, my name is {} and roleis {}\").format(name, role))\n",
    "\n",
    "\n"
   ]
  },
  {
   "cell_type": "code",
   "execution_count": 23,
   "id": "270883a3",
   "metadata": {},
   "outputs": [
    {
     "name": "stdout",
     "output_type": "stream",
     "text": [
      "ARGS  :  (1, 'hello')\n",
      "KARGS :  {'name': 'Mahesh', 'second_name': 'Sharma'}\n"
     ]
    }
   ],
   "source": [
    "''' Denote the usages of args and kwargs\n",
    "\n",
    "args   -- take the argument with no names\n",
    "kwargs -- take the argument with name\n",
    "\n",
    "'''\n",
    "\n",
    "\n",
    "def fun1(*args, **kwargs):\n",
    "    print('ARGS  : ', args)\n",
    "    print(\"KARGS : \", kwargs)\n",
    "\n",
    "\n",
    "    \n",
    "fun1(1,'hello',name='Mahesh', second_name='Sharma')    \n",
    "    \n",
    "\n",
    "\n"
   ]
  },
  {
   "cell_type": "code",
   "execution_count": null,
   "id": "e237a585",
   "metadata": {},
   "outputs": [],
   "source": [
    "''' Shallow copy is python: \n",
    "\n",
    "1) Deep Copy-    Deep copy means you allocate the complete new memory to that object\n",
    "\n",
    "2) Shallow Copy - You just created a copy so if you change in new list that will automatically change in old list\n",
    "\n",
    "\n",
    "'''"
   ]
  },
  {
   "cell_type": "code",
   "execution_count": 29,
   "id": "e69db845",
   "metadata": {},
   "outputs": [
    {
     "data": {
      "text/plain": [
       "[1, 5, 6, 2, 4, 3, 8, 7]"
      ]
     },
     "execution_count": 29,
     "metadata": {},
     "output_type": "execute_result"
    }
   ],
   "source": [
    "'''\n",
    "Shuffle a list\n",
    "\n",
    "'''\n",
    "\n",
    "\n",
    "from random import shuffle\n",
    "values=[1,2,3,4,5,6,7,8]\n",
    "shuffle(values)\n",
    "values\n"
   ]
  },
  {
   "cell_type": "code",
   "execution_count": 5,
   "id": "f24bf011",
   "metadata": {},
   "outputs": [
    {
     "data": {
      "text/plain": [
       "[1, 2, 10, 4]"
      ]
     },
     "execution_count": 5,
     "metadata": {},
     "output_type": "execute_result"
    }
   ],
   "source": [
    "l1=[1,2,3,4]\n",
    "l2=l1\n",
    "l2[2]=10\n",
    "l1"
   ]
  },
  {
   "cell_type": "code",
   "execution_count": 116,
   "id": "b894a8a9",
   "metadata": {},
   "outputs": [
    {
     "data": {
      "text/plain": [
       "[1, 2, 3, 4, 1, 2, 3, 4]"
      ]
     },
     "execution_count": 116,
     "metadata": {},
     "output_type": "execute_result"
    }
   ],
   "source": [
    "l1=[1,2,3,4]\n",
    "\n",
    "l1*2"
   ]
  },
  {
   "cell_type": "code",
   "execution_count": 121,
   "id": "618e5a83",
   "metadata": {},
   "outputs": [
    {
     "name": "stdout",
     "output_type": "stream",
     "text": [
      "345\n",
      "Not an Armstrong no\n"
     ]
    }
   ],
   "source": [
    "'''Check armstrong\n",
    "153- 1**3 + 5**3 + 3**3=>  \n",
    "\n",
    "\n",
    "'''\n",
    "\n",
    "n=int(input())\n",
    "temp=n\n",
    "ans=0\n",
    "while n>0:\n",
    "    dig=n%10\n",
    "    ans=ans+ dig**3\n",
    "    n=n//10\n",
    "    \n",
    "    \n",
    "if ans==temp:\n",
    "    print(\"Armstrong No\")\n",
    "else:\n",
    "    print(\"Not an Armstrong no\")\n",
    "        \n",
    "\n"
   ]
  },
  {
   "cell_type": "code",
   "execution_count": 125,
   "id": "465d2269",
   "metadata": {},
   "outputs": [
    {
     "name": "stdout",
     "output_type": "stream",
     "text": [
      "28\n",
      "Yes, Perfect No\n"
     ]
    }
   ],
   "source": [
    "''' Check for perfect no in python\n",
    "\n",
    "6-------- 1,2,3=> add=> 6\n",
    "28------- 1,2,4,7,14 => add=>28\n",
    "\n",
    "'''\n",
    "\n",
    "n=int(input())\n",
    "l=[1]\n",
    "for i in range(2,(n//2)+1, 1):\n",
    "    if n%i==0:\n",
    "        l.append(i)\n",
    "        \n",
    "if n==sum(l):\n",
    "    print(\"Yes, Perfect No\")\n",
    "else:\n",
    "    print(\"Not a Perfect No\")"
   ]
  },
  {
   "cell_type": "code",
   "execution_count": null,
   "id": "3fc0778a",
   "metadata": {},
   "outputs": [],
   "source": [
    "'''Strong noin python\n",
    "sum of factorial of each individual no is strong no\n",
    "\n",
    "145=> fact(1)+fact(4)+fact(5)\n",
    "\n",
    "'''"
   ]
  },
  {
   "cell_type": "code",
   "execution_count": 140,
   "id": "61d1e458",
   "metadata": {},
   "outputs": [
    {
     "data": {
      "text/plain": [
       "8"
      ]
     },
     "execution_count": 140,
     "metadata": {},
     "output_type": "execute_result"
    }
   ],
   "source": [
    "#print second largest element in list\n",
    "\n",
    "l=[1,2,6,10,10,7,8,3]\n",
    "\n",
    "l=set(l)\n",
    "sorted(l)[-2]\n"
   ]
  },
  {
   "cell_type": "code",
   "execution_count": null,
   "id": "e1c57b70",
   "metadata": {},
   "outputs": [],
   "source": []
  },
  {
   "cell_type": "code",
   "execution_count": null,
   "id": "2a80394c",
   "metadata": {},
   "outputs": [],
   "source": []
  },
  {
   "cell_type": "markdown",
   "id": "efa5acdb",
   "metadata": {},
   "source": [
    "##  hstack vs vstack in numpy\n",
    "\n",
    "\n",
    "\n",
    "**hstack**- is used to join two arrays horizontally\n",
    "**vstack**- is used to join two arrays vertically\n",
    "\n",
    "\n",
    "\n"
   ]
  },
  {
   "cell_type": "code",
   "execution_count": 11,
   "id": "0682630c",
   "metadata": {},
   "outputs": [],
   "source": [
    "import numpy as np"
   ]
  },
  {
   "cell_type": "code",
   "execution_count": 30,
   "id": "e762609d",
   "metadata": {},
   "outputs": [],
   "source": [
    "a=np.array([1,2,3])\n",
    "b=np.array([4,5,6])"
   ]
  },
  {
   "cell_type": "code",
   "execution_count": 31,
   "id": "e0c6c799",
   "metadata": {},
   "outputs": [
    {
     "data": {
      "text/plain": [
       "array([1, 2, 3, 4, 5, 6])"
      ]
     },
     "execution_count": 31,
     "metadata": {},
     "output_type": "execute_result"
    }
   ],
   "source": [
    "# Performing hstack\n",
    "\n",
    "c=np.hstack((a,b))\n",
    "c"
   ]
  },
  {
   "cell_type": "code",
   "execution_count": 32,
   "id": "cade6782",
   "metadata": {},
   "outputs": [
    {
     "data": {
      "text/plain": [
       "array([[1, 2, 3],\n",
       "       [4, 5, 6]])"
      ]
     },
     "execution_count": 32,
     "metadata": {},
     "output_type": "execute_result"
    }
   ],
   "source": [
    "c=np.vstack((a,b))\n",
    "c"
   ]
  },
  {
   "cell_type": "code",
   "execution_count": null,
   "id": "8ede29e7",
   "metadata": {},
   "outputs": [],
   "source": []
  },
  {
   "cell_type": "markdown",
   "id": "fb2a20b0",
   "metadata": {},
   "source": [
    "# -------------------------------------Generator and Iterator-----------------------------------------"
   ]
  },
  {
   "cell_type": "code",
   "execution_count": null,
   "id": "6173661f",
   "metadata": {},
   "outputs": [],
   "source": [
    "All generators are iterator but not vice cersa\n",
    "\n",
    "-> Generator use Yield keyword to printing the answer while iterator use iter, next function\n"
   ]
  },
  {
   "cell_type": "code",
   "execution_count": 34,
   "id": "7248f9c4",
   "metadata": {},
   "outputs": [
    {
     "name": "stdout",
     "output_type": "stream",
     "text": [
      "1\n",
      "4\n",
      "9\n"
     ]
    }
   ],
   "source": [
    "# Generator\n",
    "\n",
    "def sqr(n):\n",
    "    for i in range(1,n+1):\n",
    "        yield i*i\n",
    "        \n",
    "a=sqr(3)\n",
    "print(next(a))\n",
    "print(next(a))\n",
    "print(next(a))\n"
   ]
  },
  {
   "cell_type": "code",
   "execution_count": null,
   "id": "a06ea0fd",
   "metadata": {},
   "outputs": [],
   "source": []
  },
  {
   "cell_type": "code",
   "execution_count": 22,
   "id": "a95d8a07",
   "metadata": {},
   "outputs": [
    {
     "name": "stdout",
     "output_type": "stream",
     "text": [
      "1\n",
      "2\n",
      "3\n"
     ]
    }
   ],
   "source": [
    "#Iterator\n",
    "\n",
    "iter_list=iter([1,2,3])\n",
    "print(next(iter_list))\n",
    "print(next(iter_list))\n",
    "print(next(iter_list))\n"
   ]
  },
  {
   "cell_type": "code",
   "execution_count": null,
   "id": "e5469bf3",
   "metadata": {},
   "outputs": [],
   "source": [
    "# Diff- In generator you can't use any item again but that is not the case in iterator"
   ]
  },
  {
   "cell_type": "code",
   "execution_count": null,
   "id": "d798af59",
   "metadata": {},
   "outputs": [],
   "source": []
  },
  {
   "cell_type": "code",
   "execution_count": 9,
   "id": "796da53a",
   "metadata": {},
   "outputs": [
    {
     "data": {
      "text/plain": [
       "1"
      ]
     },
     "execution_count": 9,
     "metadata": {},
     "output_type": "execute_result"
    }
   ],
   "source": [
    "from collections import Counter\n",
    "\n",
    "l='aaabbcc'\n",
    "l5=list(l)\n",
    "temp=list(dict(Counter(l5)).values())\n",
    "temp.count(3)"
   ]
  },
  {
   "cell_type": "code",
   "execution_count": 10,
   "id": "0e8c89fa",
   "metadata": {},
   "outputs": [
    {
     "name": "stdout",
     "output_type": "stream",
     "text": [
      "8\n"
     ]
    }
   ],
   "source": [
    "l=2\n",
    "r=5\n",
    "\n",
    "total=0\n",
    "for i in range(l,r+1,1):\n",
    "    if i%2!=0:\n",
    "        total+=i\n",
    "print(total)        "
   ]
  },
  {
   "cell_type": "code",
   "execution_count": null,
   "id": "0e1b5ee1",
   "metadata": {},
   "outputs": [],
   "source": [
    "l=[1,2,3,4,2]\n",
    "temp=l\n",
    "l.sort()\n",
    "k=2\n",
    "for i in range(1,k+1,1):\n",
    "    \n",
    "    \n",
    "\n",
    "    \n"
   ]
  },
  {
   "cell_type": "code",
   "execution_count": 12,
   "id": "a291778c",
   "metadata": {},
   "outputs": [
    {
     "data": {
      "text/plain": [
       "3"
      ]
     },
     "execution_count": 12,
     "metadata": {},
     "output_type": "execute_result"
    }
   ],
   "source": [
    "7//2"
   ]
  },
  {
   "cell_type": "code",
   "execution_count": null,
   "id": "340f0ca1",
   "metadata": {},
   "outputs": [],
   "source": []
  },
  {
   "cell_type": "markdown",
   "id": "bb4430ac",
   "metadata": {},
   "source": [
    "# Decorator and closure\n",
    "\n",
    "\n"
   ]
  },
  {
   "cell_type": "code",
   "execution_count": 1,
   "id": "f9670b92",
   "metadata": {},
   "outputs": [
    {
     "name": "stdout",
     "output_type": "stream",
     "text": [
      "Start\n",
      "Hello Sir\n",
      "End\n"
     ]
    }
   ],
   "source": [
    "#Closure\n",
    "\n",
    "# When you create a function inside another function(Here you will pass msg as an argument only)\n",
    "\n",
    "def main_function():\n",
    "    msg=\"Hello Sir\"\n",
    "    def sub_function():\n",
    "        print(\"Start\")\n",
    "        print(msg)\n",
    "        print(\"End\")\n",
    "    return sub_function()\n",
    "\n",
    "main_function()\n",
    "\n",
    "#We can also pass msg as a parameter\n"
   ]
  },
  {
   "cell_type": "code",
   "execution_count": null,
   "id": "485b106b",
   "metadata": {},
   "outputs": [],
   "source": [
    "#Decorator\n",
    "\n",
    "#Here we pass function as an arguments\n"
   ]
  },
  {
   "cell_type": "code",
   "execution_count": 14,
   "id": "43ea67fb",
   "metadata": {},
   "outputs": [
    {
     "name": "stdout",
     "output_type": "stream",
     "text": [
      "Start\n",
      "I am inside exp function\n",
      "End\n",
      "Start\n"
     ]
    },
    {
     "ename": "TypeError",
     "evalue": "'NoneType' object is not callable",
     "output_type": "error",
     "traceback": [
      "\u001b[1;31m---------------------------------------------------------------------------\u001b[0m",
      "\u001b[1;31mTypeError\u001b[0m                                 Traceback (most recent call last)",
      "\u001b[1;32m<ipython-input-14-6e2d8484e9bb>\u001b[0m in \u001b[0;36m<module>\u001b[1;34m\u001b[0m\n\u001b[0;32m     12\u001b[0m     \u001b[0mprint\u001b[0m\u001b[1;33m(\u001b[0m\u001b[1;34m\"I am inside exp function\"\u001b[0m\u001b[1;33m)\u001b[0m\u001b[1;33m\u001b[0m\u001b[1;33m\u001b[0m\u001b[0m\n\u001b[0;32m     13\u001b[0m \u001b[1;33m\u001b[0m\u001b[0m\n\u001b[1;32m---> 14\u001b[1;33m \u001b[0mo\u001b[0m\u001b[1;33m=\u001b[0m \u001b[0mmain_function\u001b[0m\u001b[1;33m(\u001b[0m\u001b[0mexp\u001b[0m\u001b[1;33m)\u001b[0m\u001b[1;33m\u001b[0m\u001b[1;33m\u001b[0m\u001b[0m\n\u001b[0m\u001b[0;32m     15\u001b[0m \u001b[0mo\u001b[0m\u001b[1;33m\u001b[0m\u001b[1;33m\u001b[0m\u001b[0m\n",
      "\u001b[1;32m<ipython-input-14-6e2d8484e9bb>\u001b[0m in \u001b[0;36mmain_function\u001b[1;34m(temp)\u001b[0m\n\u001b[0;32m      6\u001b[0m         \u001b[0mtemp\u001b[0m\u001b[1;33m(\u001b[0m\u001b[1;33m)\u001b[0m\u001b[1;33m\u001b[0m\u001b[1;33m\u001b[0m\u001b[0m\n\u001b[0;32m      7\u001b[0m         \u001b[0mprint\u001b[0m\u001b[1;33m(\u001b[0m\u001b[1;34m\"End\"\u001b[0m\u001b[1;33m)\u001b[0m\u001b[1;33m\u001b[0m\u001b[1;33m\u001b[0m\u001b[0m\n\u001b[1;32m----> 8\u001b[1;33m     \u001b[1;32mreturn\u001b[0m \u001b[0msub_function\u001b[0m\u001b[1;33m(\u001b[0m\u001b[1;33m)\u001b[0m\u001b[1;33m\u001b[0m\u001b[1;33m\u001b[0m\u001b[0m\n\u001b[0m\u001b[0;32m      9\u001b[0m \u001b[1;33m\u001b[0m\u001b[0m\n\u001b[0;32m     10\u001b[0m \u001b[1;33m@\u001b[0m\u001b[0mmain_function\u001b[0m\u001b[1;33m\u001b[0m\u001b[1;33m\u001b[0m\u001b[0m\n",
      "\u001b[1;32m<ipython-input-14-6e2d8484e9bb>\u001b[0m in \u001b[0;36msub_function\u001b[1;34m()\u001b[0m\n\u001b[0;32m      4\u001b[0m     \u001b[1;32mdef\u001b[0m \u001b[0msub_function\u001b[0m\u001b[1;33m(\u001b[0m\u001b[1;33m)\u001b[0m\u001b[1;33m:\u001b[0m\u001b[1;33m\u001b[0m\u001b[1;33m\u001b[0m\u001b[0m\n\u001b[0;32m      5\u001b[0m         \u001b[0mprint\u001b[0m\u001b[1;33m(\u001b[0m\u001b[1;34m\"Start\"\u001b[0m\u001b[1;33m)\u001b[0m\u001b[1;33m\u001b[0m\u001b[1;33m\u001b[0m\u001b[0m\n\u001b[1;32m----> 6\u001b[1;33m         \u001b[0mtemp\u001b[0m\u001b[1;33m(\u001b[0m\u001b[1;33m)\u001b[0m\u001b[1;33m\u001b[0m\u001b[1;33m\u001b[0m\u001b[0m\n\u001b[0m\u001b[0;32m      7\u001b[0m         \u001b[0mprint\u001b[0m\u001b[1;33m(\u001b[0m\u001b[1;34m\"End\"\u001b[0m\u001b[1;33m)\u001b[0m\u001b[1;33m\u001b[0m\u001b[1;33m\u001b[0m\u001b[0m\n\u001b[0;32m      8\u001b[0m     \u001b[1;32mreturn\u001b[0m \u001b[0msub_function\u001b[0m\u001b[1;33m(\u001b[0m\u001b[1;33m)\u001b[0m\u001b[1;33m\u001b[0m\u001b[1;33m\u001b[0m\u001b[0m\n",
      "\u001b[1;31mTypeError\u001b[0m: 'NoneType' object is not callable"
     ]
    }
   ],
   "source": [
    "#Now this become decorator\n",
    "\n",
    "def main_function(temp):\n",
    "    def sub_function():\n",
    "        print(\"Start\")\n",
    "        temp()\n",
    "        print(\"End\")\n",
    "    return sub_function()\n",
    "\n",
    "@main_function\n",
    "def exp():\n",
    "    print(\"I am inside exp function\")\n",
    "\n",
    "o= main_function(exp)\n",
    "o"
   ]
  },
  {
   "cell_type": "code",
   "execution_count": null,
   "id": "75c8258d",
   "metadata": {},
   "outputs": [],
   "source": []
  },
  {
   "cell_type": "code",
   "execution_count": null,
   "id": "440f8c12",
   "metadata": {},
   "outputs": [],
   "source": []
  }
 ],
 "metadata": {
  "kernelspec": {
   "display_name": "Python 3",
   "language": "python",
   "name": "python3"
  },
  "language_info": {
   "codemirror_mode": {
    "name": "ipython",
    "version": 3
   },
   "file_extension": ".py",
   "mimetype": "text/x-python",
   "name": "python",
   "nbconvert_exporter": "python",
   "pygments_lexer": "ipython3",
   "version": "3.7.3"
  }
 },
 "nbformat": 4,
 "nbformat_minor": 5
}
