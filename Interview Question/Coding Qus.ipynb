{
 "cells": [
  {
   "cell_type": "markdown",
   "id": "beecc131",
   "metadata": {},
   "source": [
    "# Palindrome"
   ]
  },
  {
   "cell_type": "code",
   "execution_count": 2,
   "id": "625bc46c",
   "metadata": {},
   "outputs": [
    {
     "name": "stdout",
     "output_type": "stream",
     "text": [
      "Palindrome\n"
     ]
    }
   ],
   "source": [
    "#s=\"Shubham\"\n",
    "s=\"nitin\"\n",
    "if s==s[::-1]:\n",
    "    print(\"Palindrome\")\n",
    "else:\n",
    "    print(\"Not Palindrome\")"
   ]
  },
  {
   "cell_type": "code",
   "execution_count": 7,
   "id": "f3b4f296",
   "metadata": {},
   "outputs": [
    {
     "name": "stdout",
     "output_type": "stream",
     "text": [
      "Not Palindrome\n"
     ]
    }
   ],
   "source": [
    "#Another way\n",
    "s=\"Nitin\"\n",
    "temp=s\n",
    "ans=\"\"\n",
    "while len(s)!=0:\n",
    "    d=s[-1]\n",
    "    s=s[:-1]\n",
    "    ans+=d\n",
    "    \n",
    "if temp==ans:\n",
    "    print(\"Palindrome\")\n",
    "else:\n",
    "    print(\"Not Palindrome\")   \n"
   ]
  },
  {
   "cell_type": "code",
   "execution_count": 3,
   "id": "22434564",
   "metadata": {},
   "outputs": [
    {
     "name": "stdout",
     "output_type": "stream",
     "text": [
      "3221\n"
     ]
    }
   ],
   "source": [
    "# If no is given\n",
    "\n",
    "n=1223\n",
    "temp=n\n",
    "ans=0\n",
    "while n!=0:\n",
    "    d=n%10\n",
    "    ans= ans*10+d\n",
    "    n=n//10\n",
    "print(ans)    \n"
   ]
  },
  {
   "cell_type": "code",
   "execution_count": 5,
   "id": "9c5c6a3f",
   "metadata": {},
   "outputs": [
    {
     "name": "stdout",
     "output_type": "stream",
     "text": [
      "0 1 1 2 3 5 8 13 21 34 "
     ]
    }
   ],
   "source": [
    "#fibonacci series\n",
    "\n",
    "n=8\n",
    "\n",
    "a,b=0,1\n",
    "\n",
    "print(a,b,end=' ')\n",
    "for i in range(8):\n",
    "    print(a+b, end=' ')\n",
    "    a,b=b,a+b\n",
    "\n",
    "    "
   ]
  },
  {
   "cell_type": "code",
   "execution_count": 1,
   "id": "6d13b405",
   "metadata": {},
   "outputs": [
    {
     "name": "stdout",
     "output_type": "stream",
     "text": [
      "0\n",
      "1\n",
      "1\n",
      "2\n",
      "3\n",
      "5\n",
      "8\n",
      "13\n",
      "21\n",
      "34\n"
     ]
    }
   ],
   "source": [
    "# By Recursion\n",
    "\n",
    "def fib(n):\n",
    "    if n<=1:\n",
    "        return n\n",
    "    else:\n",
    "        return (fib(n-1)+fib(n-2))\n",
    "\n",
    "n=10\n",
    "if n<0:\n",
    "    print(\"Invalid Input\")\n",
    "else:\n",
    "    for i in range(n):\n",
    "        print(fib(i))\n",
    "        \n",
    "        "
   ]
  },
  {
   "cell_type": "code",
   "execution_count": null,
   "id": "1a5113b9",
   "metadata": {},
   "outputs": [],
   "source": []
  },
  {
   "cell_type": "code",
   "execution_count": null,
   "id": "2439b66f",
   "metadata": {},
   "outputs": [],
   "source": []
  },
  {
   "cell_type": "code",
   "execution_count": 2,
   "id": "bd72141e",
   "metadata": {},
   "outputs": [
    {
     "name": "stdout",
     "output_type": "stream",
     "text": [
      "a2b2c2a4f3e1i3\n"
     ]
    }
   ],
   "source": [
    "# compress string=>  AABBCC=> A2B2C2\n",
    "# Exp- aabbccaaaafffeiii=> a2b2c2a4f3e1i3\n",
    "\n",
    "s=\"aabbccaaaafffeiii\"\n",
    "total=1\n",
    "ans=\"\"\n",
    "\n",
    "for i in range(1,len(s)):\n",
    "    if s[i]==s[i-1]:\n",
    "        total+=1\n",
    "    else:\n",
    "        ans+=s[i-1]+str(total)\n",
    "        total=1\n",
    "ans+=s[i-1]+str(total)\n",
    "print(ans)\n",
    "\n"
   ]
  },
  {
   "cell_type": "code",
   "execution_count": 8,
   "id": "a605d807",
   "metadata": {},
   "outputs": [
    {
     "name": "stdout",
     "output_type": "stream",
     "text": [
      "a2b2c2a4f3e1i3\n"
     ]
    }
   ],
   "source": [
    "#By using while\n",
    "\n",
    "s=\"aabbccaaaafffeiii\"\n",
    "total=1\n",
    "ans=\"\"\n",
    "\n",
    "i=1\n",
    "\n",
    "while i<len(s):\n",
    "    if s[i]==s[i-1]:\n",
    "        total+=1\n",
    "    else:\n",
    "        ans+=s[i-1]+str(total)\n",
    "        total=1\n",
    "    i=i+1\n",
    "ans+=s[i-1]+str(total)\n",
    "print(ans)\n"
   ]
  },
  {
   "cell_type": "code",
   "execution_count": null,
   "id": "52ffc442",
   "metadata": {},
   "outputs": [],
   "source": []
  },
  {
   "cell_type": "markdown",
   "id": "b69d3717",
   "metadata": {},
   "source": [
    "## Fizbuzz problem\n",
    "\n",
    "if divided by 3- Fizz\n",
    "              5- Buzz\n",
    "by both 3 and 5- Fizzbuzz\n",
    "\n",
    "\n",
    "\n",
    "Given a range,print no like this\n",
    "1-1\n",
    "2-2\n",
    "3-Fizz\n",
    "4-4\n",
    "5-Buzz\n",
    "\n",
    "--\n",
    "--\n"
   ]
  },
  {
   "cell_type": "code",
   "execution_count": 12,
   "id": "2811bf38",
   "metadata": {},
   "outputs": [
    {
     "name": "stdout",
     "output_type": "stream",
     "text": [
      "1- 1\n",
      "2- 2\n",
      "3- Fizz\n",
      "4- 4\n",
      "5- Buzz\n",
      "6- Fizz\n",
      "7- 7\n",
      "8- 8\n",
      "9- Fizz\n",
      "10- Buzz\n",
      "11- 11\n",
      "12- Fizz\n",
      "13- 13\n",
      "14- 14\n",
      "15- FizzBuzz\n",
      "16- 16\n",
      "17- 17\n"
     ]
    }
   ],
   "source": [
    "def fizbuzz(n):\n",
    "    for i in range(1,n+1,1):\n",
    "        if i%3==0 and i%5==0:\n",
    "            print(f\"{i}- FizzBuzz\")\n",
    "        elif i%3==0:\n",
    "            print(f\"{i}- Fizz\")\n",
    "        elif i%5==0:\n",
    "            print(f\"{i}- Buzz\")\n",
    "        else:\n",
    "            print(f\"{i}- {i}\")\n",
    "            \n",
    "            \n",
    "fizbuzz(17)            "
   ]
  },
  {
   "cell_type": "code",
   "execution_count": 13,
   "id": "884e7493",
   "metadata": {},
   "outputs": [
    {
     "name": "stdout",
     "output_type": "stream",
     "text": [
      "{1: 1, 2: 2, 3: 'Fizz', 4: 4, 5: 'Buzz', 6: 'Fizz', 7: 7, 8: 8, 9: 'Fizz', 10: 'Buzz', 11: 11, 12: 'Fizz', 13: 13, 14: 14, 15: 'Fizzbuzz', 16: 16, 17: 17}\n"
     ]
    }
   ],
   "source": [
    "# Now By using dict\n",
    "d={}\n",
    "\n",
    "def fizbuzz(n):\n",
    "    for i in range(1,n+1,1):\n",
    "        if i%3==0 and i%5==0:\n",
    "            d[i]=\"Fizzbuzz\"\n",
    "        elif i%3==0:\n",
    "            d[i]=\"Fizz\"\n",
    "        elif i%5==0:\n",
    "            d[i]=\"Buzz\"\n",
    "        else:\n",
    "            d[i]=i\n",
    "    print(d)      \n",
    "            \n",
    "            \n",
    "fizbuzz(17)  "
   ]
  },
  {
   "cell_type": "code",
   "execution_count": null,
   "id": "03ec17ae",
   "metadata": {},
   "outputs": [],
   "source": []
  },
  {
   "cell_type": "markdown",
   "id": "167d2818",
   "metadata": {},
   "source": [
    "## Character Occurance\n",
    "\n",
    "Least repeating character in a string\n",
    "count of any particular element\n",
    "count of all elements\n",
    "\n",
    "\n"
   ]
  },
  {
   "cell_type": "code",
   "execution_count": 3,
   "id": "d39240f7",
   "metadata": {},
   "outputs": [
    {
     "name": "stdout",
     "output_type": "stream",
     "text": [
      "{'a': 3, 'b': 3, 'h': 9, 's': 7, 'j': 4, 'i': 1, 'd': 1, 'k': 1}\n"
     ]
    },
    {
     "data": {
      "text/plain": [
       "'i'"
      ]
     },
     "execution_count": 3,
     "metadata": {},
     "output_type": "execute_result"
    }
   ],
   "source": [
    "\n",
    "\n",
    "def least_chr_occurance(s):\n",
    "    d={}\n",
    "    for i in s:\n",
    "        if i in d:\n",
    "            d[i]=d[i]+1\n",
    "        else:\n",
    "            d[i]=1\n",
    "    return d\n",
    "d= least_chr_occurance(\"aaabbbhhhshhhhhssssjjijsjshdk\")\n",
    "print(d)\n",
    "\n",
    "\n",
    "# To get min value\n",
    "ans= min(d, key=d.get)\n",
    "\n",
    "ans"
   ]
  },
  {
   "cell_type": "code",
   "execution_count": 26,
   "id": "30ed6e61",
   "metadata": {},
   "outputs": [
    {
     "name": "stdout",
     "output_type": "stream",
     "text": [
      "D is:  Counter({'h': 9, 's': 7, 'j': 4, 'a': 3, 'b': 3, 'i': 1, 'd': 1, 'k': 1})\n",
      "Ans is :  i\n"
     ]
    }
   ],
   "source": [
    "#using inbulid method counter\n",
    "s='aaabbbhhhshhhhhssssjjijsjshdk'\n",
    "from collections import Counter\n",
    "d=Counter(s)\n",
    "print(\"D is: \",d)\n",
    "ans=min(d, key=d.get)\n",
    "print(\"Ans is : \",ans)"
   ]
  },
  {
   "cell_type": "code",
   "execution_count": null,
   "id": "44ebc203",
   "metadata": {},
   "outputs": [],
   "source": []
  },
  {
   "cell_type": "markdown",
   "id": "3d55991a",
   "metadata": {},
   "source": [
    "## Prime number"
   ]
  },
  {
   "cell_type": "code",
   "execution_count": 2,
   "id": "de3d9654",
   "metadata": {},
   "outputs": [
    {
     "name": "stdout",
     "output_type": "stream",
     "text": [
      "Enter the Number: 4\n",
      "Given No 4 is not prime\n"
     ]
    }
   ],
   "source": [
    "# check is it prime no or not\n",
    "\n",
    "n=int(input(\"Enter the Number: \"))\n",
    "f=0\n",
    "for i in range(2, n//2 +1):\n",
    "    if n%i==0:\n",
    "        f=1\n",
    "        break\n",
    "if f==0:\n",
    "    print(f\"Given No {n} is a Prime Number\")\n",
    "else:\n",
    "    print(f\"Given No {n} is not prime\")\n"
   ]
  },
  {
   "cell_type": "code",
   "execution_count": 1,
   "id": "2bbe7985",
   "metadata": {},
   "outputs": [
    {
     "name": "stdout",
     "output_type": "stream",
     "text": [
      "[3, 5, 7, 11, 13, 17, 19, 23, 29, 31, 37, 41, 43, 47]\n"
     ]
    }
   ],
   "source": [
    "# With in range all prime numbers\n",
    "\n",
    "\n",
    "a=3\n",
    "b=50\n",
    "ans=[]\n",
    "for i in range(a,b+1,1):\n",
    "    f=0\n",
    "    for j in range(2,i//2 +1, 1):\n",
    "        if i%j==0:\n",
    "            f=1\n",
    "            break\n",
    "    if f==0:\n",
    "        ans.append(i)\n",
    "print(ans)        \n",
    "        \n",
    "        \n"
   ]
  },
  {
   "cell_type": "code",
   "execution_count": null,
   "id": "9935d191",
   "metadata": {},
   "outputs": [],
   "source": []
  },
  {
   "cell_type": "markdown",
   "id": "b90267df",
   "metadata": {},
   "source": [
    "## Shift all zero to the left side of the list without using a new list- Vision IS Company\n",
    "\n",
    "\n",
    "\n",
    "\n",
    "l=[1,0,1,0,1,0,1,0]\n",
    "\n",
    "Output: [0, 0, 0, 0, 1, 1, 1, 1]\n",
    "\n"
   ]
  },
  {
   "cell_type": "code",
   "execution_count": 3,
   "id": "c3ae5ab5",
   "metadata": {},
   "outputs": [
    {
     "data": {
      "text/plain": [
       "[0, 0, 0, 0, 1, 1, 1, 1]"
      ]
     },
     "execution_count": 3,
     "metadata": {},
     "output_type": "execute_result"
    }
   ],
   "source": [
    "l=[1,0,1,0,1,0,1,0]\n",
    "\n",
    "c=0\n",
    "for i in range(len(l)):\n",
    "    if l[i]==1:\n",
    "        l[i]=0\n",
    "        c+=1\n",
    "for i in range(1,c+1):\n",
    "    l[-i]=1\n",
    "    \n",
    "l    "
   ]
  },
  {
   "cell_type": "code",
   "execution_count": null,
   "id": "e469aaf7",
   "metadata": {},
   "outputs": [],
   "source": []
  },
  {
   "cell_type": "markdown",
   "id": "2a7939ec",
   "metadata": {},
   "source": [
    "## Next Qus - Vision IS Company\n",
    "\n",
    "Given an unsorted array arr[] of size N. Rotate the array to the left (counter-clockwise direction) by D steps,\n",
    "where D is a positive integer.\n",
    "Input:\n",
    "N = 5, D = 2\n",
    "arr[] = {1,2,3,4,5}\n",
    "Output: 3 4 5 1 2\n",
    "Explanation: 1 2 3 4 5  when rotated by 2 elements, it becomes 3 4 5 1 2"
   ]
  },
  {
   "cell_type": "code",
   "execution_count": 10,
   "id": "7a4ffe4d",
   "metadata": {},
   "outputs": [
    {
     "data": {
      "text/plain": [
       "[3, 4, 5, 1, 2]"
      ]
     },
     "execution_count": 10,
     "metadata": {},
     "output_type": "execute_result"
    }
   ],
   "source": [
    "l=[1,2,3,4,5]\n",
    "d=2\n",
    "for i in range(d):\n",
    "    temp=l.pop(0)\n",
    "    l.append(temp)\n",
    "l    "
   ]
  },
  {
   "cell_type": "code",
   "execution_count": null,
   "id": "02dc584b",
   "metadata": {},
   "outputs": [],
   "source": []
  },
  {
   "cell_type": "markdown",
   "id": "b7396747",
   "metadata": {},
   "source": [
    "## Generator Example- Vision IS Company\n"
   ]
  },
  {
   "cell_type": "code",
   "execution_count": 13,
   "id": "30de8a85",
   "metadata": {},
   "outputs": [
    {
     "name": "stdout",
     "output_type": "stream",
     "text": [
      "1\n",
      "4\n",
      "9\n"
     ]
    }
   ],
   "source": [
    "def sqr(l):\n",
    "    for i in l:\n",
    "        yield i*i\n",
    "\n",
    "l=[1,2,3]\n",
    "ans=sqr(l)\n",
    "print(next(ans))\n",
    "print(next(ans))\n",
    "print(next(ans))\n",
    "#print(next(ans))\n"
   ]
  },
  {
   "cell_type": "code",
   "execution_count": null,
   "id": "11cec10a",
   "metadata": {},
   "outputs": [],
   "source": [
    "# 2nd highest salary -Vision IS Company\n",
    "\n",
    "In SQL\n",
    "select ID,Name from emp order by Salary desc limit 2,1\n",
    "\n",
    "\n",
    "In ORM:\n",
    "\n",
    "\n"
   ]
  },
  {
   "cell_type": "code",
   "execution_count": null,
   "id": "05f24a33",
   "metadata": {},
   "outputs": [],
   "source": []
  },
  {
   "cell_type": "markdown",
   "id": "f5f4bb8a",
   "metadata": {},
   "source": [
    "## WNS Company"
   ]
  },
  {
   "cell_type": "code",
   "execution_count": null,
   "id": "a087231b",
   "metadata": {},
   "outputs": [],
   "source": []
  },
  {
   "cell_type": "markdown",
   "id": "ed05ad0c",
   "metadata": {},
   "source": [
    "\n",
    "\n",
    "Statement: Remove smallest n and largest m no of items from the array and return the updated array\n",
    "remove_items(array, n, m) {\n",
    "}\n",
    "array = [ 3,5,79,2,23,18,9,23,45,3,5,45,95]\n",
    "n = 2\n",
    "m = 3\n",
    "output = [5,23,18,9,23 ,3,5,45]\n",
    "         \n"
   ]
  },
  {
   "cell_type": "code",
   "execution_count": 22,
   "id": "5d0f079a",
   "metadata": {},
   "outputs": [
    {
     "data": {
      "text/plain": [
       "[5, 23, 18, 9, 23, 3, 5, 45]"
      ]
     },
     "execution_count": 22,
     "metadata": {},
     "output_type": "execute_result"
    }
   ],
   "source": [
    "l = [ 3,5,79,2,23,18,9,23,45,3,5,45,95]\n",
    "n = 2\n",
    "m = 3\n",
    "temp=sorted(list(set(l)))\n",
    "small= temp[0:2]\n",
    "large=temp[-3:]\n",
    "ans=[]\n",
    "for i in l:\n",
    "    if i in small:\n",
    "        small.remove(i)\n",
    "    elif i in large:\n",
    "        large.remove(i)\n",
    "    else:\n",
    "        ans.append(i)\n",
    "ans        \n",
    "        "
   ]
  },
  {
   "cell_type": "markdown",
   "id": "3b404653",
   "metadata": {},
   "source": [
    "## Next Qus\n",
    "\n",
    "You are required to write a function where an integers’ array, Input, is given. \n",
    "The function returns an array, Output. The elements of this array, \n",
    "Output, are the product of all the elements of array, Input, except the ith position element Input[i]. \n",
    "Sample Input – [2,5,3,8,10] \n",
    "Output – [1200, 480, 800, 300, 240].\n"
   ]
  },
  {
   "cell_type": "code",
   "execution_count": 24,
   "id": "904b478a",
   "metadata": {},
   "outputs": [
    {
     "data": {
      "text/plain": [
       "[120, 60, 40, 30, 24]"
      ]
     },
     "execution_count": 24,
     "metadata": {},
     "output_type": "execute_result"
    }
   ],
   "source": [
    "#Simple way\n",
    "\n",
    "#l=[2,5,3,8,10]\n",
    "l=[1,2,3,4,5]\n",
    "ans=[]\n",
    "for i in range(len(l)):\n",
    "    mul=1\n",
    "    for j in range(0, len(l)):\n",
    "        if j!=i:\n",
    "            mul*=l[j]\n",
    "    ans.append(mul)\n",
    "ans    "
   ]
  },
  {
   "cell_type": "code",
   "execution_count": 27,
   "id": "b2b40a59",
   "metadata": {},
   "outputs": [
    {
     "data": {
      "text/plain": [
       "[1200, 480, 800, 300, 240]"
      ]
     },
     "execution_count": 27,
     "metadata": {},
     "output_type": "execute_result"
    }
   ],
   "source": [
    "# More Optimize way without using nested loop\n",
    "\n",
    "l=[2,5,3,8,10]\n",
    "mul=1\n",
    "for i in l:\n",
    "    mul*=i\n",
    "ans=[]    \n",
    "for i in l:\n",
    "    ans.append(mul//i)\n",
    "ans    \n"
   ]
  },
  {
   "cell_type": "code",
   "execution_count": null,
   "id": "29b2a4fc",
   "metadata": {},
   "outputs": [],
   "source": []
  },
  {
   "cell_type": "markdown",
   "id": "6e801fee",
   "metadata": {},
   "source": [
    "## Accolite Company"
   ]
  },
  {
   "cell_type": "markdown",
   "id": "cc9c10f1",
   "metadata": {},
   "source": [
    "Pattern\n",
    "     *\n",
    "    *#\n",
    "   *#* \n",
    "  *#*#"
   ]
  },
  {
   "cell_type": "code",
   "execution_count": 35,
   "id": "084bb132",
   "metadata": {},
   "outputs": [
    {
     "name": "stdout",
     "output_type": "stream",
     "text": [
      "   *\n",
      "  *#\n",
      " *#*\n",
      "*#*#\n"
     ]
    }
   ],
   "source": [
    "n=4\n",
    "for i in range(n):\n",
    "    print(' '*(n-(i+1)), end=\"\")\n",
    "    a=1\n",
    "    for j in range(i+1, 0, -1):\n",
    "        if a%2!=0:\n",
    "            print('*',end='')\n",
    "        else:\n",
    "            print('#',end='')\n",
    "        a=a+1    \n",
    "    print()    "
   ]
  },
  {
   "cell_type": "code",
   "execution_count": null,
   "id": "ffa83ce8",
   "metadata": {},
   "outputs": [],
   "source": []
  },
  {
   "cell_type": "code",
   "execution_count": null,
   "id": "f83fe9c1",
   "metadata": {},
   "outputs": [],
   "source": []
  },
  {
   "cell_type": "code",
   "execution_count": null,
   "id": "2ba15f5f",
   "metadata": {},
   "outputs": [],
   "source": []
  },
  {
   "cell_type": "markdown",
   "id": "3f3c6435",
   "metadata": {},
   "source": [
    "l= [\"2345\", \"ab\", \"x\", \"456\"]\n",
    "Display in ascending order based on their length\n"
   ]
  },
  {
   "cell_type": "code",
   "execution_count": 1,
   "id": "20fb96e1",
   "metadata": {},
   "outputs": [
    {
     "data": {
      "text/plain": [
       "['x', 'ab', '456', '2345']"
      ]
     },
     "execution_count": 1,
     "metadata": {},
     "output_type": "execute_result"
    }
   ],
   "source": [
    "l= [\"2345\", \"ab\", \"x\", \"456\"]\n",
    "\n",
    "for i in range(1,len(l)):\n",
    "    for j in range(i-1, -1, -1):\n",
    "        if len(l[i])<len(l[j]):\n",
    "            l[i], l[j]= l[j], l[i]\n",
    "            i=i-1\n",
    "l            \n"
   ]
  },
  {
   "cell_type": "code",
   "execution_count": null,
   "id": "d5e516db",
   "metadata": {},
   "outputs": [],
   "source": []
  },
  {
   "cell_type": "code",
   "execution_count": null,
   "id": "a6031663",
   "metadata": {},
   "outputs": [],
   "source": []
  },
  {
   "cell_type": "code",
   "execution_count": null,
   "id": "d95c5ec7",
   "metadata": {},
   "outputs": [],
   "source": []
  },
  {
   "cell_type": "code",
   "execution_count": null,
   "id": "56a77c05",
   "metadata": {},
   "outputs": [],
   "source": []
  }
 ],
 "metadata": {
  "kernelspec": {
   "display_name": "Python 3",
   "language": "python",
   "name": "python3"
  },
  "language_info": {
   "codemirror_mode": {
    "name": "ipython",
    "version": 3
   },
   "file_extension": ".py",
   "mimetype": "text/x-python",
   "name": "python",
   "nbconvert_exporter": "python",
   "pygments_lexer": "ipython3",
   "version": "3.7.3"
  }
 },
 "nbformat": 4,
 "nbformat_minor": 5
}
