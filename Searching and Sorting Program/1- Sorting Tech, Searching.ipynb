{
 "cells": [
  {
   "cell_type": "markdown",
   "id": "a09a90fc",
   "metadata": {},
   "source": [
    "## Bubble Sort\n",
    "\n",
    "\n"
   ]
  },
  {
   "cell_type": "code",
   "execution_count": null,
   "id": "0be79528",
   "metadata": {},
   "outputs": [],
   "source": [
    "arr=[12,54,65,7,23,9]\n",
    "\n",
    "print(f\"Array Before Sorting {arr}\")\n",
    "\n",
    "for i in range(0, len(arr)-1, 1):\n",
    "    for j in range(0, len(arr)-i-1, 1):\n",
    "        if arr[j]>arr[j+1]:\n",
    "            arr[j], arr[j+1]= arr[j+1], arr[j]\n",
    "print(f\"Array After Sorting {arr}\")"
   ]
  },
  {
   "cell_type": "code",
   "execution_count": null,
   "id": "1c8bfaa7",
   "metadata": {},
   "outputs": [],
   "source": []
  },
  {
   "cell_type": "markdown",
   "id": "3504ba48",
   "metadata": {},
   "source": [
    "## Insertion Sort"
   ]
  },
  {
   "cell_type": "code",
   "execution_count": null,
   "id": "ea8791cb",
   "metadata": {},
   "outputs": [],
   "source": [
    "arr=[12,54,65,7,23,9]\n",
    "\n",
    "print(f\"Array before Sorting {arr}\")\n",
    "for i in range(1,len(arr)):\n",
    "    for j in range(i-1,-1,-1):\n",
    "        if arr[i]<arr[j]:\n",
    "            arr[i], arr[j]= arr[j], arr[i]\n",
    "            i=i-1\n",
    "        else:\n",
    "            break\n",
    "print(f\"Array After Sorting {arr}\")"
   ]
  },
  {
   "cell_type": "code",
   "execution_count": 4,
   "id": "453dff5c",
   "metadata": {},
   "outputs": [
    {
     "name": "stdout",
     "output_type": "stream",
     "text": [
      "Array After Sorting : [-1, 7, 9, 9, 12, 23, 54, 65, 99, 457]\n"
     ]
    }
   ],
   "source": [
    "#Insertion sort\n",
    "\n",
    "arr=[12,54,65,7,23,99, -1, 9,457, 9]\n",
    "\n",
    "\n",
    "for i in range(1, len(arr),1):\n",
    "    for j in range(i-1, -1, -1):\n",
    "        if arr[i]<arr[j]:\n",
    "            arr[i], arr[j]= arr[j], arr[i]\n",
    "            i=i-1\n",
    "        else:\n",
    "            break\n",
    "print(f\"Array After Sorting : {arr}\")            \n",
    "\n"
   ]
  },
  {
   "cell_type": "markdown",
   "id": "e20e8b35",
   "metadata": {},
   "source": [
    "# ---------------------------------------------Searching---------------------------------------------"
   ]
  },
  {
   "cell_type": "code",
   "execution_count": null,
   "id": "f8e84a80",
   "metadata": {},
   "outputs": [],
   "source": []
  },
  {
   "cell_type": "markdown",
   "id": "dc4b682e",
   "metadata": {},
   "source": [
    "## Binary Search\n",
    "\n",
    "### Only applied on sorted array"
   ]
  },
  {
   "cell_type": "markdown",
   "id": "d2a99823",
   "metadata": {},
   "source": [
    "Steps:\n",
    "    1: Find mid index => mid=(low+high)/2\n",
    "    \n",
    "    2: if a[mid]==key => Return mid\n",
    "    \n",
    "    3: if key>a[mid]  => Neglect Left Hand Side Element\n",
    "    \n",
    "    4: if key<a[mid]  => Neglect Right Hand Side Element\n",
    "    \n",
    "    "
   ]
  },
  {
   "cell_type": "code",
   "execution_count": null,
   "id": "6a70e06d",
   "metadata": {},
   "outputs": [],
   "source": [
    "arr=[7, 9, 12, 23, 54, 65]\n",
    "key=23#item to find\n",
    "low=0\n",
    "high=len(arr)-1\n",
    "\n",
    "while low<=high:\n",
    "    mid= (low+high)//2\n",
    "    if arr[mid]==key:\n",
    "        print(f\"Index no of key {key} is : {mid}\")\n",
    "        break\n",
    "    elif arr[mid]<key:\n",
    "        low=mid+1\n",
    "    else:\n",
    "        high=mid-1\n",
    "        "
   ]
  },
  {
   "cell_type": "code",
   "execution_count": 1,
   "id": "1588df78",
   "metadata": {},
   "outputs": [
    {
     "name": "stdout",
     "output_type": "stream",
     "text": [
      "Element 23 is present at position 3\n"
     ]
    }
   ],
   "source": [
    "arr=[7,9,12,23,54,65]\n",
    "\n",
    "key=23\n",
    "\n",
    "l=0\n",
    "h=len(arr)-1\n",
    "\n",
    "while l<=h:\n",
    "    m=(l+h)//2\n",
    "    if arr[m]==key:\n",
    "        print(f\"Element {key} is present at position {m}\")\n",
    "        break\n",
    "    elif arr[m]<key:\n",
    "        l=m+1\n",
    "    else:\n",
    "        h=m-1\n",
    "        "
   ]
  },
  {
   "cell_type": "code",
   "execution_count": null,
   "id": "aabdffe4",
   "metadata": {},
   "outputs": [],
   "source": []
  },
  {
   "cell_type": "code",
   "execution_count": null,
   "id": "74d64bdb",
   "metadata": {},
   "outputs": [],
   "source": []
  },
  {
   "cell_type": "code",
   "execution_count": null,
   "id": "664fa088",
   "metadata": {},
   "outputs": [],
   "source": []
  },
  {
   "cell_type": "code",
   "execution_count": null,
   "id": "3ce8d88e",
   "metadata": {},
   "outputs": [],
   "source": []
  },
  {
   "cell_type": "code",
   "execution_count": 4,
   "id": "157f3e61",
   "metadata": {},
   "outputs": [
    {
     "name": "stdout",
     "output_type": "stream",
     "text": [
      "Element is present at Location: 2\n"
     ]
    }
   ],
   "source": [
    "# Let's do this by Recursion\n",
    "\n",
    "def srch(arr,k,l,h):\n",
    "    mid=(l+h)//2\n",
    "    if l>h:\n",
    "        print(f\"Element {k} is not present in array\")\n",
    "        return \n",
    "    if arr[mid]==k:\n",
    "        print(f\"Element is present at Location: {mid}\")\n",
    "\n",
    "    elif arr[mid]<k:\n",
    "        l=mid+1\n",
    "        srch(arr,k,l,h)\n",
    "    else:\n",
    "        h=mid-1\n",
    "        srch(arr,k,l,h)\n",
    "arr=[7, 9, 12, 23, 54, 65]\n",
    "key=12#item to find\n",
    "low=0\n",
    "high=len(arr)-1\n",
    "srch(arr,key,low,high)"
   ]
  },
  {
   "cell_type": "code",
   "execution_count": null,
   "id": "f5d35d1d",
   "metadata": {},
   "outputs": [],
   "source": []
  },
  {
   "cell_type": "code",
   "execution_count": null,
   "id": "56013420",
   "metadata": {},
   "outputs": [],
   "source": []
  },
  {
   "cell_type": "code",
   "execution_count": null,
   "id": "36551c6d",
   "metadata": {},
   "outputs": [],
   "source": []
  }
 ],
 "metadata": {
  "kernelspec": {
   "display_name": "Python 3",
   "language": "python",
   "name": "python3"
  },
  "language_info": {
   "codemirror_mode": {
    "name": "ipython",
    "version": 3
   },
   "file_extension": ".py",
   "mimetype": "text/x-python",
   "name": "python",
   "nbconvert_exporter": "python",
   "pygments_lexer": "ipython3",
   "version": "3.7.3"
  }
 },
 "nbformat": 4,
 "nbformat_minor": 5
}
